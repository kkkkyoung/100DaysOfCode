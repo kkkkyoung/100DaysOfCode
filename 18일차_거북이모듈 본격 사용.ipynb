{
 "cells": [
  {
   "cell_type": "markdown",
   "id": "a38945d6",
   "metadata": {},
   "source": [
    "# 거북이 모듈 사용\n",
    "https://docs.python.org/3/library/turtle.html"
   ]
  },
  {
   "cell_type": "code",
   "execution_count": null,
   "id": "ba0d298c",
   "metadata": {},
   "outputs": [],
   "source": [
    "from turtle import Turtle, Screen\n",
    "timmy = Turtle()\n",
    "timmy.shape(\"turtle\")\n",
    "timmy.color(\"red\")\n",
    "timmy.forward(100)\n",
    "timmy.right(90)\n",
    "screen = Screen()\n",
    "screen.exitonclick()  # 클릭할 떄까지 창이 떠있음"
   ]
  },
  {
   "cell_type": "code",
   "execution_count": null,
   "id": "3229b6f1",
   "metadata": {},
   "outputs": [],
   "source": [
    "# 직사각형 그리기\n",
    "from turtle import Turtle, Screen\n",
    "timmy = Turtle()\n",
    "for _ in range(4):\n",
    "    timmy.forward(100)\n",
    "    timmy.left(90)\n",
    "screen = Screen()  \n",
    "screen.exitonclick()"
   ]
  },
  {
   "cell_type": "code",
   "execution_count": null,
   "id": "4c72a81f",
   "metadata": {},
   "outputs": [],
   "source": [
    "# 점선으로 된 직선 그리기\n",
    "from turtle import Turtle, Screen\n",
    "timmy = Turtle()\n",
    "\n",
    "for _ in range(15):\n",
    "    timmy.forward(10)\n",
    "    timmy.penup()\n",
    "    timmy.forward(10)\n",
    "    timmy.pendown()    \n",
    "    \n",
    "screen = Screen()  \n",
    "screen.exitonclick()"
   ]
  },
  {
   "cell_type": "code",
   "execution_count": null,
   "id": "23f76020",
   "metadata": {},
   "outputs": [],
   "source": [
    "# 도형 그리기 - 오각형\n",
    "from turtle import Turtle, Screen\n",
    "timmy = Turtle()\n",
    "\n",
    "num_sides = 5\n",
    "for _ in range(num_sides):\n",
    "    angle = 360 / num_sides\n",
    "    timmy.forward(100)\n",
    "    timmy.right(angle)\n"
   ]
  },
  {
   "cell_type": "code",
   "execution_count": null,
   "id": "7f4ce608",
   "metadata": {},
   "outputs": [],
   "source": [
    "# 다양한 도형 그리기\n",
    "\n",
    "from turtle import Turtle, Screen\n",
    "import random\n",
    "timmy = Turtle()\n",
    "colors = [\"CornflowerBlue\", \"DarkOrchid\", \"IndianRed\", \"DeepSkyBlue\", \"LightSeaGreen\", \"wheat\", \"SlateGray\", \"SeaGreen\"]\n",
    "\n",
    "def draw_shape(num_sides):\n",
    "    angle = 360 / num_sides\n",
    "    for _ in range(num_sides):\n",
    "        timmy.forward(100)\n",
    "        timmy.right(angle)\n",
    "\n",
    "for shape_side_n in range(3, 11):\n",
    "    timmy.color(random.choice(colors))\n",
    "    draw_shape(shape_side_n)"
   ]
  },
  {
   "cell_type": "code",
   "execution_count": null,
   "id": "eb585912",
   "metadata": {},
   "outputs": [],
   "source": [
    "# random walk 구현하기\n",
    "\n",
    "from turtle import Turtle, Screen\n",
    "import random\n",
    "timmy = Turtle()\n",
    "colors = [\"CornflowerBlue\", \"DarkOrchid\", \"IndianRed\", \"DeepSkyBlue\", \"LightSeaGreen\", \"wheat\", \"SlateGray\", \"SeaGreen\"]\n",
    "directions = [0, 90, 180, 270]\n",
    "timmy.pensize(15)\n",
    "timmy.speed(\"fastest\")\n",
    "\n",
    "for _ in range(200):\n",
    "    timmy.color(random.choice(colors))\n",
    "    timmy.forward(30)\n",
    "    timmy.setheading(random.choice(directions))\n"
   ]
  },
  {
   "cell_type": "code",
   "execution_count": null,
   "id": "608cc755",
   "metadata": {},
   "outputs": [],
   "source": [
    "# random walk 구현하기 - 색상 random\n",
    "\n",
    "import turtle as t\n",
    "import random\n",
    "timmy = t.Turtle()\n",
    "t.colormode(255)\n",
    "\n",
    "def random_color():\n",
    "    r = random.randint(0, 255)\n",
    "    g = random.randint(0, 255)\n",
    "    b = random.randint(0, 255)\n",
    "    random_color = (r, g, b)\n",
    "    return random_color    \n",
    "\n",
    "directions = [0, 90, 180, 270]\n",
    "timmy.pensize(15)\n",
    "timmy.speed(\"fastest\")\n",
    "\n",
    "for _ in range(200):\n",
    "    timmy.color(random_color())\n",
    "    timmy.forward(30)\n",
    "    timmy.setheading(random.choice(directions))\n"
   ]
  },
  {
   "cell_type": "code",
   "execution_count": null,
   "id": "58beb6be",
   "metadata": {},
   "outputs": [],
   "source": [
    "# 스피로그래프 그리기\n",
    "\n",
    "import turtle as t\n",
    "import random\n",
    "timmy = t.Turtle()\n",
    "t.colormode(255)\n",
    "\n",
    "def random_color():\n",
    "    r = random.randint(0, 255)\n",
    "    g = random.randint(0, 255)\n",
    "    b = random.randint(0, 255)\n",
    "    color = (r, g, b)\n",
    "    return color    \n",
    "\n",
    "timmy.speed(\"fastest\")\n",
    "\n",
    "def draw_spirograph(size):\n",
    "    for _ in range(int(360/size)):\n",
    "        timmy.color(random_color())\n",
    "        timmy.circle(100) # 반지름\n",
    "        timmy.setheading(timmy.heading()+size)\n",
    "\n",
    "draw_spirograph(5)\n",
    "\n",
    "screen = t.Screen()  \n",
    "screen.exitonclick()"
   ]
  },
  {
   "cell_type": "code",
   "execution_count": null,
   "id": "5b9caa61",
   "metadata": {},
   "outputs": [],
   "source": [
    "# 이미지에서 RGB 추출해서 점 그리기\n",
    "# pip install colorgram.py\n",
    "\n",
    "import colorgram\n",
    "\n",
    "rgb_colors = []\n",
    "colors = colorgram.extract('art_image.jpg', 30) # 이미지에서 30개 색 추출\n",
    "for color in colors:\n",
    "    r = color.rgb.r\n",
    "    g = color.rgb.g\n",
    "    b = color.rgb.b\n",
    "    new_color = (r, g, b)\n",
    "    rgb_colors.append(new_color)\n",
    "    \n",
    "print(rgb_colors)"
   ]
  },
  {
   "cell_type": "code",
   "execution_count": null,
   "id": "19541936",
   "metadata": {},
   "outputs": [],
   "source": [
    "import turtle as t\n",
    "import random\n",
    "\n",
    "t.colormode(255)\n",
    "tim = t.Turtle()\n",
    "tim.speed(\"fastest\")\n",
    "tim.penup()\n",
    "tim.hideturtle()\n",
    "color_list = [(234, 233, 231), (238, 231, 234), (229, 233, 240), (225, 236, 230), (220, 158, 87), (36, 101, 147), (15, 47, 81), (162, 14, 45), (228, 210, 101), (127, 178, 202), (165, 89, 30), (202, 165, 19), (204, 133, 159), (126, 194, 144), (177, 46, 83), (40, 55, 113), (34, 139, 53), (205, 85, 104), (96, 7, 43), (226, 80, 52), (73, 24, 14), (148, 214, 174), (41, 183, 133), (146, 208, 220), (5, 83, 115), (226, 170, 184), (25, 117, 33), (31, 164, 181), (101, 108, 166), (86, 74, 30)]\n",
    "\n",
    "tim.setheading(225)\n",
    "tim.forward(300)\n",
    "tim.setheading(0)\n",
    "number_of_dots = 100\n",
    "\n",
    "for dot_count in range(1, number_of_dots+1):\n",
    "    tim.dot(20, random.choice(color_list))\n",
    "    tim.forward(50)\n",
    "    \n",
    "    if dot_count % 10 == 0:\n",
    "        tim.setheading(90)\n",
    "        tim.forward(50)\n",
    "        tim.setheading(180)\n",
    "        tim.forward(500)\n",
    "        tim.setheading(0)\n",
    "\n",
    "screen = t.Screen()  \n",
    "screen.exitonclick()"
   ]
  },
  {
   "cell_type": "code",
   "execution_count": null,
   "id": "2034f1b3",
   "metadata": {},
   "outputs": [],
   "source": []
  },
  {
   "cell_type": "code",
   "execution_count": null,
   "id": "86d429a8",
   "metadata": {},
   "outputs": [],
   "source": []
  },
  {
   "cell_type": "code",
   "execution_count": null,
   "id": "43b9c651",
   "metadata": {},
   "outputs": [],
   "source": []
  },
  {
   "cell_type": "code",
   "execution_count": null,
   "id": "baf51224",
   "metadata": {},
   "outputs": [],
   "source": []
  }
 ],
 "metadata": {
  "kernelspec": {
   "display_name": "Python 3 (ipykernel)",
   "language": "python",
   "name": "python3"
  },
  "language_info": {
   "codemirror_mode": {
    "name": "ipython",
    "version": 3
   },
   "file_extension": ".py",
   "mimetype": "text/x-python",
   "name": "python",
   "nbconvert_exporter": "python",
   "pygments_lexer": "ipython3",
   "version": "3.9.12"
  }
 },
 "nbformat": 4,
 "nbformat_minor": 5
}
