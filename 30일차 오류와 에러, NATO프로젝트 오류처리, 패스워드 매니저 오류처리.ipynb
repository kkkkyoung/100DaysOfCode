{
 "cells": [
  {
   "cell_type": "markdown",
   "id": "4c8fbaef",
   "metadata": {},
   "source": [
    "# 1. 오류와 에러"
   ]
  },
  {
   "cell_type": "code",
   "execution_count": null,
   "id": "9f2334e2",
   "metadata": {},
   "outputs": [],
   "source": [
    "try 예외를 일으킬수 있는 코드\n",
    "except 예외가 있다면 실행할 코드\n",
    "else 문제가 없을때 실행할 코드\n",
    "finally 실패나 성공에 상관없이 무조건 실행할 코드"
   ]
  },
  {
   "cell_type": "code",
   "execution_count": 1,
   "id": "8daa93b7",
   "metadata": {},
   "outputs": [
    {
     "name": "stdout",
     "output_type": "stream",
     "text": [
      "에러입니다\n"
     ]
    }
   ],
   "source": [
    "try:\n",
    "    file = open(\"a_file.txt\") # 없는 파일\n",
    "except:\n",
    "    print(\"에러입니다\")"
   ]
  },
  {
   "cell_type": "code",
   "execution_count": 3,
   "id": "074c281b",
   "metadata": {},
   "outputs": [],
   "source": [
    "try:\n",
    "    file = open(\"a_file.txt\") \n",
    "    a_dic={\"key\":\"value\"}\n",
    "    print(a_dic[\"asdf\"])\n",
    "except: \n",
    "# 이렇게만 쓰면 try에서 몇개의 에러가 나와도 전부 포함해서 처리가 되므로 에러문구가 안뜸\n",
    "    file = open(\"a_file.txt\",\"w\") # 없는 파일이면 생성\n",
    "    file.write(\"something\")"
   ]
  },
  {
   "cell_type": "code",
   "execution_count": 4,
   "id": "aecb6053",
   "metadata": {},
   "outputs": [
    {
     "ename": "KeyError",
     "evalue": "'asdf'",
     "output_type": "error",
     "traceback": [
      "\u001b[1;31m---------------------------------------------------------------------------\u001b[0m",
      "\u001b[1;31mKeyError\u001b[0m                                  Traceback (most recent call last)",
      "Cell \u001b[1;32mIn [4], line 4\u001b[0m\n\u001b[0;32m      2\u001b[0m     file \u001b[38;5;241m=\u001b[39m \u001b[38;5;28mopen\u001b[39m(\u001b[38;5;124m\"\u001b[39m\u001b[38;5;124ma_file.txt\u001b[39m\u001b[38;5;124m\"\u001b[39m) \n\u001b[0;32m      3\u001b[0m     a_dic\u001b[38;5;241m=\u001b[39m{\u001b[38;5;124m\"\u001b[39m\u001b[38;5;124mkey\u001b[39m\u001b[38;5;124m\"\u001b[39m:\u001b[38;5;124m\"\u001b[39m\u001b[38;5;124mvalue\u001b[39m\u001b[38;5;124m\"\u001b[39m}\n\u001b[1;32m----> 4\u001b[0m     \u001b[38;5;28mprint\u001b[39m(\u001b[43ma_dic\u001b[49m\u001b[43m[\u001b[49m\u001b[38;5;124;43m\"\u001b[39;49m\u001b[38;5;124;43masdf\u001b[39;49m\u001b[38;5;124;43m\"\u001b[39;49m\u001b[43m]\u001b[49m)\n\u001b[0;32m      5\u001b[0m \u001b[38;5;28;01mexcept\u001b[39;00m \u001b[38;5;167;01mFileNotFoundError\u001b[39;00m: \n\u001b[0;32m      6\u001b[0m     file \u001b[38;5;241m=\u001b[39m \u001b[38;5;28mopen\u001b[39m(\u001b[38;5;124m\"\u001b[39m\u001b[38;5;124ma_file.txt\u001b[39m\u001b[38;5;124m\"\u001b[39m,\u001b[38;5;124m\"\u001b[39m\u001b[38;5;124mw\u001b[39m\u001b[38;5;124m\"\u001b[39m) \n",
      "\u001b[1;31mKeyError\u001b[0m: 'asdf'"
     ]
    }
   ],
   "source": [
    "try:\n",
    "    file = open(\"a_file.txt\") \n",
    "    a_dic={\"key\":\"value\"}\n",
    "    print(a_dic[\"asdf\"])\n",
    "except FileNotFoundError: \n",
    "    file = open(\"a_file.txt\",\"w\") \n",
    "    file.write(\"something\")"
   ]
  },
  {
   "cell_type": "code",
   "execution_count": 5,
   "id": "2a5afd0c",
   "metadata": {},
   "outputs": [
    {
     "name": "stdout",
     "output_type": "stream",
     "text": [
      "key가 없습니다\n"
     ]
    }
   ],
   "source": [
    "try:\n",
    "    file = open(\"a_file.txt\") \n",
    "    a_dic={\"key\":\"value\"}\n",
    "    print(a_dic[\"asdf\"])\n",
    "    \n",
    "except FileNotFoundError: \n",
    "    file = open(\"a_file.txt\",\"w\") \n",
    "    file.write(\"something\")\n",
    "\n",
    "except KeyError:\n",
    "    print(\"key가 없습니다\")"
   ]
  },
  {
   "cell_type": "code",
   "execution_count": 6,
   "id": "ca606999",
   "metadata": {},
   "outputs": [
    {
     "name": "stdout",
     "output_type": "stream",
     "text": [
      "key 'asdf'가 없습니다\n"
     ]
    }
   ],
   "source": [
    "try:\n",
    "    file = open(\"a_file.txt\") \n",
    "    a_dic={\"key\":\"value\"}\n",
    "    print(a_dic[\"asdf\"])\n",
    "    \n",
    "except FileNotFoundError: \n",
    "    file = open(\"a_file.txt\",\"w\") \n",
    "    file.write(\"something\")\n",
    "    \n",
    "except KeyError as error_messgae:\n",
    "    print(f\"key {error_messgae}가 없습니다\")"
   ]
  },
  {
   "cell_type": "code",
   "execution_count": 8,
   "id": "ed73103e",
   "metadata": {},
   "outputs": [
    {
     "name": "stdout",
     "output_type": "stream",
     "text": [
      "value\n",
      "something\n"
     ]
    }
   ],
   "source": [
    "try:\n",
    "    file = open(\"a_file.txt\") \n",
    "    a_dic={\"key\":\"value\"}\n",
    "    print(a_dic[\"key\"])\n",
    "    \n",
    "except FileNotFoundError: \n",
    "    file = open(\"a_file.txt\",\"w\") \n",
    "    file.write(\"something\")\n",
    "    \n",
    "except KeyError as error_messgae:\n",
    "    print(f\"key {error_messgae}가 없습니다\")\n",
    "else:\n",
    "    content = file.read() # 파일이 없으면 except에서 파일이 생성되고 종료\n",
    "    print(content)        # 파일이 있으면 else 실행"
   ]
  },
  {
   "cell_type": "code",
   "execution_count": 9,
   "id": "325b1ca0",
   "metadata": {},
   "outputs": [
    {
     "name": "stdout",
     "output_type": "stream",
     "text": [
      "value\n",
      "something\n",
      "파일이 닫혔습니다\n"
     ]
    }
   ],
   "source": [
    "try:\n",
    "    file = open(\"a_file.txt\") \n",
    "    a_dic={\"key\":\"value\"}\n",
    "    print(a_dic[\"key\"])\n",
    "    \n",
    "except FileNotFoundError: \n",
    "    file = open(\"a_file.txt\",\"w\") \n",
    "    file.write(\"something\")\n",
    "    \n",
    "except KeyError as error_messgae:\n",
    "    print(f\"key {error_messgae}가 없습니다\")\n",
    "else:\n",
    "    content = file.read() \n",
    "    print(content)        \n",
    "finally:\n",
    "    file.close()\n",
    "    print(\"파일이 닫혔습니다\")"
   ]
  },
  {
   "cell_type": "markdown",
   "id": "c2bdaf64",
   "metadata": {},
   "source": [
    "# 2. 나만의 예외 생성하기\n",
    "## - raise"
   ]
  },
  {
   "cell_type": "code",
   "execution_count": 13,
   "id": "4264f851",
   "metadata": {},
   "outputs": [
    {
     "name": "stdout",
     "output_type": "stream",
     "text": [
      "value\n",
      "something\n"
     ]
    },
    {
     "ename": "TypeError",
     "evalue": "내가 만든 에러",
     "output_type": "error",
     "traceback": [
      "\u001b[1;31m---------------------------------------------------------------------------\u001b[0m",
      "\u001b[1;31mTypeError\u001b[0m                                 Traceback (most recent call last)",
      "Cell \u001b[1;32mIn [13], line 16\u001b[0m\n\u001b[0;32m     14\u001b[0m     \u001b[38;5;28mprint\u001b[39m(content)        \n\u001b[0;32m     15\u001b[0m \u001b[38;5;28;01mfinally\u001b[39;00m:\n\u001b[1;32m---> 16\u001b[0m     \u001b[38;5;28;01mraise\u001b[39;00m \u001b[38;5;167;01mTypeError\u001b[39;00m(\u001b[38;5;124m\"\u001b[39m\u001b[38;5;124m내가 만든 에러\u001b[39m\u001b[38;5;124m\"\u001b[39m)\n",
      "\u001b[1;31mTypeError\u001b[0m: 내가 만든 에러"
     ]
    }
   ],
   "source": [
    "try:\n",
    "    file = open(\"a_file.txt\") \n",
    "    a_dic={\"key\":\"value\"}\n",
    "    print(a_dic[\"key\"])\n",
    "    \n",
    "except FileNotFoundError: \n",
    "    file = open(\"a_file.txt\",\"w\") \n",
    "    file.write(\"something\")\n",
    "    \n",
    "except KeyError as error_messgae:\n",
    "    print(f\"key {error_messgae}가 없습니다\")\n",
    "else:\n",
    "    content = file.read() \n",
    "    print(content)        \n",
    "finally:\n",
    "    raise TypeError(\"내가 만든 에러\")"
   ]
  },
  {
   "cell_type": "code",
   "execution_count": 14,
   "id": "35dab3f9",
   "metadata": {
    "scrolled": true
   },
   "outputs": [
    {
     "name": "stdout",
     "output_type": "stream",
     "text": [
      "height: 30\n",
      "weight: 30\n"
     ]
    },
    {
     "ename": "ValueError",
     "evalue": "사람의 키는 3미터를 넘을 수 없습니다",
     "output_type": "error",
     "traceback": [
      "\u001b[1;31m---------------------------------------------------------------------------\u001b[0m",
      "\u001b[1;31mValueError\u001b[0m                                Traceback (most recent call last)",
      "Cell \u001b[1;32mIn [14], line 5\u001b[0m\n\u001b[0;32m      2\u001b[0m weight \u001b[38;5;241m=\u001b[39m \u001b[38;5;28mint\u001b[39m(\u001b[38;5;28minput\u001b[39m(\u001b[38;5;124m\"\u001b[39m\u001b[38;5;124mweight: \u001b[39m\u001b[38;5;124m\"\u001b[39m))\n\u001b[0;32m      4\u001b[0m \u001b[38;5;28;01mif\u001b[39;00m height \u001b[38;5;241m>\u001b[39m \u001b[38;5;241m3\u001b[39m:\n\u001b[1;32m----> 5\u001b[0m     \u001b[38;5;28;01mraise\u001b[39;00m \u001b[38;5;167;01mValueError\u001b[39;00m(\u001b[38;5;124m\"\u001b[39m\u001b[38;5;124m사람의 키는 3미터를 넘을 수 없습니다\u001b[39m\u001b[38;5;124m\"\u001b[39m)\n\u001b[0;32m      7\u001b[0m bmi \u001b[38;5;241m=\u001b[39m weight \u001b[38;5;241m/\u001b[39m height \u001b[38;5;241m*\u001b[39m\u001b[38;5;241m*\u001b[39m \u001b[38;5;241m2\u001b[39m\n\u001b[0;32m      8\u001b[0m \u001b[38;5;28mprint\u001b[39m(bmi)\n",
      "\u001b[1;31mValueError\u001b[0m: 사람의 키는 3미터를 넘을 수 없습니다"
     ]
    }
   ],
   "source": [
    "height = float(input(\"height: \"))\n",
    "weight = int(input(\"weight: \"))\n",
    "\n",
    "if height > 3:\n",
    "    raise ValueError(\"사람의 키는 3미터를 넘을 수 없습니다\")\n",
    "\n",
    "bmi = weight / height ** 2\n",
    "print(bmi)"
   ]
  },
  {
   "cell_type": "markdown",
   "id": "ec4ad9c3",
   "metadata": {},
   "source": [
    "# 3. NATO 알파벳 프로젝트 예외처리"
   ]
  },
  {
   "cell_type": "code",
   "execution_count": 66,
   "id": "795393a0",
   "metadata": {},
   "outputs": [
    {
     "name": "stdout",
     "output_type": "stream",
     "text": [
      "{'A': 'Alfa', 'B': 'Bravo', 'C': 'Charlie', 'D': 'Delta', 'E': 'Echo', 'F': 'Foxtrot', 'G': 'Golf', 'H': 'Hotel', 'I': 'India', 'J': 'Juliet', 'K': 'Kilo', 'L': 'Lima', 'M': 'Mike', 'N': 'November', 'O': 'Oscar', 'P': 'Papa', 'Q': 'Quebec', 'R': 'Romeo', 'S': 'Sierra', 'T': 'Tango', 'U': 'Uniform', 'V': 'Victor', 'W': 'Whiskey', 'X': 'X-ray', 'Y': 'Yankee', 'Z': 'Zulu'}\n",
      "Enter a word: 123\n",
      "Sorry, only letters in the alphabet please.\n",
      "Enter a word: ㅏㅣ235\n",
      "Sorry, only letters in the alphabet please.\n",
      "Enter a word: red\n",
      "['Romeo', 'Echo', 'Delta']\n"
     ]
    }
   ],
   "source": [
    "import pandas\n",
    "\n",
    "data = pandas.read_csv(\"nato_phonetic_alphabet_30.csv\")\n",
    "\n",
    "phonetic_dict = {row.letter: row.code for (index, row) in data.iterrows()}\n",
    "print(phonetic_dict)\n",
    "\n",
    "def generate_phonetic():\n",
    "    word = input(\"Enter a word: \").upper()\n",
    "    try:\n",
    "        output_list = [phonetic_dict[letter] for letter in word]\n",
    "    except KeyError:\n",
    "        print(\"Sorry, only letters in the alphabet please.\")\n",
    "        generate_phonetic()\n",
    "    else:\n",
    "        print(output_list)\n",
    "\n",
    "generate_phonetic()"
   ]
  },
  {
   "cell_type": "markdown",
   "id": "beaf7ae7",
   "metadata": {},
   "source": [
    "# 4. 패스워드 매니저 프로젝트 예외처리"
   ]
  },
  {
   "cell_type": "markdown",
   "id": "18761e3a",
   "metadata": {},
   "source": [
    "### json 데이터\n",
    "- wite : json.dump()\n",
    "- read : json.load()\n",
    "- update : json.update()"
   ]
  },
  {
   "cell_type": "code",
   "execution_count": 32,
   "id": "4156e6e4",
   "metadata": {},
   "outputs": [],
   "source": [
    "#1 - json 형식으로 데이터 저장\n",
    "\n",
    "from tkinter import *  # 클래스와 상수 임포트\n",
    "from tkinter import messagebox # 모듈\n",
    "from random import choice, randint, shuffle\n",
    "import pyperclip\n",
    "import json\n",
    "\n",
    "# ---------------------------- PASSWORD GENERATOR ------------------------------- #\n",
    "\n",
    "def generate_password():\n",
    "    letters = ['a', 'b', 'c', 'd', 'e', 'f', 'g', 'h', 'i', 'j', 'k', 'l', 'm', 'n', 'o', 'p', 'q', 'r', 's', 't', 'u', 'v', 'w', 'x', 'y', 'z', 'A', 'B', 'C', 'D', 'E', 'F', 'G', 'H', 'I', 'J', 'K', 'L', 'M', 'N', 'O', 'P', 'Q', 'R', 'S', 'T', 'U', 'V', 'W', 'X', 'Y', 'Z']\n",
    "    numbers = ['0', '1', '2', '3', '4', '5', '6', '7', '8', '9']\n",
    "    symbols = ['!', '#', '$', '%', '&', '(', ')', '*', '+']\n",
    "\n",
    "    password_letters = [choice(letters) for _ in range(randint(8, 10))]\n",
    "    password_symbols = [choice(symbols) for _ in range(randint(2, 4))]\n",
    "    password_numbers = [choice(numbers) for _ in range(randint(2, 4))]\n",
    "\n",
    "    password_list = password_letters + password_symbols + password_numbers\n",
    "    shuffle(password_list)\n",
    "\n",
    "    password = \"\".join(password_list)\n",
    "    password_entry.insert(0, password)\n",
    "    pyperclip.copy(password)\n",
    "  \n",
    " # ---------------------------- SAVE PASSWORD ------------------------------- #\n",
    "\n",
    "def save():\n",
    "    website = website_entry.get()\n",
    "    email = email_entry.get()\n",
    "    password = password_entry.get()\n",
    "    new_data = {\n",
    "        website : {\n",
    "            \"email\":email,\n",
    "            \"password\":password,\n",
    "        }\n",
    "    }\n",
    "    \n",
    "    if len(website) == 0 or len(password) == 0:\n",
    "        messagebox.showinfo(title=\"경고!\", message=\"모든 정보를 입력해 주세요\")\n",
    "    else:\n",
    "        with open(\"data.json\", \"r\") as data_file:\n",
    "            data = json.load(data_file) # 읽기\n",
    "            data.update(new_data) # 덮어쓰기, data에 새로운 데이터 넣기\n",
    "            \n",
    "        with open(\"data.json\",\"w\") as data_file:\n",
    "            json.dump(data, data_file, indent=4) # 쓰기, 파이썬 data를 data_file로 저장\n",
    "            website_entry.delete(0, END)\n",
    "            password_entry.delete(0, END)\n",
    "\n",
    "# ---------------------------- UI SETUP ------------------------------- #\n",
    "\n",
    "window = Tk()\n",
    "window.title(\"Password Manager\")\n",
    "window.config(padx=50, pady=50)\n",
    "\n",
    "canvas = Canvas(height=200, width=200)\n",
    "logo_img = PhotoImage(file=\"logo_29.png\")\n",
    "canvas.create_image(100,100,image=logo_img)\n",
    "canvas.grid(row=0, column=1)\n",
    "\n",
    "# 라벨\n",
    "website_label = Label(text = \"사이트명 :\")\n",
    "website_label.grid(row=1, column=0)\n",
    "email_label = Label(text = \"Email/아디 :\")\n",
    "email_label.grid(row=2, column=0)\n",
    "password_label = Label(text = \"Password :\")\n",
    "password_label.grid(row=3, column=0)\n",
    "\n",
    "# Entries\n",
    "website_entry = Entry(width=35)\n",
    "website_entry.grid(row=1, column=1, columnspan=2)\n",
    "website_entry.focus()\n",
    "email_entry = Entry(width=35)\n",
    "email_entry.grid(row=2, column=1, columnspan=2)\n",
    "email_entry.insert(0, \"test@naver.com\") # 시작:0, 끝:end\n",
    "password_entry = Entry(width=26)\n",
    "password_entry.grid(row=3, column=1)\n",
    "\n",
    "# 버튼\n",
    "generate_password_button = Button(text=\"p.w create\", width=7, command=generate_password)\n",
    "generate_password_button.grid(row=3, column=2)\n",
    "add_button = Button(text=\"Add\", width=36, command=save)\n",
    "add_button.grid(row=4, column=1, columnspan=2)\n",
    "\n",
    "window.mainloop()"
   ]
  },
  {
   "cell_type": "code",
   "execution_count": 34,
   "id": "07f05847",
   "metadata": {},
   "outputs": [],
   "source": [
    "# 2 json파일이 없을경우 처리\n",
    "\n",
    "from tkinter import *  # 클래스와 상수 임포트\n",
    "from tkinter import messagebox # 모듈\n",
    "from random import choice, randint, shuffle\n",
    "import pyperclip\n",
    "import json\n",
    "\n",
    "# ---------------------------- PASSWORD GENERATOR ------------------------------- #\n",
    "\n",
    "def generate_password():\n",
    "    letters = ['a', 'b', 'c', 'd', 'e', 'f', 'g', 'h', 'i', 'j', 'k', 'l', 'm', 'n', 'o', 'p', 'q', 'r', 's', 't', 'u', 'v', 'w', 'x', 'y', 'z', 'A', 'B', 'C', 'D', 'E', 'F', 'G', 'H', 'I', 'J', 'K', 'L', 'M', 'N', 'O', 'P', 'Q', 'R', 'S', 'T', 'U', 'V', 'W', 'X', 'Y', 'Z']\n",
    "    numbers = ['0', '1', '2', '3', '4', '5', '6', '7', '8', '9']\n",
    "    symbols = ['!', '#', '$', '%', '&', '(', ')', '*', '+']\n",
    "\n",
    "    password_letters = [choice(letters) for _ in range(randint(8, 10))]\n",
    "    password_symbols = [choice(symbols) for _ in range(randint(2, 4))]\n",
    "    password_numbers = [choice(numbers) for _ in range(randint(2, 4))]\n",
    "\n",
    "    password_list = password_letters + password_symbols + password_numbers\n",
    "    shuffle(password_list)\n",
    "\n",
    "    password = \"\".join(password_list)\n",
    "    password_entry.insert(0, password)\n",
    "    pyperclip.copy(password)\n",
    "  \n",
    " # ---------------------------- SAVE PASSWORD ------------------------------- #\n",
    "\n",
    "def save():\n",
    "    website = website_entry.get()\n",
    "    email = email_entry.get()\n",
    "    password = password_entry.get()\n",
    "    new_data = {\n",
    "        website : {\n",
    "            \"email\":email,\n",
    "            \"password\":password,\n",
    "        }\n",
    "    }\n",
    "    \n",
    "    if len(website) == 0 or len(password) == 0:\n",
    "        messagebox.showinfo(title=\"경고!\", message=\"모든 정보를 입력해 주세요\")\n",
    "    else:\n",
    "        try:\n",
    "            with open(\"data.json\", \"r\") as data_file:\n",
    "                data = json.load(data_file)\n",
    "                \n",
    "        except FileNotFoundError:  \n",
    "            # 파일이 없다면\n",
    "            with open(\"data.json\", \"w\") as data_file:\n",
    "                json.dump(new_data, data_file, indent=4)\n",
    "                \n",
    "        else: \n",
    "            # 파일이 있다면\n",
    "            data.update(new_data) # data내용 갱신\n",
    "            \n",
    "            with open(\"data.json\",\"w\") as data_file:\n",
    "                json.dump(data, data_file, indent=4) \n",
    "            \n",
    "        finally:\n",
    "            website_entry.delete(0, END)\n",
    "            password_entry.delete(0, END)\n",
    "\n",
    "# ---------------------------- UI SETUP ------------------------------- #\n",
    "\n",
    "window = Tk()\n",
    "window.title(\"Password Manager\")\n",
    "window.config(padx=50, pady=50)\n",
    "\n",
    "canvas = Canvas(height=200, width=200)\n",
    "logo_img = PhotoImage(file=\"logo_29.png\")\n",
    "canvas.create_image(100,100,image=logo_img)\n",
    "canvas.grid(row=0, column=1)\n",
    "\n",
    "# 라벨\n",
    "website_label = Label(text = \"사이트명 :\")\n",
    "website_label.grid(row=1, column=0)\n",
    "email_label = Label(text = \"Email/아디 :\")\n",
    "email_label.grid(row=2, column=0)\n",
    "password_label = Label(text = \"Password :\")\n",
    "password_label.grid(row=3, column=0)\n",
    "\n",
    "# Entries\n",
    "website_entry = Entry(width=35)\n",
    "website_entry.grid(row=1, column=1, columnspan=2)\n",
    "website_entry.focus()\n",
    "email_entry = Entry(width=35)\n",
    "email_entry.grid(row=2, column=1, columnspan=2)\n",
    "email_entry.insert(0, \"test@naver.com\") # 시작:0, 끝:end\n",
    "password_entry = Entry(width=26)\n",
    "password_entry.grid(row=3, column=1)\n",
    "\n",
    "# 버튼\n",
    "generate_password_button = Button(text=\"p.w create\", width=7, command=generate_password)\n",
    "generate_password_button.grid(row=3, column=2)\n",
    "add_button = Button(text=\"Add\", width=36, command=save)\n",
    "add_button.grid(row=4, column=1, columnspan=2)\n",
    "\n",
    "window.mainloop()"
   ]
  },
  {
   "cell_type": "code",
   "execution_count": 65,
   "id": "f21ab24b",
   "metadata": {},
   "outputs": [],
   "source": [
    "# 3 검색기능 추가\n",
    "\n",
    "from tkinter import *  # 클래스와 상수 임포트\n",
    "from tkinter import messagebox # 모듈\n",
    "from random import choice, randint, shuffle\n",
    "import pyperclip\n",
    "import json\n",
    "\n",
    "# ---------------------------- PASSWORD GENERATOR ------------------------------- #\n",
    "\n",
    "def generate_password():\n",
    "    letters = ['a', 'b', 'c', 'd', 'e', 'f', 'g', 'h', 'i', 'j', 'k', 'l', 'm', 'n', 'o', 'p', 'q', 'r', 's', 't', 'u', 'v', 'w', 'x', 'y', 'z', 'A', 'B', 'C', 'D', 'E', 'F', 'G', 'H', 'I', 'J', 'K', 'L', 'M', 'N', 'O', 'P', 'Q', 'R', 'S', 'T', 'U', 'V', 'W', 'X', 'Y', 'Z']\n",
    "    numbers = ['0', '1', '2', '3', '4', '5', '6', '7', '8', '9']\n",
    "    symbols = ['!', '#', '$', '%', '&', '(', ')', '*', '+']\n",
    "\n",
    "    password_letters = [choice(letters) for _ in range(randint(8, 10))]\n",
    "    password_symbols = [choice(symbols) for _ in range(randint(2, 4))]\n",
    "    password_numbers = [choice(numbers) for _ in range(randint(2, 4))]\n",
    "\n",
    "    password_list = password_letters + password_symbols + password_numbers\n",
    "    shuffle(password_list)\n",
    "\n",
    "    password = \"\".join(password_list)\n",
    "    password_entry.insert(0, password)\n",
    "    pyperclip.copy(password)\n",
    "  \n",
    " # ---------------------------- SAVE PASSWORD ------------------------------- #\n",
    "\n",
    "def save():\n",
    "    website = website_entry.get()\n",
    "    email = email_entry.get()\n",
    "    password = password_entry.get()\n",
    "    new_data = {\n",
    "        website : {\n",
    "            \"email\":email,\n",
    "            \"password\":password,\n",
    "        }\n",
    "    }\n",
    "    \n",
    "    if len(website) == 0 or len(password) == 0:\n",
    "        messagebox.showinfo(title=\"경고!\", message=\"모든 정보를 입력해 주세요\")\n",
    "    else:\n",
    "        try:\n",
    "            with open(\"data.json\", \"r\") as data_file:\n",
    "                data = json.load(data_file)\n",
    "                \n",
    "        except FileNotFoundError:  \n",
    "            # 파일이 없다면\n",
    "            with open(\"data.json\", \"w\") as data_file:\n",
    "                json.dump(new_data, data_file, indent=4)\n",
    "                \n",
    "        else: \n",
    "            # 파일이 있다면\n",
    "            data.update(new_data) # data내용 갱신\n",
    "            \n",
    "            with open(\"data.json\",\"w\") as data_file:\n",
    "                json.dump(data, data_file, indent=4) \n",
    "            \n",
    "        finally:\n",
    "            website_entry.delete(0, END)\n",
    "            password_entry.delete(0, END)\n",
    "\n",
    "# ---------------------------- UI SETUP ------------------------------- #\n",
    "def find_password():\n",
    "    website = website_entry.get()\n",
    "    try:\n",
    "        with open(\"data.json\") as data_file:\n",
    "            data = json.load(data_file)\n",
    "        except FileNotFoundError:\n",
    "            messagebox.showinfo(tilte:\"Error\", message=\"No data file found.\")\n",
    "        else:\n",
    "            if website in data:\n",
    "                email = data[website][\"email\"]\n",
    "                password = data[website][\"password\"]\n",
    "                messagebox.showinfo(title=\"검색결과\", message=f\"Email : {email}\\nPassword : {password}\")\n",
    "            else:\n",
    "                messagebox.showinfo(tilte:\"Error\", message=\"존재하지 않는 데이터 입니다.\")\n",
    "\n",
    "# ---------------------------- UI SETUP ------------------------------- #\n",
    "\n",
    "window = Tk()\n",
    "window.title(\"Password Manager\")\n",
    "window.config(padx=50, pady=50)\n",
    "\n",
    "canvas = Canvas(height=200, width=200)\n",
    "logo_img = PhotoImage(file=\"logo_29.png\")\n",
    "canvas.create_image(100,100,image=logo_img)\n",
    "canvas.grid(row=0, column=1)\n",
    "\n",
    "# 라벨\n",
    "website_label = Label(text = \"사이트명 :\")\n",
    "website_label.grid(row=1, column=0)\n",
    "email_label = Label(text = \"Email/아디 :\")\n",
    "email_label.grid(row=2, column=0)\n",
    "password_label = Label(text = \"Password :\")\n",
    "password_label.grid(row=3, column=0)\n",
    "\n",
    "# Entries\n",
    "website_entry = Entry(width=27)\n",
    "website_entry.grid(row=1, column=1)\n",
    "website_entry.focus()\n",
    "email_entry = Entry(width=35)\n",
    "email_entry.grid(row=2, column=1, columnspan=2)\n",
    "email_entry.insert(0, \"test@naver.com\") # 시작:0, 끝:end\n",
    "password_entry = Entry(width=27)\n",
    "password_entry.grid(row=3, column=1)\n",
    "\n",
    "# 버튼\n",
    "search_button = Button(text=\"Search\", width=6, command=find_password)\n",
    "search_button.grid(row=1, column=2)\n",
    "generate_password_button = Button(text=\"create\", width=6, command=generate_password)\n",
    "generate_password_button.grid(row=3, column=2)\n",
    "add_button = Button(text=\"Add\", width=36, command=save)\n",
    "add_button.grid(row=4, column=1, columnspan=2)\n",
    "\n",
    "window.mainloop()"
   ]
  },
  {
   "cell_type": "code",
   "execution_count": null,
   "id": "4ef638b3",
   "metadata": {},
   "outputs": [],
   "source": []
  }
 ],
 "metadata": {
  "kernelspec": {
   "display_name": "Python 3 (ipykernel)",
   "language": "python",
   "name": "python3"
  },
  "language_info": {
   "codemirror_mode": {
    "name": "ipython",
    "version": 3
   },
   "file_extension": ".py",
   "mimetype": "text/x-python",
   "name": "python",
   "nbconvert_exporter": "python",
   "pygments_lexer": "ipython3",
   "version": "3.9.12"
  }
 },
 "nbformat": 4,
 "nbformat_minor": 5
}
