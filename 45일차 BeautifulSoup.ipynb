{
 "cells": [
  {
   "cell_type": "code",
   "execution_count": 6,
   "id": "10301044",
   "metadata": {},
   "outputs": [
    {
     "name": "stdout",
     "output_type": "stream",
     "text": [
      "<!DOCTYPE html>\n",
      "\n",
      "<html>\n",
      "<head>\n",
      "<meta charset=\"utf-8\"/>\n",
      "<title>Angela's Personal Site</title>\n",
      "</head>\n",
      "<body>\n",
      "<h1 id=\"name\">Angela Yu</h1>\n",
      "<p><em>Founder of <strong><a href=\"https://www.appbrewery.co/\">The App Brewery</a></strong>.</em></p>\n",
      "<p>I am an iOS and Web Developer. I ❤️ coffee and motorcycles.</p>\n",
      "<hr/>\n",
      "<h3 class=\"heading\">Books and Teaching</h3>\n",
      "<ul>\n",
      "<li>The Complete iOS App Development Bootcamp</li>\n",
      "<li>The Complete Web Development Bootcamp</li>\n",
      "<li>100 Days of Code - The Complete Python Bootcamp</li>\n",
      "</ul>\n",
      "<hr/>\n",
      "<h3 class=\"heading\">Other Pages</h3>\n",
      "<a href=\"https://angelabauer.github.io/cv/hobbies.html\">My Hobbies</a>\n",
      "<a href=\"https://angelabauer.github.io/cv/contact-me.html\">Contact Me</a>\n",
      "</body>\n",
      "</html>\n"
     ]
    }
   ],
   "source": [
    "from bs4 import BeautifulSoup\n",
    "# import lxml\n",
    "\n",
    "with open(\"website.html\", 'rt', encoding='UTF8') as file:\n",
    "    contents = file.read()\n",
    "\n",
    "soup = BeautifulSoup(contents, \"html.parser\")\n",
    "print(soup)"
   ]
  },
  {
   "cell_type": "code",
   "execution_count": 8,
   "id": "ab6488eb",
   "metadata": {
    "scrolled": true
   },
   "outputs": [
    {
     "name": "stdout",
     "output_type": "stream",
     "text": [
      "<!DOCTYPE html>\n",
      "<html>\n",
      " <head>\n",
      "  <meta charset=\"utf-8\"/>\n",
      "  <title>\n",
      "   Angela's Personal Site\n",
      "  </title>\n",
      " </head>\n",
      " <body>\n",
      "  <h1 id=\"name\">\n",
      "   Angela Yu\n",
      "  </h1>\n",
      "  <p>\n",
      "   <em>\n",
      "    Founder of\n",
      "    <strong>\n",
      "     <a href=\"https://www.appbrewery.co/\">\n",
      "      The App Brewery\n",
      "     </a>\n",
      "    </strong>\n",
      "    .\n",
      "   </em>\n",
      "  </p>\n",
      "  <p>\n",
      "   I am an iOS and Web Developer. I ❤️ coffee and motorcycles.\n",
      "  </p>\n",
      "  <hr/>\n",
      "  <h3 class=\"heading\">\n",
      "   Books and Teaching\n",
      "  </h3>\n",
      "  <ul>\n",
      "   <li>\n",
      "    The Complete iOS App Development Bootcamp\n",
      "   </li>\n",
      "   <li>\n",
      "    The Complete Web Development Bootcamp\n",
      "   </li>\n",
      "   <li>\n",
      "    100 Days of Code - The Complete Python Bootcamp\n",
      "   </li>\n",
      "  </ul>\n",
      "  <hr/>\n",
      "  <h3 class=\"heading\">\n",
      "   Other Pages\n",
      "  </h3>\n",
      "  <a href=\"https://angelabauer.github.io/cv/hobbies.html\">\n",
      "   My Hobbies\n",
      "  </a>\n",
      "  <a href=\"https://angelabauer.github.io/cv/contact-me.html\">\n",
      "   Contact Me\n",
      "  </a>\n",
      " </body>\n",
      "</html>\n"
     ]
    }
   ],
   "source": [
    "print(soup.prettify())"
   ]
  },
  {
   "cell_type": "code",
   "execution_count": 5,
   "id": "c2390ea2",
   "metadata": {},
   "outputs": [
    {
     "name": "stdout",
     "output_type": "stream",
     "text": [
      "<title>Angela's Personal Site</title>\n",
      "title\n",
      "Angela's Personal Site\n"
     ]
    }
   ],
   "source": [
    "print(soup.title)\n",
    "print(soup.title.name)\n",
    "print(soup.title.string)"
   ]
  },
  {
   "cell_type": "code",
   "execution_count": 12,
   "id": "1fcd1f82",
   "metadata": {},
   "outputs": [
    {
     "name": "stdout",
     "output_type": "stream",
     "text": [
      "<a href=\"https://www.appbrewery.co/\">The App Brewery</a>\n",
      "<p><em>Founder of <strong><a href=\"https://www.appbrewery.co/\">The App Brewery</a></strong>.</em></p>\n",
      "<li>The Complete iOS App Development Bootcamp</li>\n"
     ]
    }
   ],
   "source": [
    "# print(soup, html태그) -> 처음 나오는 html태그\n",
    "\n",
    "print(soup.a) # 처음 나오는 a 태그\n",
    "print(soup.p)\n",
    "print(soup.li)"
   ]
  },
  {
   "cell_type": "code",
   "execution_count": 16,
   "id": "e2789df9",
   "metadata": {},
   "outputs": [
    {
     "data": {
      "text/plain": [
       "[<a href=\"https://www.appbrewery.co/\">The App Brewery</a>,\n",
       " <a href=\"https://angelabauer.github.io/cv/hobbies.html\">My Hobbies</a>,\n",
       " <a href=\"https://angelabauer.github.io/cv/contact-me.html\">Contact Me</a>]"
      ]
     },
     "execution_count": 16,
     "metadata": {},
     "output_type": "execute_result"
    }
   ],
   "source": [
    "# find_all() : 모든 태그 / 속성 찾기\n",
    "# all_a_tag = soup.find_all(name=\"a\")\n",
    "# print(all_a_tag)\n",
    "\n",
    "soup.find_all(name=\"a\")"
   ]
  },
  {
   "cell_type": "code",
   "execution_count": 26,
   "id": "4d47fc29",
   "metadata": {},
   "outputs": [
    {
     "data": {
      "text/plain": [
       "[<h1 id=\"name\">Angela Yu</h1>]"
      ]
     },
     "execution_count": 26,
     "metadata": {},
     "output_type": "execute_result"
    }
   ],
   "source": [
    "# find() : 일치하는 첫 항목만 가져오기 (태그 / 속성)\n",
    "soup.find_all(name=\"h1\", id=\"name\")"
   ]
  },
  {
   "cell_type": "code",
   "execution_count": 27,
   "id": "cf505e89",
   "metadata": {},
   "outputs": [
    {
     "data": {
      "text/plain": [
       "<h3 class=\"heading\">Books and Teaching</h3>"
      ]
     },
     "execution_count": 27,
     "metadata": {},
     "output_type": "execute_result"
    }
   ],
   "source": [
    "# class 속성은 파이썬과의 충돌을 막기위해 class_ 로 사용\n",
    "\n",
    "soup.find(name=\"h3\", class_=\"heading\")"
   ]
  },
  {
   "cell_type": "code",
   "execution_count": 28,
   "id": "bc268509",
   "metadata": {},
   "outputs": [
    {
     "name": "stdout",
     "output_type": "stream",
     "text": [
      "<h3 class=\"heading\">Books and Teaching</h3>\n",
      "h3\n",
      "Books and Teaching\n",
      "Books and Teaching\n",
      "['heading']\n"
     ]
    }
   ],
   "source": [
    "class_heading = soup.find(name=\"h3\", class_=\"heading\")\n",
    "print(class_heading)\n",
    "print(class_heading.name)\n",
    "print(class_heading.string)\n",
    "print(class_heading.getText())\n",
    "print(class_heading.get(\"class\"))"
   ]
  },
  {
   "cell_type": "code",
   "execution_count": 21,
   "id": "09ef6c7a",
   "metadata": {},
   "outputs": [
    {
     "name": "stdout",
     "output_type": "stream",
     "text": [
      "The App Brewery\n",
      "My Hobbies\n",
      "Contact Me\n"
     ]
    }
   ],
   "source": [
    "# 텍스트만 가져올때\n",
    "\n",
    "all_a_tag = soup.find_all(name=\"a\")\n",
    "\n",
    "for tag in all_a_tag:\n",
    "    print(tag.getText())"
   ]
  },
  {
   "cell_type": "code",
   "execution_count": 24,
   "id": "1e934169",
   "metadata": {},
   "outputs": [
    {
     "name": "stdout",
     "output_type": "stream",
     "text": [
      "https://www.appbrewery.co/\n",
      "https://angelabauer.github.io/cv/hobbies.html\n",
      "https://angelabauer.github.io/cv/contact-me.html\n"
     ]
    }
   ],
   "source": [
    "# get() : 태그의 속성값 가져오기\n",
    "\n",
    "all_a_tag = soup.find_all(name=\"a\")\n",
    "\n",
    "for tag in all_a_tag:\n",
    "    print(tag.get(\"href\"))"
   ]
  },
  {
   "cell_type": "code",
   "execution_count": 29,
   "id": "1b9a3b4c",
   "metadata": {},
   "outputs": [
    {
     "data": {
      "text/plain": [
       "<a href=\"https://www.appbrewery.co/\">The App Brewery</a>"
      ]
     },
     "execution_count": 29,
     "metadata": {},
     "output_type": "execute_result"
    }
   ],
   "source": [
    "soup.select_one(selector = \"p a\")   # p태그 안의 a태그 가져오기"
   ]
  },
  {
   "cell_type": "code",
   "execution_count": 30,
   "id": "cac4ed41",
   "metadata": {},
   "outputs": [
    {
     "data": {
      "text/plain": [
       "<h1 id=\"name\">Angela Yu</h1>"
      ]
     },
     "execution_count": 30,
     "metadata": {},
     "output_type": "execute_result"
    }
   ],
   "source": [
    "soup.select_one(selector = \"#name\") # id가 name인 요소 가져오기\n",
    "# soup.select_one(\"#name\")"
   ]
  },
  {
   "cell_type": "code",
   "execution_count": 33,
   "id": "0f5e8dfb",
   "metadata": {},
   "outputs": [
    {
     "data": {
      "text/plain": [
       "[<h3 class=\"heading\">Books and Teaching</h3>,\n",
       " <h3 class=\"heading\">Other Pages</h3>]"
      ]
     },
     "execution_count": 33,
     "metadata": {},
     "output_type": "execute_result"
    }
   ],
   "source": [
    "soup.select(\".heading\")  # class가 heading인 모든 요소"
   ]
  },
  {
   "cell_type": "code",
   "execution_count": null,
   "id": "581c1808",
   "metadata": {},
   "outputs": [],
   "source": []
  }
 ],
 "metadata": {
  "kernelspec": {
   "display_name": "Python 3 (ipykernel)",
   "language": "python",
   "name": "python3"
  },
  "language_info": {
   "codemirror_mode": {
    "name": "ipython",
    "version": 3
   },
   "file_extension": ".py",
   "mimetype": "text/x-python",
   "name": "python",
   "nbconvert_exporter": "python",
   "pygments_lexer": "ipython3",
   "version": "3.9.12"
  }
 },
 "nbformat": 4,
 "nbformat_minor": 5
}
