{
 "cells": [
  {
   "cell_type": "markdown",
   "id": "b672ad8c",
   "metadata": {},
   "source": [
    "참고\n",
    "https://www.sporcle.com/games/g/states"
   ]
  },
  {
   "cell_type": "code",
   "execution_count": 1,
   "id": "1e22692f",
   "metadata": {},
   "outputs": [
    {
     "name": "stdout",
     "output_type": "stream",
     "text": [
      "-27.0 6.0\n",
      "-14.0 54.0\n",
      "53.0 69.0\n",
      "56.0 5.0\n"
     ]
    }
   ],
   "source": [
    "import turtle\n",
    "\n",
    "screen = turtle.Screen()\n",
    "screen.title(\"U.S. States Game\")\n",
    "image = \"blank_states_img_25.gif\"\n",
    "screen.addshape(image)\n",
    "turtle.shape(image)\n",
    "\n",
    "def get_mouse_click_coor(x, y):\n",
    "    print(x, y)\n",
    "    \n",
    "turtle.onscreenclick(get_mouse_click_coor) # 클릭한 곳 좌표 알려줌\n",
    "turtle.mainloop()"
   ]
  },
  {
   "cell_type": "code",
   "execution_count": 2,
   "id": "4c19ca5c",
   "metadata": {},
   "outputs": [
    {
     "data": {
      "text/html": [
       "<div>\n",
       "<style scoped>\n",
       "    .dataframe tbody tr th:only-of-type {\n",
       "        vertical-align: middle;\n",
       "    }\n",
       "\n",
       "    .dataframe tbody tr th {\n",
       "        vertical-align: top;\n",
       "    }\n",
       "\n",
       "    .dataframe thead th {\n",
       "        text-align: right;\n",
       "    }\n",
       "</style>\n",
       "<table border=\"1\" class=\"dataframe\">\n",
       "  <thead>\n",
       "    <tr style=\"text-align: right;\">\n",
       "      <th></th>\n",
       "      <th>state</th>\n",
       "      <th>x</th>\n",
       "      <th>y</th>\n",
       "    </tr>\n",
       "  </thead>\n",
       "  <tbody>\n",
       "    <tr>\n",
       "      <th>0</th>\n",
       "      <td>Alabama</td>\n",
       "      <td>139</td>\n",
       "      <td>-77</td>\n",
       "    </tr>\n",
       "    <tr>\n",
       "      <th>1</th>\n",
       "      <td>Alaska</td>\n",
       "      <td>-204</td>\n",
       "      <td>-170</td>\n",
       "    </tr>\n",
       "  </tbody>\n",
       "</table>\n",
       "</div>"
      ],
      "text/plain": [
       "     state    x    y\n",
       "0  Alabama  139  -77\n",
       "1   Alaska -204 -170"
      ]
     },
     "execution_count": 2,
     "metadata": {},
     "output_type": "execute_result"
    }
   ],
   "source": [
    "import pandas as pd\n",
    "pd.read_csv(\"50_states_25.csv\").head(2)"
   ]
  },
  {
   "cell_type": "code",
   "execution_count": null,
   "id": "8729fa08",
   "metadata": {},
   "outputs": [],
   "source": [
    "import turtle\n",
    "import pandas as pd\n",
    "\n",
    "screen = turtle.Screen()\n",
    "screen.title(\"U.S. States Game\")\n",
    "image = \"blank_states_img_25.gif\"\n",
    "screen.addshape(image)\n",
    "turtle.shape(image)\n",
    "\n",
    "data = pd.read_csv(\"50_states_25.csv\")\n",
    "all_states = data.state.to_list()\n",
    "guessed_states = []\n",
    "\n",
    "while len(guessed_states) < 50: \n",
    "    answer_state = screen.textinput(title=f\"{len(guessed_states)}/50 States Correct\", prompt=\"다른 주의 이름은 무엇일까요?\").title()\n",
    "\n",
    "    if answer_state == \"Exit\":\n",
    "        missing_states = []\n",
    "        for state in all_states:\n",
    "            if state not in guessed_states:\n",
    "                missing_states.append(state)\n",
    "        new_data = pd.DataFrame(missing_states)\n",
    "        new_data.to_csv(\"missing_states.csv\")\n",
    "        break\n",
    "    \n",
    "    if answer_state in all_states:\n",
    "        guessed_states.append(answer_state)\n",
    "        t = turtle.Turtle()\n",
    "        t.hideturtle()\n",
    "        t.penup()\n",
    "        state_data = data[data.state == answer_state]\n",
    "        t.goto(int(state_data.x), int(state_data.y))\n",
    "        t.write(answer_state) # t.write(state_data.state.item())\n"
   ]
  },
  {
   "cell_type": "code",
   "execution_count": null,
   "id": "01d9606f",
   "metadata": {},
   "outputs": [],
   "source": []
  },
  {
   "cell_type": "code",
   "execution_count": null,
   "id": "ed41f477",
   "metadata": {},
   "outputs": [],
   "source": []
  },
  {
   "cell_type": "code",
   "execution_count": null,
   "id": "3d5277ce",
   "metadata": {},
   "outputs": [],
   "source": []
  },
  {
   "cell_type": "code",
   "execution_count": null,
   "id": "e5e5ee62",
   "metadata": {},
   "outputs": [],
   "source": []
  },
  {
   "cell_type": "code",
   "execution_count": null,
   "id": "86d80d72",
   "metadata": {},
   "outputs": [],
   "source": []
  },
  {
   "cell_type": "code",
   "execution_count": null,
   "id": "b5e7ff86",
   "metadata": {},
   "outputs": [],
   "source": []
  },
  {
   "cell_type": "code",
   "execution_count": null,
   "id": "a089816e",
   "metadata": {},
   "outputs": [],
   "source": []
  }
 ],
 "metadata": {
  "kernelspec": {
   "display_name": "Python 3 (ipykernel)",
   "language": "python",
   "name": "python3"
  },
  "language_info": {
   "codemirror_mode": {
    "name": "ipython",
    "version": 3
   },
   "file_extension": ".py",
   "mimetype": "text/x-python",
   "name": "python",
   "nbconvert_exporter": "python",
   "pygments_lexer": "ipython3",
   "version": "3.9.12"
  }
 },
 "nbformat": 4,
 "nbformat_minor": 5
}
