{
 "cells": [
  {
   "cell_type": "code",
   "execution_count": null,
   "id": "8729fa08",
   "metadata": {},
   "outputs": [],
   "source": [
    "import turtle\n",
    "import pandas as pd\n",
    "\n",
    "screen = turtle.Screen()\n",
    "screen.title(\"U.S. States Game\")\n",
    "image = \"blank_states_img_25.gif\"\n",
    "screen.addshape(image)\n",
    "turtle.shape(image)\n",
    "\n",
    "data = pd.read_csv(\"50_states_25.csv\")\n",
    "all_states = data.state.to_list()\n",
    "guessed_states = []\n",
    "\n",
    "while len(guessed_states) < 50: \n",
    "    answer_state = screen.textinput(title=f\"{len(guessed_states)}/50 States Correct\", prompt=\"다른 주의 이름은 무엇일까요?\").title()\n",
    "\n",
    "    if answer_state == \"Exit\":\n",
    "        missing_states = [state for state in all_states if state not in guessed_states]\n",
    "#         missing_states = []\n",
    "#         for state in all_states:\n",
    "#             if state not in guessed_states:\n",
    "#                 missing_states.append(state)\n",
    "        new_data = pd.DataFrame(missing_states)\n",
    "        new_data.to_csv(\"missing_states.csv\")\n",
    "        break\n",
    "    \n",
    "    if answer_state in all_states:\n",
    "        guessed_states.append(answer_state)\n",
    "        t = turtle.Turtle()\n",
    "        t.hideturtle()\n",
    "        t.penup()\n",
    "        state_data = data[data.state == answer_state]\n",
    "        t.goto(int(state_data.x), int(state_data.y))\n",
    "        t.write(answer_state) # t.write(state_data.state.item())\n"
   ]
  },
  {
   "cell_type": "code",
   "execution_count": null,
   "id": "b5e7ff86",
   "metadata": {},
   "outputs": [],
   "source": []
  },
  {
   "cell_type": "code",
   "execution_count": null,
   "id": "a089816e",
   "metadata": {},
   "outputs": [],
   "source": []
  }
 ],
 "metadata": {
  "kernelspec": {
   "display_name": "Python 3 (ipykernel)",
   "language": "python",
   "name": "python3"
  },
  "language_info": {
   "codemirror_mode": {
    "name": "ipython",
    "version": 3
   },
   "file_extension": ".py",
   "mimetype": "text/x-python",
   "name": "python",
   "nbconvert_exporter": "python",
   "pygments_lexer": "ipython3",
   "version": "3.9.12"
  }
 },
 "nbformat": 4,
 "nbformat_minor": 5
}
