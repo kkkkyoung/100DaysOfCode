{
 "cells": [
  {
   "cell_type": "markdown",
   "id": "9f57b71a",
   "metadata": {},
   "source": [
    "# 8일차"
   ]
  },
  {
   "cell_type": "code",
   "execution_count": 3,
   "id": "80427ba9",
   "metadata": {},
   "outputs": [
    {
     "name": "stdout",
     "output_type": "stream",
     "text": [
      "안녕하세요\n",
      "오늘 어떤가요?\n",
      "날씨는 좋나요?\n"
     ]
    }
   ],
   "source": [
    "def greet():\n",
    "    print(\"안녕하세요\")\n",
    "    print(\"오늘 어떤가요?\")\n",
    "    print(\"날씨는 좋나요?\")\n",
    "greet()    "
   ]
  },
  {
   "cell_type": "code",
   "execution_count": 6,
   "id": "dbf169bd",
   "metadata": {},
   "outputs": [
    {
     "name": "stdout",
     "output_type": "stream",
     "text": [
      "안녕하세요 Angela님\n",
      "Angela님 동네는 날씨가 어떤가요?\n"
     ]
    }
   ],
   "source": [
    "def greet_with_name(name):\n",
    "    print(f\"안녕하세요 {name}님\")\n",
    "    print(f\"{name}님 동네는 날씨가 어떤가요?\")\n",
    "    \n",
    "greet_with_name(\"Angela\")\n",
    "\n",
    "# name = Angela\n",
    "# 파라미터 = 아규먼트"
   ]
  },
  {
   "cell_type": "code",
   "execution_count": 8,
   "id": "d198fce0",
   "metadata": {},
   "outputs": [
    {
     "name": "stdout",
     "output_type": "stream",
     "text": [
      "안녕 Jack\n",
      "서울의 맛집을 아니?\n"
     ]
    }
   ],
   "source": [
    "# (1)\n",
    "def greet_two(name, location):\n",
    "    print(f\"안녕 {name}\")\n",
    "    print(f\"{location}의 맛집을 아니?\")\n",
    "greet_two(\"Jack\",\"서울\")"
   ]
  },
  {
   "cell_type": "code",
   "execution_count": 9,
   "id": "647784de",
   "metadata": {},
   "outputs": [
    {
     "name": "stdout",
     "output_type": "stream",
     "text": [
      "안녕 Jack\n",
      "서울의 맛집을 아니?\n"
     ]
    }
   ],
   "source": [
    "# (2)\n",
    "def greet_two(name, location):\n",
    "    print(f\"안녕 {name}\")\n",
    "    print(f\"{location}의 맛집을 아니?\")\n",
    "greet_two(location=\"서울\", name = \"Jack\")"
   ]
  },
  {
   "cell_type": "code",
   "execution_count": 14,
   "id": "b8e83aaf",
   "metadata": {},
   "outputs": [
    {
     "name": "stdout",
     "output_type": "stream",
     "text": [
      "벽의 높이는? 10\n",
      "벽의 넓이는? 10\n",
      "벽을 칠하는데 필요한 페인트통 개수는 4개입니다.\n"
     ]
    }
   ],
   "source": [
    "# 페인트 면적 계산하기\n",
    "import math\n",
    "\n",
    "def paint_can(height, width, cover):\n",
    "    area = height * width\n",
    "    num_of_cans = math.ceil(area/cover) # 올림\n",
    "    print(f\"벽을 칠하는데 필요한 페인트통 개수는 {num_of_cans}개입니다.\")\n",
    "\n",
    "\n",
    "test_h = int(input(\"벽의 높이는? \"))\n",
    "test_w = int(input(\"벽의 넓이는? \"))\n",
    "coverage = 25\n",
    "paint_can(height = test_h, width = test_w, cover = coverage)"
   ]
  },
  {
   "cell_type": "code",
   "execution_count": 16,
   "id": "fc4e4711",
   "metadata": {},
   "outputs": [
    {
     "name": "stdout",
     "output_type": "stream",
     "text": [
      "확인할 숫자는? : 3\n",
      "이 숫자는 소수이다\n"
     ]
    }
   ],
   "source": [
    "# 소수 확인하기 prime number   - 1과 자기자신으로만 나눠지는 숫자\n",
    "def checker(number):\n",
    "    is_prime = True\n",
    "    for i in range(2, number):\n",
    "        if number % i == 0:\n",
    "            is_prime = False\n",
    "    if is_prime:\n",
    "        print(\"이 숫자는 소수이다\")\n",
    "    else:\n",
    "        print(\"이 숫자는 소수가 아니다\")\n",
    "\n",
    "n = int(input(\"확인할 숫자는? : \"))\n",
    "checker(number=n)"
   ]
  },
  {
   "cell_type": "code",
   "execution_count": 25,
   "id": "366ca2ed",
   "metadata": {},
   "outputs": [
    {
     "name": "stdout",
     "output_type": "stream",
     "text": [
      "'encode'암호화를 할건지 'decode'문자화를 할건지 정하세요 :\n",
      "encode\n",
      "메세지를 영어로 적으세요.:\n",
      "zoo\n",
      "글자 이동수를 몇개로 하겠습니까? :\n",
      "5\n",
      "암호화된 문자 : ett \n"
     ]
    }
   ],
   "source": [
    "# 카이사르 암호(1) 암호화\n",
    "\n",
    "alphabet = ['a', 'b', 'c', 'd', 'e', 'f', 'g', 'h', 'i', 'j', 'k', 'l', 'm', 'n', 'o', 'p', 'q', 'r', 's', 't', 'u', 'v', 'w', 'x', 'y', 'z','a', 'b', 'c', 'd', 'e', 'f', 'g', 'h', 'i', 'j', 'k', 'l', 'm', 'n', 'o', 'p', 'q', 'r', 's', 't', 'u', 'v', 'w', 'x', 'y', 'z']\n",
    "direction = input(\"'encode'암호화를 할건지 'decode'문자화를 할건지 정하세요 :\\n\")\n",
    "text = input(\"메세지를 영어로 적으세요.:\\n\").lower()\n",
    "shift = int(input(\"글자 이동수를 몇개로 하겠습니까? :\\n\"))\n",
    "\n",
    "def encrypt(plain_text, shift_amount):\n",
    "    chipher_text = \"\"\n",
    "    for letter in plain_text:\n",
    "        position = alphabet.index(letter)\n",
    "        new_position = position + shift_amount\n",
    "        new_letter = alphabet[new_position]\n",
    "        chipher_text += new_letter\n",
    "    print(f\"암호화된 문자 : {chipher_text} \")\n",
    "             \n",
    "\n",
    "encrypt(plain_text = text, shift_amount = shift)"
   ]
  },
  {
   "cell_type": "code",
   "execution_count": 29,
   "id": "ce12e7a3",
   "metadata": {},
   "outputs": [
    {
     "name": "stdout",
     "output_type": "stream",
     "text": [
      "'encode'암호화를 할건지 'decode'문자화를 할건지 정하세요 :\n",
      "decode\n",
      "메세지를 영어로 적으세요.:\n",
      "ett\n",
      "글자 이동수를 몇개로 하겠습니까? :\n",
      "5\n",
      "암호를 문자화 시키면 : zoo \n"
     ]
    }
   ],
   "source": [
    "# 카이사르 암호(2) 문자화\n",
    "\n",
    "alphabet = ['a', 'b', 'c', 'd', 'e', 'f', 'g', 'h', 'i', 'j', 'k', 'l', 'm', 'n', 'o', 'p', 'q', 'r', 's', 't', 'u', 'v', 'w', 'x', 'y', 'z','a', 'b', 'c', 'd', 'e', 'f', 'g', 'h', 'i', 'j', 'k', 'l', 'm', 'n', 'o', 'p', 'q', 'r', 's', 't', 'u', 'v', 'w', 'x', 'y', 'z']\n",
    "direction = input(\"'encode'암호화를 할건지 'decode'문자화를 할건지 정하세요 :\\n\")\n",
    "text = input(\"메세지를 영어로 적으세요.:\\n\").lower()\n",
    "shift = int(input(\"글자 이동수를 몇개로 하겠습니까? :\\n\"))\n",
    "\n",
    "def encrypt(plain_text, shift_amount):\n",
    "    chipher_text = \"\"\n",
    "    for letter in plain_text:\n",
    "        position = alphabet.index(letter)\n",
    "        new_position = position + shift_amount\n",
    "        new_letter = alphabet[new_position]\n",
    "        chipher_text += new_letter\n",
    "    print(f\"암호화된 문자 : {chipher_text} \")\n",
    "    \n",
    "    \n",
    "def decrypt(cipher_text, shift_amount):\n",
    "    plain_text = \"\"\n",
    "    for letter in cipher_text:\n",
    "        position = alphabet.index(letter)\n",
    "        new_position = position - shift_amount\n",
    "        new_letter = alphabet[new_position]\n",
    "        plain_text += new_letter\n",
    "    print(f\"암호를 문자화 시키면 : {plain_text} \")\n",
    "             \n",
    "if direction == \"encode\":\n",
    "    encrypt(plain_text = text, shift_amount = shift)\n",
    "elif direction == \"decode\":\n",
    "    decrypt(cipher_text=text, shift_amount=shift)"
   ]
  },
  {
   "cell_type": "code",
   "execution_count": 35,
   "id": "b7b12c0d",
   "metadata": {},
   "outputs": [
    {
     "name": "stdout",
     "output_type": "stream",
     "text": [
      "'encode'암호화를 할건지 'decode'문자화를 할건지 정하세요 :\n",
      "decode\n",
      "메세지를 영어로 적으세요.:\n",
      "ett\n",
      "글자 이동수를 몇개로 하겠습니까? :\n",
      "5\n",
      "decode된 문자는 : zoo \n"
     ]
    }
   ],
   "source": [
    "# 카이사르 암호(3) 재구성\n",
    "\n",
    "alphabet = ['a', 'b', 'c', 'd', 'e', 'f', 'g', 'h', 'i', 'j', 'k', 'l', 'm', 'n', 'o', 'p', 'q', 'r', 's', 't', 'u', 'v', 'w', 'x', 'y', 'z','a', 'b', 'c', 'd', 'e', 'f', 'g', 'h', 'i', 'j', 'k', 'l', 'm', 'n', 'o', 'p', 'q', 'r', 's', 't', 'u', 'v', 'w', 'x', 'y', 'z']\n",
    "direction = input(\"'encode'암호화를 할건지 'decode'문자화를 할건지 정하세요 :\\n\")\n",
    "text = input(\"메세지를 영어로 적으세요.:\\n\").lower()\n",
    "shift = int(input(\"글자 이동수를 몇개로 하겠습니까? :\\n\"))\n",
    "\n",
    "def caeser(start_text, shift_amount, c_direction):\n",
    "    end_text = \"\"\n",
    "    if c_direction == \"decode\":\n",
    "        shift_amount *= -1\n",
    "    for letter in start_text:\n",
    "        position = alphabet.index(letter)\n",
    "        new_position = position + shift_amount\n",
    "        end_text += alphabet[new_position]\n",
    "    print(f\"{c_direction}된 문자는 : {end_text} \")\n",
    "\n",
    "\n",
    "\n",
    "\n",
    "caeser(start_text=text, shift_amount=shift, c_direction=direction)"
   ]
  },
  {
   "cell_type": "code",
   "execution_count": 46,
   "id": "adaf3054",
   "metadata": {
    "scrolled": true
   },
   "outputs": [
    {
     "name": "stdout",
     "output_type": "stream",
     "text": [
      "           \n",
      " ,adPPYba, ,adPPYYba,  ,adPPYba, ,adPPYba, ,adPPYYba, 8b,dPPYba,  \n",
      "a8\"     \"\" \"\"     `Y8 a8P_____88 I8[    \"\" \"\"     `Y8 88P'   \"Y8  \n",
      "8b         ,adPPPPP88 8PP\"  `\"Y8ba,  ,adPPPPP88 88          \n",
      "\"8a,   ,aa 88,    ,88 \"8b,   ,aa aa    ]8I 88,    ,88 88          \n",
      " `\"Ybbd8\"' `\"8bbdP\"Y8  `\"Ybbd8\"' `\"YbbdP\"' `\"8bbdP\"Y8 88   \n",
      "            88             88                                 \n",
      "           \"\"             88                                 \n",
      "                          88                                 \n",
      " ,adPPYba, 88 8b,dPPYba,  88,dPPYba,   ,adPPYba, 8b,dPPYba,  \n",
      "a8\"     \"\" 88 88P'    \"8a 88P'    \"8a a8P_____88 88P'   \"Y8  \n",
      "8b         88 88       d8 88       88 8PP\" 88          \n",
      "\"8a,   ,aa 88 88b,   ,a8\" 88       88 \"8b,   ,aa 88          \n",
      " `\"Ybbd8\"' 88 88`YbbdP\"'  88       88  `\"Ybbd8\"' 88          \n",
      "              88                                             \n",
      "              88           \n",
      "\n",
      "'encode'암호화를 할건지 'decode'문자화를 할건지 정하세요 :\n",
      "encode\n",
      "메세지를 영어로 적으세요.:\n",
      "zoo123%$#^\n",
      "글자 이동수를 몇개로 하겠습니까? :\n",
      "31\n",
      "encode된 문자는 : ett123%$#^ \n",
      "다시 사용하겠습니까? YES or NO \n",
      "yes\n",
      "'encode'암호화를 할건지 'decode'문자화를 할건지 정하세요 :\n",
      "decode\n",
      "메세지를 영어로 적으세요.:\n",
      "ett123%$#^ \n",
      "글자 이동수를 몇개로 하겠습니까? :\n",
      "31\n",
      "decode된 문자는 : zoo123%$#^  \n",
      "다시 사용하겠습니까? YES or NO \n",
      "no\n",
      "Bye~\n"
     ]
    }
   ],
   "source": [
    "# 카이사르 암호(4) 유저경험 개선\n",
    "from art2 import logo\n",
    "\n",
    "def caeser(start_text, shift_amount, c_direction):\n",
    "    end_text = \"\"\n",
    "    if c_direction == \"decode\":\n",
    "        shift_amount *= -1\n",
    "    for char in start_text:  # 숫자, 기호, 공백은 무시\n",
    "        if char in alphabet:\n",
    "            position = alphabet.index(char)\n",
    "            new_position = position + shift_amount\n",
    "            end_text += alphabet[new_position]\n",
    "        else:\n",
    "            end_text += char\n",
    "    print(f\"{c_direction}된 문자는 : {end_text} \")\n",
    "    \n",
    "print(logo)\n",
    "should_continues = True\n",
    "while should_continues:\n",
    "    direction = input(\"'encode'암호화를 할건지 'decode'문자화를 할건지 정하세요 :\\n\")\n",
    "    text = input(\"메세지를 영어로 적으세요.:\\n\").lower()\n",
    "    shift = int(input(\"글자 이동수를 몇개로 하겠습니까? :\\n\"))\n",
    "\n",
    "    shift = shift % 26 # 큰 숫자를 넣어도 제대로 작동\n",
    "\n",
    "    caeser(start_text=text, shift_amount=shift, c_direction=direction)\n",
    "    \n",
    "    result = input(\"다시 사용하겠습니까? YES or NO \\n\")\n",
    "    if result == \"no\":\n",
    "        should_continues = False\n",
    "        print(\"Bye~\")\n",
    "    "
   ]
  },
  {
   "cell_type": "markdown",
   "id": "e6d1d9a5",
   "metadata": {
    "collapsed": true
   },
   "source": [
    "# 9일차"
   ]
  },
  {
   "cell_type": "code",
   "execution_count": 2,
   "id": "88378f23",
   "metadata": {},
   "outputs": [
    {
     "name": "stdout",
     "output_type": "stream",
     "text": [
      "{'Harry': '좋았어', 'Ron': '노력했네', 'Hermione': '아~주 잘했어', 'Draco': '노력했네', 'Neville': '분발하렴'}\n"
     ]
    }
   ],
   "source": [
    "# 점수별 칭찬등급 매기는 프로그램\n",
    "student_scores = {\n",
    "  \"Harry\": 81,\n",
    "  \"Ron\": 78,\n",
    "  \"Hermione\": 99, \n",
    "  \"Draco\": 74,\n",
    "  \"Neville\": 62,\n",
    "}\n",
    "\n",
    "grades = {}\n",
    "\n",
    "for student in student_scores:\n",
    "    score = student_scores[student]\n",
    "    if score > 90:\n",
    "        grades[student] = \"아~주 잘했어\"\n",
    "    elif score > 80:\n",
    "        grades[student] = \"좋았어\"\n",
    "    elif score > 70:\n",
    "        grades[student] = \"노력했네\"\n",
    "    else :\n",
    "        grades[student] = \"분발하렴\"\n",
    "    \n",
    "print(grades)"
   ]
  },
  {
   "cell_type": "code",
   "execution_count": 5,
   "id": "ce13ce15",
   "metadata": {},
   "outputs": [
    {
     "name": "stdout",
     "output_type": "stream",
     "text": [
      "[{'country': 'France', 'visits': 12, 'cities': ['Paris', 'Lille', 'Dijon']}, {'country': 'Germany', 'visits': 5, 'cities': ['Berlin', 'Hamburg', 'Stuttgart']}, {'country': 'Russia', 'visits': 2, 'cities': ['Moscow', 'Saint Petersburg']}]\n"
     ]
    }
   ],
   "source": [
    "travel_log = [\n",
    "{\n",
    "  \"country\": \"France\",\n",
    "  \"visits\": 12,\n",
    "  \"cities\": [\"Paris\", \"Lille\", \"Dijon\"]\n",
    "},\n",
    "{\n",
    "  \"country\": \"Germany\",\n",
    "  \"visits\": 5,\n",
    "  \"cities\": [\"Berlin\", \"Hamburg\", \"Stuttgart\"]\n",
    "},\n",
    "]\n",
    "\n",
    "# 제일 밑의 2줄 코드가 작동하는 함수 만들기\n",
    "\n",
    "def add_new_country(country_visited, visits_visited, cities_visited):\n",
    "    new_country = {}\n",
    "    new_country[\"country\"] = country_visited\n",
    "    new_country[\"visits\"] = visits_visited\n",
    "    new_country[\"cities\"] = cities_visited\n",
    "    travel_log.append(new_country\n",
    "\n",
    "\n",
    "add_new_country(\"Russia\", 2, [\"Moscow\", \"Saint Petersburg\"])\n",
    "print(travel_log)"
   ]
  },
  {
   "cell_type": "code",
   "execution_count": 23,
   "id": "9464e086",
   "metadata": {},
   "outputs": [
    {
     "name": "stdout",
     "output_type": "stream",
     "text": [
      " \n",
      " _                                             \n",
      "| |                                            \n",
      "| |__   __ _ _ __   __ _ _ __ ___   __ _ _ __  \n",
      "| '_ \\ / _` | '_ \\ / _` | '_ ` _ \\ / _` | '_ \\ \n",
      "| | | | (_| | | | | (_| | | | | | | (_| | | | |\n",
      "|_| |_|\\__,_|_| |_|\\__, |_| |_| |_|\\__,_|_| |_|\n",
      "                    __/ |                      \n",
      "                   |___/    \n",
      "당신의 이름은? kim\n",
      "얼마에 입찰하겠습니까? 100\n",
      "더 입찰하실 분 있나요? yes / no yes\n",
      "당신의 이름은? lee\n",
      "얼마에 입찰하겠습니까? 200\n",
      "더 입찰하실 분 있나요? yes / no no\n",
      "낙찰가는 200원을 제시한 lee님 입니다!\n"
     ]
    }
   ],
   "source": [
    "# 비밀 경매 프로그램 만들기\n",
    "import os\n",
    "# from replit import clear\n",
    "\n",
    "from hammer_logo import logo\n",
    "print(logo)\n",
    "\n",
    "bids = {}\n",
    "bidding_finished = False\n",
    "\n",
    "def find_highest_bidder(bidding_record):\n",
    "    highest_bid = 0\n",
    "    winner = \"\"\n",
    "    for bidder in bidding_record:\n",
    "        bid_amount = bidding_record[bidder]\n",
    "        if bid_amount > highest_bid:\n",
    "            highest_bid = bid_amount\n",
    "            winner = bidder\n",
    "    print(f\"낙찰가는 {highest_bid}원을 제시한 {winner}님 입니다!\")\n",
    "\n",
    "while not bidding_finished:\n",
    "    name = input(\"당신의 이름은? \")\n",
    "    price = int(input(\"얼마에 입찰하겠습니까? \"))\n",
    "    bids[name] = price\n",
    "    should_continue = input(\"더 입찰하실 분 있나요? yes / no \")\n",
    "    if should_continue == \"no\":\n",
    "        bidding_finished = True\n",
    "        find_highest_bidder(bids)\n",
    "        \n",
    "    elif should_continue == \"yes\":\n",
    "        #clear()\n",
    "        os.system(\"clear\")\n",
    "    else :\n",
    "        print(\"더이상 없는걸로 알고 종료하겠습니다.\")\n",
    "        bidding_finished = True\n",
    "        find_highest_bidder(bids) "
   ]
  },
  {
   "cell_type": "markdown",
   "id": "262d8ca9",
   "metadata": {},
   "source": [
    "# 10일차"
   ]
  },
  {
   "cell_type": "code",
   "execution_count": 4,
   "id": "fdef4739",
   "metadata": {},
   "outputs": [
    {
     "name": "stdout",
     "output_type": "stream",
     "text": [
      "Abasdfasf\n",
      "Fsafzfa\n"
     ]
    }
   ],
   "source": [
    "# title() : 단어의 첫 글자만 대문자로\n",
    "print(\"ABASDFASF\".title())\n",
    "print(\"fsafzfa\".title())"
   ]
  },
  {
   "cell_type": "code",
   "execution_count": 6,
   "id": "b953fbcb",
   "metadata": {},
   "outputs": [
    {
     "name": "stdout",
     "output_type": "stream",
     "text": [
      "Ko Young\n"
     ]
    }
   ],
   "source": [
    "# 함수 출력 (1)\n",
    "def format_name(f_name, l_name):\n",
    "    formated_f = f_name.title()\n",
    "    formated_l = l_name.title()\n",
    "    print(f\"{formated_f} {formated_l}\")\n",
    "    \n",
    "format_name(\"ko\", \"young\")"
   ]
  },
  {
   "cell_type": "code",
   "execution_count": 7,
   "id": "3d45f245",
   "metadata": {},
   "outputs": [
    {
     "data": {
      "text/plain": [
       "'Ko Young'"
      ]
     },
     "execution_count": 7,
     "metadata": {},
     "output_type": "execute_result"
    }
   ],
   "source": [
    "# 함수 출력(2)\n",
    "def format_name(f_name, l_name):\n",
    "    formated_f = f_name.title()\n",
    "    formated_l = l_name.title()\n",
    "    return f\"{formated_f} {formated_l}\"    # return은 함수의 마지막을의미\n",
    "    \n",
    "format_name(\"ko\", \"young\")\n",
    "#print(format_name(\"ko\", \"young\"))"
   ]
  },
  {
   "cell_type": "code",
   "execution_count": 16,
   "id": "c2a49e21",
   "metadata": {},
   "outputs": [
    {
     "name": "stdout",
     "output_type": "stream",
     "text": [
      "당신의 성은? \n",
      "당신의 이름은? \n",
      "*****이름 안넣었어요\n"
     ]
    }
   ],
   "source": [
    "# return이 두 개 들어갈떄\n",
    "def format_name(f_name, l_name):\n",
    "    if f_name ==\"\" or l_name == \"\":\n",
    "        return \"*****이름 안넣었어요\"\n",
    "    formated_f = f_name.title()\n",
    "    formated_l = l_name.title()\n",
    "    return f\"{formated_f} {formated_l}\"    \n",
    "    \n",
    "print(format_name(input(\"당신의 성은? \"), input(\"당신의 이름은? \")))"
   ]
  },
  {
   "cell_type": "code",
   "execution_count": 17,
   "id": "d5ba1a96",
   "metadata": {},
   "outputs": [
    {
     "name": "stdout",
     "output_type": "stream",
     "text": [
      "Enter a year: 2022\n",
      "Enter a month: 2\n",
      "28\n"
     ]
    }
   ],
   "source": [
    "# 3일차때 코드 return 이용해서 수정\n",
    "def is_leap(year):\n",
    "    if year % 4 == 0:\n",
    "        if year % 100 == 0:\n",
    "            if year % 400 == 0:\n",
    "                return True   #print(\"Leap year.\")\n",
    "            else:\n",
    "                return False  #print(\"Not leap year.\")  # 윤년\n",
    "        else:\n",
    "                return True   #print(\"Leap year.\")\n",
    "    else:\n",
    "                return False   #print(\"Not leap year.\")\n",
    "\n",
    "def days_in_month(year, month):\n",
    "    month_days = [31, 28, 31, 30, 31, 30, 31, 31, 30, 31, 30, 31]  # 2022년도 날짜수\n",
    "    if is_leap(year) and month == 2 :  # 2월을 29일로 둔 해 = 윤년\n",
    "        return 29\n",
    "    return month_days[month-1]\n",
    "\n",
    "    \n",
    "year = int(input(\"Enter a year: \"))\n",
    "month = int(input(\"Enter a month: \"))\n",
    "days = days_in_month(year, month)\n",
    "print(days)\n"
   ]
  },
  {
   "cell_type": "code",
   "execution_count": 18,
   "id": "a5f1a01e",
   "metadata": {},
   "outputs": [
    {
     "name": "stdout",
     "output_type": "stream",
     "text": [
      "Ko Young\n"
     ]
    }
   ],
   "source": [
    "# 독스트링 : 함수에 설명 작성\n",
    "# 함수 출력 (1)\n",
    "def format_name(f_name, l_name):\n",
    "    \"\"\"이 함수는 이름의 성과 이름 첫 글자를 \n",
    "    대문자로 만들어 주는 함수입니다\"\"\"\n",
    "    formated_f = f_name.title()\n",
    "    formated_l = l_name.title()\n",
    "    print(f\"{formated_f} {formated_l}\")\n",
    "    \n",
    "format_name(\"ko\", \"young\")\n",
    "format_name()"
   ]
  },
  {
   "attachments": {
    "image.png": {
     "image/png": "[encoded data removed]"
    }
   },
   "cell_type": "markdown",
   "id": "48df76b2",
   "metadata": {},
   "source": [
    ">![image.png](attachment:image.png)"
   ]
  },
  {
   "cell_type": "code",
   "execution_count": 20,
   "id": "03faf6ae",
   "metadata": {},
   "outputs": [
    {
     "name": "stdout",
     "output_type": "stream",
     "text": [
      "첫번째 숫자는? : 3\n",
      "+\n",
      "-\n",
      "*\n",
      "/\n",
      "어떤 계산을 할건가요? : +\n",
      "두번째 숫자는? : 5\n",
      "3 + 5 = 8\n"
     ]
    }
   ],
   "source": [
    "# 계산기 프로그램 만들기 (1)\n",
    "def add(n1, n2):\n",
    "    return n1 + n2\n",
    "\n",
    "def subtract(n1, n2):\n",
    "    return n1 - n2\n",
    "\n",
    "def multiply(n1, n2):\n",
    "    return n1 * n2\n",
    "\n",
    "def divide(n1, n2):\n",
    "    return n1 / n2\n",
    "\n",
    "operations= {\n",
    "    \"+\" : add,\n",
    "    \"-\" : subtract,\n",
    "    \"*\" : multiply,\n",
    "    \"/\" : divide\n",
    "}\n",
    "\n",
    "num1 = int(input(\"첫번째 숫자는? : \"))\n",
    "\n",
    "for symbol in operations:\n",
    "    print(symbol)\n",
    "operations_symbol = input(\"어떤 계산을 할건가요? : \")\n",
    "num2 = int(input(\"두번째 숫자는? : \"))\n",
    "\n",
    "calculation_function = operations[operations_symbol]\n",
    "answer = calculation_function(num1, num2)\n",
    "\n",
    "print(f\"{num1} {operations_symbol} {num2} = {answer}\")"
   ]
  },
  {
   "cell_type": "code",
   "execution_count": 22,
   "id": "ec346a91",
   "metadata": {},
   "outputs": [
    {
     "name": "stdout",
     "output_type": "stream",
     "text": [
      "첫번째 숫자는? : 1\n",
      "+\n",
      "-\n",
      "*\n",
      "/\n",
      "어떤 계산을 할건가요? : +\n",
      "두번째 숫자는? : 9\n",
      "1 + 9 = 10\n",
      "다른 계산을 할거면 계산할 식을 입력하세요 : /\n",
      "세번째 숫자는? 2\n",
      "10 / 2 = 5.0\n"
     ]
    }
   ],
   "source": [
    "# 계산기 프로그램 만들기 (2) 두번 반복\n",
    "def add(n1, n2):\n",
    "    return n1 + n2\n",
    "\n",
    "def subtract(n1, n2):\n",
    "    return n1 - n2\n",
    "\n",
    "def multiply(n1, n2):\n",
    "    return n1 * n2\n",
    "\n",
    "def divide(n1, n2):\n",
    "    return n1 / n2\n",
    "\n",
    "operations= {\n",
    "    \"+\" : add,\n",
    "    \"-\" : subtract,\n",
    "    \"*\" : multiply,\n",
    "    \"/\" : divide\n",
    "}\n",
    "\n",
    "num1 = int(input(\"첫번째 숫자는? : \"))\n",
    "\n",
    "for symbol in operations:\n",
    "    print(symbol)\n",
    "    \n",
    "operations_symbol = input(\"어떤 계산을 할건가요? : \")\n",
    "num2 = int(input(\"두번째 숫자는? : \"))\n",
    "\n",
    "calculation_function = operations[operations_symbol]\n",
    "answer = calculation_function(num1, num2)\n",
    "\n",
    "print(f\"{num1} {operations_symbol} {num2} = {answer}\")\n",
    "\n",
    "operations_symbol = input(\"다른 계산을 할거면 계산할 식을 입력하세요 : \")\n",
    "num3 = int(input(\"세번째 숫자는? \"))\n",
    "calculation_function = operations[operations_symbol]\n",
    "second_answer = calculation_function(answer, num3)\n",
    "\n",
    "print(f\"{answer} {operations_symbol} {num3} = {second_answer}\")"
   ]
  },
  {
   "cell_type": "code",
   "execution_count": 24,
   "id": "8f04d8ab",
   "metadata": {},
   "outputs": [
    {
     "name": "stdout",
     "output_type": "stream",
     "text": [
      "첫번째 숫자는? : 5\n",
      "+\n",
      "-\n",
      "*\n",
      "/\n",
      "어떤 계산을 할건가요? : +\n",
      "다음 숫자는? : 3\n",
      "5 + 3 = 8\n",
      "계산된 값 8을 이어서 계산 할 거라면 'y'를 입력하세요.\n",
      "끝낸다면 'n'을 입력하세요y\n",
      "어떤 계산을 할건가요? : *\n",
      "다음 숫자는? : 2\n",
      "8 * 2 = 16\n",
      "계산된 값 16을 이어서 계산 할 거라면 'y'를 입력하세요.\n",
      "끝낸다면 'n'을 입력하세요n\n"
     ]
    }
   ],
   "source": [
    "# 계산기 프로그램 만들기 (3) 여러번 반복\n",
    "def add(n1, n2):\n",
    "    return n1 + n2\n",
    "\n",
    "def subtract(n1, n2):\n",
    "    return n1 - n2\n",
    "\n",
    "def multiply(n1, n2):\n",
    "    return n1 * n2\n",
    "\n",
    "def divide(n1, n2):\n",
    "    return n1 / n2\n",
    "\n",
    "operations= {\n",
    "    \"+\" : add,\n",
    "    \"-\" : subtract,\n",
    "    \"*\" : multiply,\n",
    "    \"/\" : divide\n",
    "}\n",
    "\n",
    "num1 = int(input(\"첫번째 숫자는? : \"))\n",
    "\n",
    "for symbol in operations:\n",
    "    print(symbol)\n",
    "\n",
    "should_continue = True\n",
    "while should_continue:\n",
    "    operations_symbol = input(\"어떤 계산을 할건가요? : \")\n",
    "    num2 = int(input(\"다음 숫자는? : \"))\n",
    "\n",
    "    calculation_function = operations[operations_symbol]\n",
    "    answer = calculation_function(num1, num2)\n",
    "\n",
    "    print(f\"{num1} {operations_symbol} {num2} = {answer}\")\n",
    "\n",
    "    if input(f\"계산된 값 {answer}을 이어서 계산 할 거라면 'y'를 입력하세요. 끝내려면 'n'을 입력하세요\") == \"y\":\n",
    "        num1 = answer\n",
    "    else :\n",
    "        should_continue = False"
   ]
  },
  {
   "cell_type": "code",
   "execution_count": null,
   "id": "7f52c0f6",
   "metadata": {},
   "outputs": [],
   "source": [
    "# 계산기 프로그램 만들기 (4) 새롭게 다시 시작할 수 있는 기능\n",
    "def add(n1, n2):\n",
    "    return n1 + n2\n",
    "\n",
    "def subtract(n1, n2):\n",
    "    return n1 - n2\n",
    "\n",
    "def multiply(n1, n2):\n",
    "    return n1 * n2\n",
    "\n",
    "def divide(n1, n2):\n",
    "    return n1 / n2\n",
    "\n",
    "operations= {\n",
    "    \"+\" : add,\n",
    "    \"-\" : subtract,\n",
    "    \"*\" : multiply,\n",
    "    \"/\" : divide\n",
    "}\n",
    "\n",
    "def calulation():\n",
    "    num1 = int(input(\"첫번째 숫자는? : \"))\n",
    "\n",
    "    for symbol in operations:\n",
    "        print(symbol)\n",
    "\n",
    "    should_continue = True\n",
    "    while should_continue:\n",
    "        operations_symbol = input(\"어떤 계산을 할건가요? : \")\n",
    "        num2 = int(input(\"다음 숫자는? : \"))\n",
    "\n",
    "        calculation_function = operations[operations_symbol]\n",
    "        answer = calculation_function(num1, num2)\n",
    "\n",
    "        print(f\"{num1} {operations_symbol} {num2} = {answer}\")\n",
    "\n",
    "        if input(f\"계산된 값 {answer}을 이어서 계산 할 거라면 'y'를 입력하세요. 새롭게 시작하려면 'n'을 입력하세요\") == \"y\":\n",
    "            num1 = answer\n",
    "        else :\n",
    "            \n",
    "            should_continue = False\n",
    "            calulation()\n",
    "calulation()"
   ]
  },
  {
   "cell_type": "code",
   "execution_count": 33,
   "id": "129cbd7e",
   "metadata": {},
   "outputs": [
    {
     "name": "stdout",
     "output_type": "stream",
     "text": [
      "\n",
      " _____________________\n",
      "|  _________________  |\n",
      "| | Pythonista   0. | |  .----------------.  .----------------.  .----------------.  .----------------. \n",
      "| |_________________| | | .--------------. || .--------------. || .--------------. || .--------------. |\n",
      "|  ___ ___ ___   ___  | | |     ______   | || |      __      | || |   _____      | || |     ______   | |\n",
      "| | 7 | 8 | 9 | | + | | | |   .' ___  |  | || |     /  \\     | || |  |_   _|     | || |   .' ___  |  | |\n",
      "| |___|___|___| |___| | | |  / .'   \\_|  | || |    / /\\ \\    | || |    | |       | || |  / .'   \\_|  | |\n",
      "| | 4 | 5 | 6 | | - | | | |  | |         | || |   / ____ \\   | || |    | |   _   | || |  | |         | |\n",
      "| |___|___|___| |___| | | |  \\ `.___.'\\  | || | _/ /    \\ \\_ | || |   _| |__/ |  | || |  \\ `.___.'\\  | |\n",
      "| | 1 | 2 | 3 | | x | | | |   `._____.'  | || ||____|  |____|| || |  |________|  | || |   `._____.'  | |\n",
      "| |___|___|___| |___| | | |              | || |              | || |              | || |              | |\n",
      "| | . | 0 | = | | / | | | '--------------' || '--------------' || '--------------' || '--------------' |\n",
      "| |___|___|___| |___| |  '----------------'  '----------------'  '----------------'  '----------------' \n",
      "|_____________________|\n",
      "\n",
      "첫번째 숫자는? : 2\n",
      "+\n",
      "-\n",
      "*\n",
      "/\n",
      "어떤 계산을 할건가요? : *\n",
      "다음 숫자는? : 10\n",
      "2.0 * 10.0 = 20.0\n",
      "계산된 값 20.0을 이어서 계산 할 거라면 'y'를 입력하세요. 새롭게 시작하려면 'n'을, 끝내려면 'end'를 입력하세요y\n",
      "어떤 계산을 할건가요? : *\n",
      "다음 숫자는? : 3\n",
      "20.0 * 3.0 = 60.0\n",
      "계산된 값 60.0을 이어서 계산 할 거라면 'y'를 입력하세요. 새롭게 시작하려면 'n'을, 끝내려면 'end'를 입력하세요n\n",
      "\n",
      " _____________________\n",
      "|  _________________  |\n",
      "| | Pythonista   0. | |  .----------------.  .----------------.  .----------------.  .----------------. \n",
      "| |_________________| | | .--------------. || .--------------. || .--------------. || .--------------. |\n",
      "|  ___ ___ ___   ___  | | |     ______   | || |      __      | || |   _____      | || |     ______   | |\n",
      "| | 7 | 8 | 9 | | + | | | |   .' ___  |  | || |     /  \\     | || |  |_   _|     | || |   .' ___  |  | |\n",
      "| |___|___|___| |___| | | |  / .'   \\_|  | || |    / /\\ \\    | || |    | |       | || |  / .'   \\_|  | |\n",
      "| | 4 | 5 | 6 | | - | | | |  | |         | || |   / ____ \\   | || |    | |   _   | || |  | |         | |\n",
      "| |___|___|___| |___| | | |  \\ `.___.'\\  | || | _/ /    \\ \\_ | || |   _| |__/ |  | || |  \\ `.___.'\\  | |\n",
      "| | 1 | 2 | 3 | | x | | | |   `._____.'  | || ||____|  |____|| || |  |________|  | || |   `._____.'  | |\n",
      "| |___|___|___| |___| | | |              | || |              | || |              | || |              | |\n",
      "| | . | 0 | = | | / | | | '--------------' || '--------------' || '--------------' || '--------------' |\n",
      "| |___|___|___| |___| |  '----------------'  '----------------'  '----------------'  '----------------' \n",
      "|_____________________|\n",
      "\n",
      "첫번째 숫자는? : 3\n",
      "+\n",
      "-\n",
      "*\n",
      "/\n",
      "어떤 계산을 할건가요? : *\n",
      "다음 숫자는? : 3.9\n",
      "3.0 * 3.9 = 11.7\n",
      "계산된 값 11.7을 이어서 계산 할 거라면 'y'를 입력하세요. 새롭게 시작하려면 'n'을, 끝내려면 'end'를 입력하세요n\n",
      "\n",
      " _____________________\n",
      "|  _________________  |\n",
      "| | Pythonista   0. | |  .----------------.  .----------------.  .----------------.  .----------------. \n",
      "| |_________________| | | .--------------. || .--------------. || .--------------. || .--------------. |\n",
      "|  ___ ___ ___   ___  | | |     ______   | || |      __      | || |   _____      | || |     ______   | |\n",
      "| | 7 | 8 | 9 | | + | | | |   .' ___  |  | || |     /  \\     | || |  |_   _|     | || |   .' ___  |  | |\n",
      "| |___|___|___| |___| | | |  / .'   \\_|  | || |    / /\\ \\    | || |    | |       | || |  / .'   \\_|  | |\n",
      "| | 4 | 5 | 6 | | - | | | |  | |         | || |   / ____ \\   | || |    | |   _   | || |  | |         | |\n",
      "| |___|___|___| |___| | | |  \\ `.___.'\\  | || | _/ /    \\ \\_ | || |   _| |__/ |  | || |  \\ `.___.'\\  | |\n",
      "| | 1 | 2 | 3 | | x | | | |   `._____.'  | || ||____|  |____|| || |  |________|  | || |   `._____.'  | |\n",
      "| |___|___|___| |___| | | |              | || |              | || |              | || |              | |\n",
      "| | . | 0 | = | | / | | | '--------------' || '--------------' || '--------------' || '--------------' |\n",
      "| |___|___|___| |___| |  '----------------'  '----------------'  '----------------'  '----------------' \n",
      "|_____________________|\n",
      "\n",
      "첫번째 숫자는? : 3\n",
      "+\n",
      "-\n",
      "*\n",
      "/\n",
      "어떤 계산을 할건가요? : /\n",
      "다음 숫자는? : 0.5\n",
      "3.0 / 0.5 = 6.0\n",
      "계산된 값 6.0을 이어서 계산 할 거라면 'y'를 입력하세요. 새롭게 시작하려면 'n'을, 끝내려면 'end'를 입력하세요end\n"
     ]
    }
   ],
   "source": [
    "# 계산기 프로그램 만들기 (5) 이어하기, 새로하기, 끝내기 기능 (최종), 소수입력 가능\n",
    "from calculation_logo import logo\n",
    "def add(n1, n2):\n",
    "    return n1 + n2\n",
    "\n",
    "def subtract(n1, n2):\n",
    "    return n1 - n2\n",
    "\n",
    "def multiply(n1, n2):\n",
    "    return n1 * n2\n",
    "\n",
    "def divide(n1, n2):\n",
    "    return n1 / n2\n",
    "\n",
    "operations= {\n",
    "    \"+\" : add,\n",
    "    \"-\" : subtract,\n",
    "    \"*\" : multiply,\n",
    "    \"/\" : divide\n",
    "}\n",
    "\n",
    "def calulation():\n",
    "    print(logo)\n",
    "    num1 = float(input(\"첫번째 숫자는? : \"))\n",
    "\n",
    "    for symbol in operations:\n",
    "        print(symbol)\n",
    "\n",
    "    should_continue = True\n",
    "    while should_continue:\n",
    "        operations_symbol = input(\"어떤 계산을 할건가요? : \")\n",
    "        num2 = float(input(\"다음 숫자는? : \"))\n",
    "\n",
    "        calculation_function = operations[operations_symbol]\n",
    "        answer = calculation_function(num1, num2)\n",
    "\n",
    "        print(f\"{num1} {operations_symbol} {num2} = {answer}\")\n",
    "        ask_continue = input(f\"계산된 값 {answer}을 이어서 계산 할 거라면 'y'를 입력하세요. 새롭게 시작하려면 'n'을, 끝내려면 'end'를 입력하세요\")\n",
    "        ask_continue = ask_continue\n",
    "\n",
    "        if  ask_continue== \"y\":\n",
    "            num1 = answer\n",
    "        elif ask_continue == \"n\" :            \n",
    "            should_continue = False\n",
    "            calulation()\n",
    "        else :\n",
    "            should_continue = False\n",
    "calulation()"
   ]
  },
  {
   "cell_type": "code",
   "execution_count": null,
   "id": "4cf025b9",
   "metadata": {},
   "outputs": [],
   "source": []
  },
  {
   "cell_type": "code",
   "execution_count": null,
   "id": "abdfd81b",
   "metadata": {},
   "outputs": [],
   "source": []
  },
  {
   "cell_type": "code",
   "execution_count": null,
   "id": "4ad48d78",
   "metadata": {},
   "outputs": [],
   "source": []
  },
  {
   "cell_type": "code",
   "execution_count": null,
   "id": "ac522234",
   "metadata": {},
   "outputs": [],
   "source": []
  }
 ],
 "metadata": {
  "kernelspec": {
   "display_name": "Python 3 (ipykernel)",
   "language": "python",
   "name": "python3"
  },
  "language_info": {
   "codemirror_mode": {
    "name": "ipython",
    "version": 3
   },
   "file_extension": ".py",
   "mimetype": "text/x-python",
   "name": "python",
   "nbconvert_exporter": "python",
   "pygments_lexer": "ipython3",
   "version": "3.9.12"
  }
 },
 "nbformat": 4,
 "nbformat_minor": 5
}
