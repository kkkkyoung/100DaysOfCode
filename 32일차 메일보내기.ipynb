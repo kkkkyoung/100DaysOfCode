{
 "cells": [
  {
   "cell_type": "markdown",
   "id": "73edab99",
   "metadata": {},
   "source": [
    "# 강의 대로 했을 경우 에러 발생\n",
    "## 강의 + 실행되는 식으로 작성해보겠음"
   ]
  },
  {
   "cell_type": "code",
   "execution_count": 7,
   "id": "05264f3f",
   "metadata": {
    "collapsed": true
   },
   "outputs": [
    {
     "ename": "UnicodeEncodeError",
     "evalue": "'ascii' codec can't encode characters in position 17-21: ordinal not in range(128)",
     "output_type": "error",
     "traceback": [
      "\u001b[1;31m---------------------------------------------------------------------------\u001b[0m",
      "\u001b[1;31mUnicodeEncodeError\u001b[0m                        Traceback (most recent call last)",
      "Cell \u001b[1;32mIn [7], line 9\u001b[0m\n\u001b[0;32m      7\u001b[0m connection\u001b[38;5;241m.\u001b[39mstarttls() \u001b[38;5;66;03m# 안전을 위한 암호화\u001b[39;00m\n\u001b[0;32m      8\u001b[0m connection\u001b[38;5;241m.\u001b[39mlogin(user\u001b[38;5;241m=\u001b[39mmy_email, password\u001b[38;5;241m=\u001b[39mmy_password)\n\u001b[1;32m----> 9\u001b[0m \u001b[43mconnection\u001b[49m\u001b[38;5;241;43m.\u001b[39;49m\u001b[43msendmail\u001b[49m\u001b[43m(\u001b[49m\u001b[43mfrom_addr\u001b[49m\u001b[38;5;241;43m=\u001b[39;49m\u001b[43mmy_email\u001b[49m\u001b[43m,\u001b[49m\u001b[43m \u001b[49m\n\u001b[0;32m     10\u001b[0m \u001b[43m                    \u001b[49m\u001b[43mto_addrs\u001b[49m\u001b[38;5;241;43m=\u001b[39;49m\u001b[43mmy_email\u001b[49m\u001b[43m,\u001b[49m\u001b[43m \u001b[49m\n\u001b[0;32m     11\u001b[0m \u001b[43m                    \u001b[49m\u001b[43mmsg\u001b[49m\u001b[38;5;241;43m=\u001b[39;49m\u001b[38;5;124;43m\"\u001b[39;49m\u001b[38;5;124;43mSubject:Hello\u001b[39;49m\u001b[38;5;130;43;01m\\n\u001b[39;49;00m\u001b[38;5;130;43;01m\\n\u001b[39;49;00m\u001b[38;5;124;43m본문입니다\u001b[39;49m\u001b[38;5;124;43m\"\u001b[39;49m\u001b[43m)\u001b[49m\n",
      "File \u001b[1;32m~\\anaconda3\\lib\\smtplib.py:875\u001b[0m, in \u001b[0;36mSMTP.sendmail\u001b[1;34m(self, from_addr, to_addrs, msg, mail_options, rcpt_options)\u001b[0m\n\u001b[0;32m    873\u001b[0m esmtp_opts \u001b[38;5;241m=\u001b[39m []\n\u001b[0;32m    874\u001b[0m \u001b[38;5;28;01mif\u001b[39;00m \u001b[38;5;28misinstance\u001b[39m(msg, \u001b[38;5;28mstr\u001b[39m):\n\u001b[1;32m--> 875\u001b[0m     msg \u001b[38;5;241m=\u001b[39m \u001b[43m_fix_eols\u001b[49m\u001b[43m(\u001b[49m\u001b[43mmsg\u001b[49m\u001b[43m)\u001b[49m\u001b[38;5;241;43m.\u001b[39;49m\u001b[43mencode\u001b[49m\u001b[43m(\u001b[49m\u001b[38;5;124;43m'\u001b[39;49m\u001b[38;5;124;43mascii\u001b[39;49m\u001b[38;5;124;43m'\u001b[39;49m\u001b[43m)\u001b[49m\n\u001b[0;32m    876\u001b[0m \u001b[38;5;28;01mif\u001b[39;00m \u001b[38;5;28mself\u001b[39m\u001b[38;5;241m.\u001b[39mdoes_esmtp:\n\u001b[0;32m    877\u001b[0m     \u001b[38;5;28;01mif\u001b[39;00m \u001b[38;5;28mself\u001b[39m\u001b[38;5;241m.\u001b[39mhas_extn(\u001b[38;5;124m'\u001b[39m\u001b[38;5;124msize\u001b[39m\u001b[38;5;124m'\u001b[39m):\n",
      "\u001b[1;31mUnicodeEncodeError\u001b[0m: 'ascii' codec can't encode characters in position 17-21: ordinal not in range(128)"
     ]
    }
   ],
   "source": [
    "# 강의\n",
    "import smtplib\n",
    "\n",
    "my_email = \"메일주소\"\n",
    "my_password=\"비밀번호\"\n",
    "\n",
    "with smtplib.SMTP(\"smtp.naver.com\") as connection:\n",
    "    connection.starttls() # 안전을 위한 암호화\n",
    "    connection.login(user=my_email, password=my_password)\n",
    "    connection.sendmail(from_addr=my_email, \n",
    "                        to_addrs=my_email, \n",
    "                        msg=\"Subject:Hello\\n\\n본문입니다\")"
   ]
  },
  {
   "cell_type": "code",
   "execution_count": null,
   "id": "e3c309d1",
   "metadata": {},
   "outputs": [],
   "source": [
    "# 찾아서 해본결과\n",
    "import smtplib\n",
    "from email.mime.multipart import MIMEMultipart\n",
    "from email.mime.text import MIMEText\n",
    "from email.mime.image import MIMEImage\n",
    "from email.mime.application import MIMEApplication\n",
    "\n",
    "recipients = \"받는주소\"\n",
    "\n",
    "message = MIMEMultipart();\n",
    "message['Subject'] = '메일 전송 테스트' # 메일제목\n",
    "message['From'] = \"보내는메일주소\"\n",
    "message['To'] = recipients\n",
    "\n",
    "# 메일 컨텐츠\n",
    "content = \"\"\"\n",
    "    <html>\n",
    "    <body>\n",
    "        <h2>{title}</h2>\n",
    "        <p>메일 전송 테스트입니다</p>\n",
    "    </body>\n",
    "    </html>\n",
    "\"\"\".format(\n",
    "title = '메일.. 받으셨나요..?'\n",
    ")\n",
    "\n",
    "mimetext = MIMEText(content,'html')\n",
    "message.attach(mimetext)\n",
    "\n",
    "# smtp 이용해 메일 전송\n",
    "\n",
    "email_id = '메일아이디(@부터 뒤에 빼고)'\n",
    "email_pw = '비밀번호'\n",
    "\n",
    "server = smtplib.SMTP('smtp.naver.com',587)\n",
    "server.ehlo()\n",
    "server.starttls()\n",
    "server.login(email_id,email_pw)\n",
    "server.sendmail(message['From'],recipients,message.as_string())\n",
    "server.quit()"
   ]
  },
  {
   "cell_type": "code",
   "execution_count": 7,
   "id": "48b40593",
   "metadata": {},
   "outputs": [
    {
     "name": "stdout",
     "output_type": "stream",
     "text": [
      "a,b\n",
      "['a', 'b']\n"
     ]
    }
   ],
   "source": [
    "a = [\"a\", \"b\"]  # 만약 수신자가 여럿이라면 [\"To\"]에 join 쓰기\n",
    "print(\",\".join(a))\n",
    "print(a)"
   ]
  },
  {
   "cell_type": "markdown",
   "id": "31842d6c",
   "metadata": {},
   "source": [
    "## 특정 요일마다 동기부여 메일 보내기"
   ]
  },
  {
   "cell_type": "code",
   "execution_count": 14,
   "id": "8df95efb",
   "metadata": {},
   "outputs": [
    {
     "name": "stdout",
     "output_type": "stream",
     "text": [
      "2022\n",
      "2022-12-14 12:34:35.362641\n",
      "1995-12-30 20:00:00\n"
     ]
    }
   ],
   "source": [
    "# datetime 쓰는법\n",
    "import smtplib\n",
    "import datetime as dt\n",
    "\n",
    "now = dt.datetime.now()\n",
    "print(now.year)\n",
    "print(now)\n",
    "date_of_birth = dt.datetime(year=1995, month=12, day=30, hour=20)\n",
    "print(date_of_birth)"
   ]
  },
  {
   "cell_type": "code",
   "execution_count": 42,
   "id": "5515ccba",
   "metadata": {
    "collapsed": true
   },
   "outputs": [
    {
     "name": "stdout",
     "output_type": "stream",
     "text": [
      "\"There is no traffic jam along the extra mile.\" - Roger Staubach\n",
      "\n"
     ]
    },
    {
     "ename": "SMTPDataError",
     "evalue": "(553, b'5.7.2 The sender address is not a valid RFC-5322 address gno6PW4VSziKBawQdMxO6Q - nsmtp')",
     "output_type": "error",
     "traceback": [
      "\u001b[1;31m---------------------------------------------------------------------------\u001b[0m",
      "\u001b[1;31mSMTPDataError\u001b[0m                             Traceback (most recent call last)",
      "Cell \u001b[1;32mIn [42], line 24\u001b[0m\n\u001b[0;32m     22\u001b[0m connection\u001b[38;5;241m.\u001b[39mstarttls()\n\u001b[0;32m     23\u001b[0m connection\u001b[38;5;241m.\u001b[39mlogin(my_e, my_p)\n\u001b[1;32m---> 24\u001b[0m \u001b[43mconnection\u001b[49m\u001b[38;5;241;43m.\u001b[39;49m\u001b[43msendmail\u001b[49m\u001b[43m(\u001b[49m\u001b[43mfrom_addr\u001b[49m\u001b[43m \u001b[49m\u001b[38;5;241;43m=\u001b[39;49m\u001b[43m \u001b[49m\u001b[43mmy_e\u001b[49m\u001b[43m,\u001b[49m\n\u001b[0;32m     25\u001b[0m \u001b[43m                    \u001b[49m\u001b[43mto_addrs\u001b[49m\u001b[43m \u001b[49m\u001b[38;5;241;43m=\u001b[39;49m\u001b[43m \u001b[49m\u001b[43mmy_e\u001b[49m\u001b[43m,\u001b[49m\u001b[43m \u001b[49m\n\u001b[0;32m     26\u001b[0m \u001b[43m                    \u001b[49m\u001b[43mmsg\u001b[49m\u001b[43m \u001b[49m\u001b[38;5;241;43m=\u001b[39;49m\u001b[43m \u001b[49m\u001b[38;5;124;43mf\u001b[39;49m\u001b[38;5;124;43m\"\u001b[39;49m\u001b[38;5;132;43;01m{\u001b[39;49;00m\u001b[43mmsg\u001b[49m\u001b[38;5;132;43;01m}\u001b[39;49;00m\u001b[38;5;130;43;01m\\n\u001b[39;49;00m\u001b[38;5;130;43;01m\\n\u001b[39;49;00m\u001b[38;5;132;43;01m{\u001b[39;49;00m\u001b[43mquote\u001b[49m\u001b[38;5;132;43;01m}\u001b[39;49;00m\u001b[38;5;124;43m\"\u001b[39;49m\u001b[43m)\u001b[49m\n",
      "File \u001b[1;32m~\\anaconda3\\lib\\smtplib.py:908\u001b[0m, in \u001b[0;36mSMTP.sendmail\u001b[1;34m(self, from_addr, to_addrs, msg, mail_options, rcpt_options)\u001b[0m\n\u001b[0;32m    906\u001b[0m     \u001b[38;5;28;01melse\u001b[39;00m:\n\u001b[0;32m    907\u001b[0m         \u001b[38;5;28mself\u001b[39m\u001b[38;5;241m.\u001b[39m_rset()\n\u001b[1;32m--> 908\u001b[0m     \u001b[38;5;28;01mraise\u001b[39;00m SMTPDataError(code, resp)\n\u001b[0;32m    909\u001b[0m \u001b[38;5;66;03m#if we got here then somebody got our mail\u001b[39;00m\n\u001b[0;32m    910\u001b[0m \u001b[38;5;28;01mreturn\u001b[39;00m senderrs\n",
      "\u001b[1;31mSMTPDataError\u001b[0m: (553, b'5.7.2 The sender address is not a valid RFC-5322 address gno6PW4VSziKBawQdMxO6Q - nsmtp')"
     ]
    }
   ],
   "source": [
    "# 금요일마다 동기부여 메일 보내기 - 강의\n",
    "\n",
    "import smtplib\n",
    "import datetime as dt\n",
    "import random\n",
    "import urllib.parse \n",
    "\n",
    "\n",
    "my_e = \"메일주소\"\n",
    "my_p = \"비밀번호\"\n",
    "msg = urllib.parse.quote(\"Subject:월요일 동기부여\")# 한글 아스키코드로 변환\n",
    "\n",
    "now = dt.datetime.now()\n",
    "weekday = now.weekday()\n",
    "if weekday == 0: # 월요일이면\n",
    "    with open(\"quotes_32.txt\") as quote_file:\n",
    "        all_quotes = quote_file.readlines()\n",
    "        quote = random.choice(all_quotes)\n",
    "        \n",
    "    print(quote)\n",
    "    with smtplib.SMTP(\"smtp.naver.com\") as connection:\n",
    "        connection.starttls()\n",
    "        connection.login(my_e, my_p)\n",
    "        connection.sendmail(from_addr = my_e,\n",
    "                            to_addrs = my_e, \n",
    "                            msg = f\"{msg}\\n\\n{quote}\")"
   ]
  },
  {
   "cell_type": "code",
   "execution_count": 18,
   "id": "de0ce560",
   "metadata": {},
   "outputs": [
    {
     "name": "stdout",
     "output_type": "stream",
     "text": [
      "\"I don't want to get to the end of my life and find that I lived just the length of it. I want to have lived the width of it as well.\" - Diane Ackerman\n",
      "\n"
     ]
    }
   ],
   "source": [
    "# 찾아서 해본결과\n",
    "import smtplib\n",
    "import datetime as dt\n",
    "import random\n",
    "from email.mime.text import MIMEText\n",
    "\n",
    "email_id = '메일아이디'\n",
    "email_pw = '비밀번호'\n",
    "recipients = \"수신메일\"\n",
    "\n",
    "now = dt.datetime.now()\n",
    "weekday = now.weekday()\n",
    "\n",
    "if weekday == 4: # 금요일이면 # 월요일=0\n",
    "    with open(\"quotes_32.txt\") as quote_file:\n",
    "        all_quotes = quote_file.readlines()\n",
    "        quote = random.choice(all_quotes)\n",
    "        \n",
    "    print(quote)\n",
    "    # smtp 이용해 메일 전송\n",
    "    with smtplib.SMTP(\"smtp.naver.com\") as connection:\n",
    "        #server.ehlo()\n",
    "        connection.starttls()\n",
    "        connection.login(email_id, email_pw)\n",
    "        msg = f\"오늘의 동기부여 : {quote}\" # 본문 메세지\n",
    "        message=MIMEText(msg)\n",
    "        message['Subject'] = '금요일 동기부여' # 메일제목\n",
    "        message['From'] = \"보내는 메일주소\"\n",
    "        message['To'] = recipients\n",
    "        connection.sendmail(message['From'],recipients,message.as_string())"
   ]
  },
  {
   "cell_type": "markdown",
   "id": "d0e7d5ab",
   "metadata": {},
   "source": [
    "# 생일 자동축하하기"
   ]
  },
  {
   "cell_type": "code",
   "execution_count": null,
   "id": "abb41b53",
   "metadata": {},
   "outputs": [],
   "source": [
    "# 강의\n",
    "from datetime import datetime\n",
    "import pandas\n",
    "import random\n",
    "import smtplib\n",
    "\n",
    "MY_EMAIL = \"메일주소\"\n",
    "MY_PASSWORD = \"비밀번호\"\n",
    "\n",
    "today = datetime.now()\n",
    "today_tuple = (today.month, today.day) # 12월, 16일\n",
    "\n",
    "data = pandas.read_csv(\"birthdays_32.csv\")\n",
    "birthdays_dict = {(data_row[\"month\"], data_row[\"day\"]): data_row for (index, data_row) in data.iterrows()}\n",
    "if today_tuple in birthdays_dict:\n",
    "    birthday_person = birthdays_dict[today_tuple]\n",
    "    file_path = f\"letter_templates/letter_{random.randint(1,3)}.txt\"\n",
    "    with open(file_path) as letter_file:\n",
    "        contents = letter_file.read()\n",
    "        contents = contents.replace(\"[NAME]\", birthday_person[\"name\"])\n",
    "\n",
    "    with smtplib.SMTP(\"smtp.naver.com\") as connection:\n",
    "        connection.starttls()\n",
    "        connection.login(MY_EMAIL, MY_PASSWORD)\n",
    "        connection.sendmail(\n",
    "            from_addr=MY_EMAIL,\n",
    "            to_addrs=birthday_person[\"email\"],\n",
    "            msg=f\"Subject:Happy Birthday!\\n\\n{contents}\"\n",
    "        )\n"
   ]
  },
  {
   "cell_type": "code",
   "execution_count": 44,
   "id": "e2ab8f2e",
   "metadata": {},
   "outputs": [],
   "source": [
    "# 찾아본거\n",
    "from datetime import datetime\n",
    "import pandas\n",
    "import random\n",
    "import smtplib\n",
    "from email.mime.text import MIMEText\n",
    "\n",
    "email_id = '메일아이디'\n",
    "email_pw = '비밀번호'\n",
    "\n",
    "today = datetime.now()\n",
    "today_tuple = (today.month, today.day) # 12월, 16일\n",
    "\n",
    "data = pandas.read_csv(\"birthdays_32.csv\")\n",
    "birthdays_dict = {(data_row[\"month\"], data_row[\"day\"]): data_row for (index, data_row) in data.iterrows()}\n",
    "if today_tuple in birthdays_dict:\n",
    "    birthday_person = birthdays_dict[today_tuple]\n",
    "    file_path = f\"letter_templates_32/letter_{random.randint(1,3)}.txt\"\n",
    "    with open(file_path) as letter_file:\n",
    "        contents = letter_file.read()\n",
    "        contents = contents.replace(\"[NAME]\", birthday_person[\"name\"])\n",
    "\n",
    "    with smtplib.SMTP(\"smtp.naver.com\") as connection:\n",
    "        #connection.ehlo()\n",
    "        connection.starttls()\n",
    "        connection.login(email_id, email_pw)\n",
    "        msg=f\"Happy Birthday!\\n\\n{contents}\"\n",
    "        message=MIMEText(msg)\n",
    "        message['Subject'] = 'Happy Birthday!' \n",
    "        message['From'] = \"보내는 메일주소\"\n",
    "        message['To'] = \"받는 메일주소\"\n",
    "        connection.sendmail(message['From'],recipients,message.as_string())"
   ]
  }
 ],
 "metadata": {
  "kernelspec": {
   "display_name": "Python 3 (ipykernel)",
   "language": "python",
   "name": "python3"
  },
  "language_info": {
   "codemirror_mode": {
    "name": "ipython",
    "version": 3
   },
   "file_extension": ".py",
   "mimetype": "text/x-python",
   "name": "python",
   "nbconvert_exporter": "python",
   "pygments_lexer": "ipython3",
   "version": "3.9.12"
  }
 },
 "nbformat": 4,
 "nbformat_minor": 5
}
