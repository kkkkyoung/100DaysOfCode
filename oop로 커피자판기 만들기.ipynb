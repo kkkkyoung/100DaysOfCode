{
 "cells": [
  {
   "cell_type": "markdown",
   "id": "7bb5df1e",
   "metadata": {},
   "source": [
    "# prettytable 사용해보기"
   ]
  },
  {
   "cell_type": "code",
   "execution_count": 1,
   "id": "f16e6e9c",
   "metadata": {},
   "outputs": [
    {
     "name": "stdout",
     "output_type": "stream",
     "text": [
      "Requirement already satisfied: prettytable in c:\\users\\my_com\\anaconda3\\lib\\site-packages (3.5.0)\n",
      "Requirement already satisfied: wcwidth in c:\\users\\my_com\\anaconda3\\lib\\site-packages (from prettytable) (0.2.5)\n",
      "Note: you may need to restart the kernel to use updated packages.\n"
     ]
    }
   ],
   "source": [
    "pip install prettytable"
   ]
  },
  {
   "cell_type": "code",
   "execution_count": 2,
   "id": "bddb2afe",
   "metadata": {},
   "outputs": [],
   "source": [
    "from prettytable import PrettyTable"
   ]
  },
  {
   "cell_type": "code",
   "execution_count": 3,
   "id": "eaae3dec",
   "metadata": {},
   "outputs": [
    {
     "name": "stdout",
     "output_type": "stream",
     "text": [
      "+-------------+\n",
      "| 포켓몬 Name |\n",
      "+-------------+\n",
      "|    피카츄   |\n",
      "|    라이츄   |\n",
      "|    파이리   |\n",
      "+-------------+\n"
     ]
    }
   ],
   "source": [
    "table = PrettyTable()\n",
    "table.add_column(\"포켓몬 Name\", [\"피카츄\", \"라이츄\", \"파이리\"])\n",
    "print(table)"
   ]
  },
  {
   "cell_type": "code",
   "execution_count": 4,
   "id": "5ac5e281",
   "metadata": {},
   "outputs": [
    {
     "name": "stdout",
     "output_type": "stream",
     "text": [
      "{'base_align_value': 'c', '포켓몬 Name': 'c', '포켓몬 Type': 'c'}\n",
      "+-------------+-------------+\n",
      "| 포켓몬 Name | 포켓몬 Type |\n",
      "+-------------+-------------+\n",
      "|    피카츄   |     전기    |\n",
      "|    꼬북이   |      물     |\n",
      "|    파이리   |      불     |\n",
      "+-------------+-------------+\n"
     ]
    }
   ],
   "source": [
    "table = PrettyTable()\n",
    "table.add_column(\"포켓몬 Name\", [\"피카츄\", \"꼬북이\", \"파이리\"])\n",
    "table.add_column(\"포켓몬 Type\", [\"전기\", \"물\", \"불\"])\n",
    "\n",
    "print(table.align)  # c : 중앙정렬\n",
    "print(table)"
   ]
  },
  {
   "cell_type": "code",
   "execution_count": 5,
   "id": "bb248b62",
   "metadata": {},
   "outputs": [
    {
     "name": "stdout",
     "output_type": "stream",
     "text": [
      "{'base_align_value': 'c', '포켓몬 Name': 'l', '포켓몬 Type': 'l'}\n",
      "+-------------+-------------+\n",
      "| 포켓몬 Name | 포켓몬 Type |\n",
      "+-------------+-------------+\n",
      "| 피카츄      | 전기        |\n",
      "| 꼬북이      | 물          |\n",
      "| 파이리      | 불          |\n",
      "+-------------+-------------+\n"
     ]
    }
   ],
   "source": [
    "table = PrettyTable()\n",
    "table.add_column(\"포켓몬 Name\", [\"피카츄\", \"꼬북이\", \"파이리\"])\n",
    "table.add_column(\"포켓몬 Type\", [\"전기\", \"물\", \"불\"])\n",
    "\n",
    "table.align = \"l\"    # l : 왼쪽정렬\n",
    "print(table.align)  \n",
    "print(table)"
   ]
  },
  {
   "cell_type": "markdown",
   "id": "75fb26d1",
   "metadata": {},
   "source": [
    "# oop로 커피자판기 만들기"
   ]
  },
  {
   "cell_type": "code",
   "execution_count": 6,
   "id": "db42a59b",
   "metadata": {},
   "outputs": [],
   "source": [
    "from menu import Menu, MenuItem\n",
    "from coffee_maker import CoffeeMaker\n",
    "from money_machine import MoneyMachine"
   ]
  },
  {
   "cell_type": "code",
   "execution_count": 7,
   "id": "db6c95c0",
   "metadata": {},
   "outputs": [],
   "source": [
    "money_machine = MoneyMachine()\n",
    "coffee_maker = CoffeeMaker()\n",
    "menu = Menu()"
   ]
  },
  {
   "cell_type": "code",
   "execution_count": 8,
   "id": "125dabee",
   "metadata": {},
   "outputs": [
    {
     "name": "stdout",
     "output_type": "stream",
     "text": [
      "Water: 300ml\n",
      "Milk: 200ml\n",
      "Coffee: 100g\n",
      "Money: $0\n"
     ]
    }
   ],
   "source": [
    "coffee_maker.report()\n",
    "money_machine.report()"
   ]
  },
  {
   "cell_type": "code",
   "execution_count": 9,
   "id": "19aae464",
   "metadata": {},
   "outputs": [
    {
     "name": "stdout",
     "output_type": "stream",
     "text": [
      "커피 종류를 선택해 주세요. (latte/espresso/cappuccino/)report\n",
      "Water: 300ml\n",
      "Milk: 200ml\n",
      "Coffee: 100g\n",
      "Money: $0\n",
      "커피 종류를 선택해 주세요. (latte/espresso/cappuccino/)latte\n",
      "Please insert coins.\n",
      "How many quarters?: 10\n",
      "How many dimes?: 10\n",
      "How many nickles?: 10\n",
      "How many pennies?: 10\n",
      "Here is $1.6 in change.\n",
      "Here is your latte ☕️. Enjoy!\n",
      "커피 종류를 선택해 주세요. (latte/espresso/cappuccino/)report\n",
      "Water: 100ml\n",
      "Milk: 50ml\n",
      "Coffee: 76g\n",
      "Money: $2.5\n",
      "커피 종류를 선택해 주세요. (latte/espresso/cappuccino/)off\n"
     ]
    }
   ],
   "source": [
    "is_on = True\n",
    "while is_on:\n",
    "    options = menu.get_items()\n",
    "    choice = input(f\"커피 종류를 선택해 주세요. ({options})\")\n",
    "    if choice == \"off\":\n",
    "        is_on = False\n",
    "    elif choice == \"report\":\n",
    "        coffee_maker.report()\n",
    "        money_machine.report()\n",
    "    else:\n",
    "        drink = menu.find_drink(choice)\n",
    "        if coffee_maker.is_resource_sufficient(drink) and money_machine.make_payment(drink.cost):\n",
    "            coffee_maker.make_coffee(drink)"
   ]
  }
 ],
 "metadata": {
  "kernelspec": {
   "display_name": "Python 3 (ipykernel)",
   "language": "python",
   "name": "python3"
  },
  "language_info": {
   "codemirror_mode": {
    "name": "ipython",
    "version": 3
   },
   "file_extension": ".py",
   "mimetype": "text/x-python",
   "name": "python",
   "nbconvert_exporter": "python",
   "pygments_lexer": "ipython3",
   "version": "3.9.12"
  }
 },
 "nbformat": 4,
 "nbformat_minor": 5
}
