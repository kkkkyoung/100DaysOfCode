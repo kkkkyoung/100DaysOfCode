{
 "cells": [
  {
   "cell_type": "code",
   "execution_count": null,
   "id": "0713cf8a",
   "metadata": {},
   "outputs": [],
   "source": [
    "import time\n",
    "from turtle import Screen\n",
    "from player_23 import Player\n",
    "from car_manager_23 import CarManger\n",
    "from scoreboard_23 import Scoreboard\n",
    "\n",
    "screen = Screen()\n",
    "screen.setup(width=600, height=600)\n",
    "screen.tracer(0)\n",
    "\n",
    "player = Player()\n",
    "car_manager = CarManger()\n",
    "scoreboard = Scoreboard()\n",
    "\n",
    "screen.listen()\n",
    "screen.onkey(player.go_up, \"Up\")  # 위아래 이동\n",
    "screen.onkey(player.go_down, \"Down\")\n",
    "\n",
    "\n",
    "game_is_on = True\n",
    "while game_is_on:\n",
    "    time.sleep(0.1)\n",
    "    screen.update()\n",
    "    \n",
    "    car_manager.create_car()\n",
    "    car_manager.move_cars()\n",
    "    \n",
    "    for car in car_manager.all_cars: # 충돌 감지\n",
    "        if car.distance(player) < 20: # 차 너비 40\n",
    "            game_is_on = False\n",
    "            scoreboard.game_over()\n",
    "            \n",
    "    if player.is_at_finish_line(): # 도착라인\n",
    "        player.go_to_start()\n",
    "        car_manager.level_up() # 속도올리기\n",
    "        scoreboard.increase_level()\n",
    "            \n",
    "            \n",
    "screen.exitonclick()\n"
   ]
  }
 ],
 "metadata": {
  "kernelspec": {
   "display_name": "Python 3 (ipykernel)",
   "language": "python",
   "name": "python3"
  },
  "language_info": {
   "codemirror_mode": {
    "name": "ipython",
    "version": 3
   },
   "file_extension": ".py",
   "mimetype": "text/x-python",
   "name": "python",
   "nbconvert_exporter": "python",
   "pygments_lexer": "ipython3",
   "version": "3.9.12"
  }
 },
 "nbformat": 4,
 "nbformat_minor": 5
}
