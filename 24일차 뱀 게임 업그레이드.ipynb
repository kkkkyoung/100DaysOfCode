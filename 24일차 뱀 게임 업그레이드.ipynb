{
 "cells": [
  {
   "cell_type": "code",
   "execution_count": null,
   "id": "9199dbfb",
   "metadata": {},
   "outputs": [],
   "source": [
    "from turtle import Screen\n",
    "import time\n",
    "from snake_24 import Snake\n",
    "from food_24 import Food\n",
    "from scoreboard_24 import Scoreboard\n",
    "\n",
    "screen = Screen()\n",
    "screen.setup(width=600, height=600)\n",
    "screen.bgcolor(\"black\")\n",
    "screen.title(\"My Snake Game\")\n",
    "screen.tracer(0)\n",
    "\n",
    "snake = Snake()\n",
    "food = Food()\n",
    "scoreboard = Scoreboard()\n",
    "\n",
    "screen.listen()\n",
    "screen.onkey(snake.up, \"Up\")\n",
    "screen.onkey(snake.down, \"Down\")\n",
    "screen.onkey(snake.left, \"Left\")\n",
    "screen.onkey(snake.right, \"Right\")\n",
    "\n",
    "game_is_on = True\n",
    "\n",
    "while game_is_on:\n",
    "    screen.update()\n",
    "    time.sleep(0.1)\n",
    "    snake.move()\n",
    "    \n",
    "    if snake.head.distance(food) < 15:\n",
    "        food.refresh()\n",
    "        snake.extend() # 뱀 길이 늘리기\n",
    "        scoreboard.increase_score()\n",
    "        \n",
    "    if snake.head.xcor() > 280 or snake.head.xcor() < -280 or snake.head.ycor() > 280 or snake.head.ycor() < -280:\n",
    "        scoreboard.reset()\n",
    "        snake.reset()\n",
    "        \n",
    "    # 머리와 꼬리 충돌 감지\n",
    "    for segment in snake.segments[1:]: # 머리는 segment에 해당되지 않도록\n",
    "         if snake.head.distance(segment) < 10:\n",
    "            scoreboard.reset()\n",
    "            snake.reset()\n",
    "\n",
    "screen.exitonclick()"
   ]
  }
 ],
 "metadata": {
  "kernelspec": {
   "display_name": "Python 3 (ipykernel)",
   "language": "python",
   "name": "python3"
  },
  "language_info": {
   "codemirror_mode": {
    "name": "ipython",
    "version": 3
   },
   "file_extension": ".py",
   "mimetype": "text/x-python",
   "name": "python",
   "nbconvert_exporter": "python",
   "pygments_lexer": "ipython3",
   "version": "3.9.12"
  }
 },
 "nbformat": 4,
 "nbformat_minor": 5
}
