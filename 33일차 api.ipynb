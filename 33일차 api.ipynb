{
 "cells": [
  {
   "cell_type": "code",
   "execution_count": 8,
   "id": "58128c89",
   "metadata": {},
   "outputs": [
    {
     "name": "stdout",
     "output_type": "stream",
     "text": [
      "<Response [200]>\n",
      "200\n"
     ]
    }
   ],
   "source": [
    "import requests\n",
    "\n",
    "response= requests.get(\"http://api.open-notify.org/iss-now.json\")\n",
    "\n",
    "\n",
    "print(response) \n",
    "print(response.status_code)"
   ]
  },
  {
   "cell_type": "code",
   "execution_count": 6,
   "id": "4521a904",
   "metadata": {},
   "outputs": [
    {
     "ename": "HTTPError",
     "evalue": "404 Client Error: Not Found for url: http://api.open-notify.org/iss-now.jsonaaaaaaa",
     "output_type": "error",
     "traceback": [
      "\u001b[1;31m---------------------------------------------------------------------------\u001b[0m",
      "\u001b[1;31mHTTPError\u001b[0m                                 Traceback (most recent call last)",
      "Input \u001b[1;32mIn [6]\u001b[0m, in \u001b[0;36m<cell line: 2>\u001b[1;34m()\u001b[0m\n\u001b[0;32m      1\u001b[0m response\u001b[38;5;241m=\u001b[39m requests\u001b[38;5;241m.\u001b[39mget(\u001b[38;5;124m\"\u001b[39m\u001b[38;5;124mhttp://api.open-notify.org/iss-now.jsonaaaaaaa\u001b[39m\u001b[38;5;124m\"\u001b[39m)\n\u001b[1;32m----> 2\u001b[0m \u001b[38;5;28mprint\u001b[39m(\u001b[43mresponse\u001b[49m\u001b[38;5;241;43m.\u001b[39;49m\u001b[43mraise_for_status\u001b[49m\u001b[43m(\u001b[49m\u001b[43m)\u001b[49m)\n",
      "File \u001b[1;32m~\\anaconda3\\lib\\site-packages\\requests\\models.py:960\u001b[0m, in \u001b[0;36mResponse.raise_for_status\u001b[1;34m(self)\u001b[0m\n\u001b[0;32m    957\u001b[0m     http_error_msg \u001b[38;5;241m=\u001b[39m \u001b[38;5;124mu\u001b[39m\u001b[38;5;124m'\u001b[39m\u001b[38;5;132;01m%s\u001b[39;00m\u001b[38;5;124m Server Error: \u001b[39m\u001b[38;5;132;01m%s\u001b[39;00m\u001b[38;5;124m for url: \u001b[39m\u001b[38;5;132;01m%s\u001b[39;00m\u001b[38;5;124m'\u001b[39m \u001b[38;5;241m%\u001b[39m (\u001b[38;5;28mself\u001b[39m\u001b[38;5;241m.\u001b[39mstatus_code, reason, \u001b[38;5;28mself\u001b[39m\u001b[38;5;241m.\u001b[39murl)\n\u001b[0;32m    959\u001b[0m \u001b[38;5;28;01mif\u001b[39;00m http_error_msg:\n\u001b[1;32m--> 960\u001b[0m     \u001b[38;5;28;01mraise\u001b[39;00m HTTPError(http_error_msg, response\u001b[38;5;241m=\u001b[39m\u001b[38;5;28mself\u001b[39m)\n",
      "\u001b[1;31mHTTPError\u001b[0m: 404 Client Error: Not Found for url: http://api.open-notify.org/iss-now.jsonaaaaaaa"
     ]
    }
   ],
   "source": [
    "response= requests.get(\"http://api.open-notify.org/iss-now.jsonaaaaaaa\")\n",
    "print(response.raise_for_status())  # 에러코드의 종류와 뜻을 알려줌"
   ]
  },
  {
   "cell_type": "markdown",
   "id": "6703c23d",
   "metadata": {},
   "source": [
    "## #오류의 종류\n",
    "- 1xx : 처리중이니 기다려라\n",
    "- 2xx : 처리ok\n",
    "- 3xx : 너한테 권한이 없으니 가라\n",
    "- 4xx : 너는 잘못되었거나 찾는게 없다\n",
    "- 5xx : 서버가 잘못되었다\n",
    "- https://www.webfx.com/web-development/glossary/http-status-codes/"
   ]
  },
  {
   "cell_type": "code",
   "execution_count": 20,
   "id": "3adc38c5",
   "metadata": {},
   "outputs": [
    {
     "name": "stdout",
     "output_type": "stream",
     "text": [
      "{'message': 'success', 'iss_position': {'longitude': '-109.5579', 'latitude': '39.0403'}, 'timestamp': 1668844630}\n",
      "{'longitude': '-109.5579', 'latitude': '39.0403'}\n",
      "-109.5579\n",
      "39.0403\n",
      "('-109.5579', '39.0403')\n"
     ]
    }
   ],
   "source": [
    "# iss 가 지금 있는 위치\n",
    "\n",
    "response= requests.get(\"http://api.open-notify.org/iss-now.json\")\n",
    "\n",
    "data = response.json()\n",
    "print(data)\n",
    "\n",
    "data1 = response.json()[\"iss_position\"]\n",
    "print(data1)\n",
    "\n",
    "longitude = response.json()[\"iss_position\"][\"longitude\"]\n",
    "print(longitude)\n",
    "latitude = response.json()[\"iss_position\"][\"latitude\"]\n",
    "print(latitude)\n",
    "\n",
    "iss_position = (longitude, latitude) # 경도와 위도\n",
    "print(iss_position)"
   ]
  },
  {
   "cell_type": "markdown",
   "id": "52078a23",
   "metadata": {},
   "source": [
    "# #칸예 명언 api로 가져오기"
   ]
  },
  {
   "cell_type": "code",
   "execution_count": 26,
   "id": "5f167553",
   "metadata": {},
   "outputs": [
    {
     "name": "stdout",
     "output_type": "stream",
     "text": [
      "I still think I am the greatest.\n"
     ]
    }
   ],
   "source": [
    "import requests\n",
    "response= requests.get(\"https://api.kanye.rest/\")\n",
    "response.raise_for_status()\n",
    "data = response.json()\n",
    "quote = data[\"quote\"] # 명언\n",
    "\n",
    "print(quote) # 실행할때마다 다른 명언이 나옴"
   ]
  },
  {
   "cell_type": "markdown",
   "id": "06b1a401",
   "metadata": {},
   "source": [
    "## ui 만들어서 적용해보기"
   ]
  },
  {
   "cell_type": "code",
   "execution_count": 2,
   "id": "c56c6170",
   "metadata": {},
   "outputs": [],
   "source": [
    "from tkinter import *\n",
    "import requests\n",
    "\n",
    "\n",
    "def get_quote():\n",
    "    response= requests.get(\"https://api.kanye.rest/\")\n",
    "    response.raise_for_status()\n",
    "    data = response.json()\n",
    "    quote = data[\"quote\"]\n",
    "    canvas.itemconfig(quote_text, text=quote)\n",
    "\n",
    "window = Tk()\n",
    "window.title(\"Kanye Says...\")\n",
    "window.config(padx=50, pady=50)\n",
    "\n",
    "canvas = Canvas(width=300, height=414)\n",
    "background_img = PhotoImage(file=\"background_33.png\")\n",
    "canvas.create_image(150, 207, image=background_img)\n",
    "quote_text = canvas.create_text(150, 207, text=\"Kanye Quote Goes HERE\", width=250, font=(\"Arial\", 30, \"bold\"), fill=\"white\")\n",
    "canvas.grid(row=0, column=0)\n",
    "\n",
    "kanye_img = PhotoImage(file=\"kanye_33.png\")\n",
    "kanye_button = Button(image=kanye_img, highlightthickness=0, command=get_quote)\n",
    "kanye_button.grid(row=1, column=0)\n",
    "\n",
    "\n",
    "\n",
    "window.mainloop()"
   ]
  },
  {
   "cell_type": "markdown",
   "id": "6c870978",
   "metadata": {},
   "source": [
    "# #일출과 일몰 시간 알아내기"
   ]
  },
  {
   "cell_type": "code",
   "execution_count": 42,
   "id": "7aacdd27",
   "metadata": {},
   "outputs": [
    {
     "name": "stdout",
     "output_type": "stream",
     "text": [
      "05 AM\n",
      "05 PM\n",
      "03 PM\n"
     ]
    }
   ],
   "source": [
    "import requests\n",
    "from datetime import datetime\n",
    "\n",
    "MY_LAT = 44.781950 \n",
    "MY_LONG = -76.808130\n",
    "\n",
    "parameters = {\n",
    "    \"lat\" : MY_LAT,\n",
    "    \"lng\" : MY_LONG,\n",
    "    \"formatted\" : 0,\n",
    "}\n",
    "\n",
    "response = requests.get(url=\"https://api.sunrise-sunset.org/json\")\n",
    "response.raise_for_status()\n",
    "data = response.json()\n",
    "\n",
    "sunrise = data[\"results\"][\"sunrise\"].split(\":\")[0]+\" \"+data[\"results\"][\"sunrise\"].split(\":\")[2].split()[1]\n",
    "sunset = data[\"results\"][\"sunset\"].split(\":\")[0]+\" \"+data[\"results\"][\"sunset\"].split(\":\")[2].split()[1]\n",
    "\n",
    "time_now = datetime.now()\n",
    "\n",
    "print(\"0\"+sunrise)\n",
    "print(\"0\"+sunset)\n",
    "print(time_now.strftime(\"%I %p\"))"
   ]
  },
  {
   "cell_type": "code",
   "execution_count": 39,
   "id": "ff134993",
   "metadata": {},
   "outputs": [
    {
     "data": {
      "text/plain": [
       "str"
      ]
     },
     "execution_count": 39,
     "metadata": {},
     "output_type": "execute_result"
    }
   ],
   "source": [
    "type(sunset)"
   ]
  },
  {
   "cell_type": "code",
   "execution_count": 43,
   "id": "a0804006",
   "metadata": {},
   "outputs": [
    {
     "name": "stdout",
     "output_type": "stream",
     "text": [
      "22\n",
      "08\n",
      "17\n"
     ]
    }
   ],
   "source": [
    "# iss api 시각 변경되기 전\n",
    "sunrise = data[\"results\"][\"sunrise\"].split(\"T\")[1].split(\":\")[0]\n",
    "sunset = data[\"results\"][\"sunset\"].split(\"T\")[1].split(\":\")[0]\n",
    "# print(sunrise.split(\"T\")[1].split(\":\")[0])\n",
    "# print(sunset.split(\"T\")[1].split(\":\")[0])\n",
    "\n",
    "print(sunrise)\n",
    "print(sunset)\n",
    "print(time_now.hour)"
   ]
  },
  {
   "cell_type": "markdown",
   "id": "c3e37cd0",
   "metadata": {},
   "source": [
    "## 60초마다 확인해서 ISS가 내 위치에 있고 밤이면 메일보내기"
   ]
  },
  {
   "cell_type": "code",
   "execution_count": null,
   "id": "357a7380",
   "metadata": {},
   "outputs": [],
   "source": [
    "import requests\n",
    "from datetime import datetime\n",
    "import smtplib\n",
    "import time\n",
    "\n",
    "my_e = \"test@naver.com\"\n",
    "my_p = \"abc123\"\n",
    "MY_LAT = 44.781950 \n",
    "MY_LONG = -76.808130\n",
    "\n",
    "def is_iss_overhead():\n",
    "    response = requests.get(url=\"http://api.open-notify.org/iss-now.json\")\n",
    "    response.raise_for_status()\n",
    "    data = response.json()\n",
    "\n",
    "    iss_latitude = float(data[\"iss_position\"][\"latitude\"])\n",
    "    iss_longitude = float(data[\"iss_position\"][\"longitude\"])\n",
    "\n",
    "    if MY_LAT-5 <= iss_latitude <= MY_LAT+5 and MY_LONG-5 <= iss_latitude <= MY_LONG+5:\n",
    "        return True\n",
    "\n",
    "def is_night():\n",
    "    parameters = {\n",
    "        \"lat\": MY_LAT,\n",
    "        \"lng\": MY_LONG,\n",
    "        \"formatted\": 0,\n",
    "    }\n",
    "\n",
    "    response = requests.get(\"https://api.sunrise-sunset.org/json\", params=parameters)\n",
    "    response.raise_for_status()\n",
    "    data = response.json()\n",
    "    sunrise = int(data[\"results\"][\"sunrise\"].split(\":\")[0])\n",
    "    sunset = int(data[\"results\"][\"sunset\"].split(\":\")[0])\n",
    "\n",
    "    time_now = int(time_now.strftime(\"%I\"))\n",
    "    \n",
    "    if time_now >= sunset or time_now <= sunrise:\n",
    "        return True\n",
    "\n",
    "while True:\n",
    "    time.sleep(60)\n",
    "    if is_iss_overhead() and is_night():\n",
    "        connection = smtplib.SMTP(\"smtp.naver.com\")\n",
    "        connection.starttls()\n",
    "        connection.login(my_e, my_p)\n",
    "        connection.sendmail(from_addr=my_e, to_addrs=my_e,\n",
    "                            msg=\"Subject:Look up\\n\\n위에 iss가 지나가고 있습니다.\")"
   ]
  },
  {
   "cell_type": "code",
   "execution_count": null,
   "id": "83649a0b",
   "metadata": {},
   "outputs": [],
   "source": []
  }
 ],
 "metadata": {
  "kernelspec": {
   "display_name": "Python 3 (ipykernel)",
   "language": "python",
   "name": "python3"
  },
  "language_info": {
   "codemirror_mode": {
    "name": "ipython",
    "version": 3
   },
   "file_extension": ".py",
   "mimetype": "text/x-python",
   "name": "python",
   "nbconvert_exporter": "python",
   "pygments_lexer": "ipython3",
   "version": "3.9.12"
  }
 },
 "nbformat": 4,
 "nbformat_minor": 5
}
