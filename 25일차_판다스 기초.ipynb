{
 "cells": [
  {
   "cell_type": "code",
   "execution_count": 5,
   "id": "9f3c6379",
   "metadata": {},
   "outputs": [
    {
     "name": "stdout",
     "output_type": "stream",
     "text": [
      "['day', 'temp', 'condition']\n",
      "['Monday', '12', 'Sunny']\n",
      "['Tuesday', '14', 'Rain']\n",
      "['Wednesday', '15', 'Rain']\n",
      "['Thursday', '14', 'Cloudy']\n",
      "['Friday', '21', 'Sunny']\n",
      "['Saturday', '22', 'Sunny']\n",
      "['Sunday', '24', 'Sunny']\n",
      "[12, 14, 15, 14, 21, 22, 24]\n"
     ]
    }
   ],
   "source": [
    "# 파이썬에서 csv 읽기\n",
    "\n",
    "import csv\n",
    "\n",
    "with open(\"weather_data_25.csv\") as data_file:\n",
    "    data = csv.reader(data_file)\n",
    "    temperatures = []\n",
    "    \n",
    "    for row in data:\n",
    "        print(row)\n",
    "        if row[1] != \"temp\":\n",
    "            temperatures.append(int(row[1]))\n",
    "print(temperatures)"
   ]
  },
  {
   "cell_type": "code",
   "execution_count": 6,
   "id": "64a30280",
   "metadata": {},
   "outputs": [
    {
     "data": {
      "text/html": [
       "<div>\n",
       "<style scoped>\n",
       "    .dataframe tbody tr th:only-of-type {\n",
       "        vertical-align: middle;\n",
       "    }\n",
       "\n",
       "    .dataframe tbody tr th {\n",
       "        vertical-align: top;\n",
       "    }\n",
       "\n",
       "    .dataframe thead th {\n",
       "        text-align: right;\n",
       "    }\n",
       "</style>\n",
       "<table border=\"1\" class=\"dataframe\">\n",
       "  <thead>\n",
       "    <tr style=\"text-align: right;\">\n",
       "      <th></th>\n",
       "      <th>day</th>\n",
       "      <th>temp</th>\n",
       "      <th>condition</th>\n",
       "    </tr>\n",
       "  </thead>\n",
       "  <tbody>\n",
       "    <tr>\n",
       "      <th>0</th>\n",
       "      <td>Monday</td>\n",
       "      <td>12</td>\n",
       "      <td>Sunny</td>\n",
       "    </tr>\n",
       "    <tr>\n",
       "      <th>1</th>\n",
       "      <td>Tuesday</td>\n",
       "      <td>14</td>\n",
       "      <td>Rain</td>\n",
       "    </tr>\n",
       "    <tr>\n",
       "      <th>2</th>\n",
       "      <td>Wednesday</td>\n",
       "      <td>15</td>\n",
       "      <td>Rain</td>\n",
       "    </tr>\n",
       "    <tr>\n",
       "      <th>3</th>\n",
       "      <td>Thursday</td>\n",
       "      <td>14</td>\n",
       "      <td>Cloudy</td>\n",
       "    </tr>\n",
       "    <tr>\n",
       "      <th>4</th>\n",
       "      <td>Friday</td>\n",
       "      <td>21</td>\n",
       "      <td>Sunny</td>\n",
       "    </tr>\n",
       "    <tr>\n",
       "      <th>5</th>\n",
       "      <td>Saturday</td>\n",
       "      <td>22</td>\n",
       "      <td>Sunny</td>\n",
       "    </tr>\n",
       "    <tr>\n",
       "      <th>6</th>\n",
       "      <td>Sunday</td>\n",
       "      <td>24</td>\n",
       "      <td>Sunny</td>\n",
       "    </tr>\n",
       "  </tbody>\n",
       "</table>\n",
       "</div>"
      ],
      "text/plain": [
       "         day  temp condition\n",
       "0     Monday    12     Sunny\n",
       "1    Tuesday    14      Rain\n",
       "2  Wednesday    15      Rain\n",
       "3   Thursday    14    Cloudy\n",
       "4     Friday    21     Sunny\n",
       "5   Saturday    22     Sunny\n",
       "6     Sunday    24     Sunny"
      ]
     },
     "execution_count": 6,
     "metadata": {},
     "output_type": "execute_result"
    }
   ],
   "source": [
    "# pandas로 csv 읽기\n",
    "\n",
    "import pandas as pd\n",
    "\n",
    "pd.read_csv(\"weather_data_25.csv\")"
   ]
  },
  {
   "cell_type": "code",
   "execution_count": 8,
   "id": "3f9c37e7",
   "metadata": {},
   "outputs": [
    {
     "data": {
      "text/plain": [
       "0    12\n",
       "1    14\n",
       "2    15\n",
       "3    14\n",
       "4    21\n",
       "5    22\n",
       "6    24\n",
       "Name: temp, dtype: int64"
      ]
     },
     "execution_count": 8,
     "metadata": {},
     "output_type": "execute_result"
    }
   ],
   "source": [
    "data = pd.read_csv(\"weather_data_25.csv\")\n",
    "data[\"temp\"]"
   ]
  },
  {
   "cell_type": "code",
   "execution_count": 12,
   "id": "99d9176e",
   "metadata": {},
   "outputs": [
    {
     "name": "stdout",
     "output_type": "stream",
     "text": [
      "<class 'pandas.core.frame.DataFrame'>\n",
      "<class 'pandas.core.series.Series'>\n"
     ]
    }
   ],
   "source": [
    "data = pd.read_csv(\"weather_data_25.csv\")\n",
    "print(type(data))\n",
    "print(type(data[\"temp\"]))"
   ]
  },
  {
   "cell_type": "code",
   "execution_count": 13,
   "id": "492615fc",
   "metadata": {},
   "outputs": [
    {
     "data": {
      "text/plain": [
       "{'day': {0: 'Monday',\n",
       "  1: 'Tuesday',\n",
       "  2: 'Wednesday',\n",
       "  3: 'Thursday',\n",
       "  4: 'Friday',\n",
       "  5: 'Saturday',\n",
       "  6: 'Sunday'},\n",
       " 'temp': {0: 12, 1: 14, 2: 15, 3: 14, 4: 21, 5: 22, 6: 24},\n",
       " 'condition': {0: 'Sunny',\n",
       "  1: 'Rain',\n",
       "  2: 'Rain',\n",
       "  3: 'Cloudy',\n",
       "  4: 'Sunny',\n",
       "  5: 'Sunny',\n",
       "  6: 'Sunny'}}"
      ]
     },
     "execution_count": 13,
     "metadata": {},
     "output_type": "execute_result"
    }
   ],
   "source": [
    "data.to_dict() # 데이터프레임 -> 딕셔너리"
   ]
  },
  {
   "cell_type": "code",
   "execution_count": 14,
   "id": "79436f94",
   "metadata": {},
   "outputs": [
    {
     "data": {
      "text/plain": [
       "[12, 14, 15, 14, 21, 22, 24]"
      ]
     },
     "execution_count": 14,
     "metadata": {},
     "output_type": "execute_result"
    }
   ],
   "source": [
    "data[\"temp\"].to_list() # 시리즈 -> 리스트"
   ]
  },
  {
   "cell_type": "code",
   "execution_count": 15,
   "id": "9ab8ca27",
   "metadata": {},
   "outputs": [
    {
     "data": {
      "text/plain": [
       "17.428571428571427"
      ]
     },
     "execution_count": 15,
     "metadata": {},
     "output_type": "execute_result"
    }
   ],
   "source": [
    "data[\"temp\"].mean() # 평균 온도"
   ]
  },
  {
   "cell_type": "code",
   "execution_count": 16,
   "id": "831f0121",
   "metadata": {},
   "outputs": [
    {
     "data": {
      "text/plain": [
       "24"
      ]
     },
     "execution_count": 16,
     "metadata": {},
     "output_type": "execute_result"
    }
   ],
   "source": [
    "data[\"temp\"].max() # 최고 온도"
   ]
  },
  {
   "cell_type": "code",
   "execution_count": 17,
   "id": "6d17864d",
   "metadata": {},
   "outputs": [
    {
     "data": {
      "text/html": [
       "<div>\n",
       "<style scoped>\n",
       "    .dataframe tbody tr th:only-of-type {\n",
       "        vertical-align: middle;\n",
       "    }\n",
       "\n",
       "    .dataframe tbody tr th {\n",
       "        vertical-align: top;\n",
       "    }\n",
       "\n",
       "    .dataframe thead th {\n",
       "        text-align: right;\n",
       "    }\n",
       "</style>\n",
       "<table border=\"1\" class=\"dataframe\">\n",
       "  <thead>\n",
       "    <tr style=\"text-align: right;\">\n",
       "      <th></th>\n",
       "      <th>day</th>\n",
       "      <th>temp</th>\n",
       "      <th>condition</th>\n",
       "    </tr>\n",
       "  </thead>\n",
       "  <tbody>\n",
       "    <tr>\n",
       "      <th>0</th>\n",
       "      <td>Monday</td>\n",
       "      <td>12</td>\n",
       "      <td>Sunny</td>\n",
       "    </tr>\n",
       "  </tbody>\n",
       "</table>\n",
       "</div>"
      ],
      "text/plain": [
       "      day  temp condition\n",
       "0  Monday    12     Sunny"
      ]
     },
     "execution_count": 17,
     "metadata": {},
     "output_type": "execute_result"
    }
   ],
   "source": [
    "data[data[\"day\"] == \"Monday\"]"
   ]
  },
  {
   "cell_type": "code",
   "execution_count": 18,
   "id": "de6f3fed",
   "metadata": {},
   "outputs": [
    {
     "data": {
      "text/html": [
       "<div>\n",
       "<style scoped>\n",
       "    .dataframe tbody tr th:only-of-type {\n",
       "        vertical-align: middle;\n",
       "    }\n",
       "\n",
       "    .dataframe tbody tr th {\n",
       "        vertical-align: top;\n",
       "    }\n",
       "\n",
       "    .dataframe thead th {\n",
       "        text-align: right;\n",
       "    }\n",
       "</style>\n",
       "<table border=\"1\" class=\"dataframe\">\n",
       "  <thead>\n",
       "    <tr style=\"text-align: right;\">\n",
       "      <th></th>\n",
       "      <th>day</th>\n",
       "      <th>temp</th>\n",
       "      <th>condition</th>\n",
       "    </tr>\n",
       "  </thead>\n",
       "  <tbody>\n",
       "    <tr>\n",
       "      <th>6</th>\n",
       "      <td>Sunday</td>\n",
       "      <td>24</td>\n",
       "      <td>Sunny</td>\n",
       "    </tr>\n",
       "  </tbody>\n",
       "</table>\n",
       "</div>"
      ],
      "text/plain": [
       "      day  temp condition\n",
       "6  Sunday    24     Sunny"
      ]
     },
     "execution_count": 18,
     "metadata": {},
     "output_type": "execute_result"
    }
   ],
   "source": [
    "data[data[\"temp\"] == data[\"temp\"].max()]"
   ]
  },
  {
   "cell_type": "code",
   "execution_count": 21,
   "id": "2ebcc680",
   "metadata": {},
   "outputs": [
    {
     "data": {
      "text/plain": [
       "0    Sunny\n",
       "Name: condition, dtype: object"
      ]
     },
     "execution_count": 21,
     "metadata": {},
     "output_type": "execute_result"
    }
   ],
   "source": [
    "monday = data[data.day == \"Monday\"]\n",
    "monday.condition"
   ]
  },
  {
   "cell_type": "code",
   "execution_count": 22,
   "id": "04d5f54e",
   "metadata": {},
   "outputs": [
    {
     "data": {
      "text/plain": [
       "53.6"
      ]
     },
     "execution_count": 22,
     "metadata": {},
     "output_type": "execute_result"
    }
   ],
   "source": [
    "# 섭씨 -> 화씨\n",
    "monday_temp = int(monday.temp)\n",
    "monday_temp_F = monday_temp * 9/5 + 32\n",
    "monday_temp_F"
   ]
  },
  {
   "cell_type": "code",
   "execution_count": 23,
   "id": "1e7e051e",
   "metadata": {},
   "outputs": [
    {
     "data": {
      "text/html": [
       "<div>\n",
       "<style scoped>\n",
       "    .dataframe tbody tr th:only-of-type {\n",
       "        vertical-align: middle;\n",
       "    }\n",
       "\n",
       "    .dataframe tbody tr th {\n",
       "        vertical-align: top;\n",
       "    }\n",
       "\n",
       "    .dataframe thead th {\n",
       "        text-align: right;\n",
       "    }\n",
       "</style>\n",
       "<table border=\"1\" class=\"dataframe\">\n",
       "  <thead>\n",
       "    <tr style=\"text-align: right;\">\n",
       "      <th></th>\n",
       "      <th>students</th>\n",
       "      <th>scores</th>\n",
       "    </tr>\n",
       "  </thead>\n",
       "  <tbody>\n",
       "    <tr>\n",
       "      <th>0</th>\n",
       "      <td>amy</td>\n",
       "      <td>76</td>\n",
       "    </tr>\n",
       "    <tr>\n",
       "      <th>1</th>\n",
       "      <td>james</td>\n",
       "      <td>45</td>\n",
       "    </tr>\n",
       "    <tr>\n",
       "      <th>2</th>\n",
       "      <td>angela</td>\n",
       "      <td>65</td>\n",
       "    </tr>\n",
       "  </tbody>\n",
       "</table>\n",
       "</div>"
      ],
      "text/plain": [
       "  students  scores\n",
       "0      amy      76\n",
       "1    james      45\n",
       "2   angela      65"
      ]
     },
     "execution_count": 23,
     "metadata": {},
     "output_type": "execute_result"
    }
   ],
   "source": [
    "data_dict = {\n",
    "    \"students\":[\"amy\", \"james\", \"angela\"],\n",
    "    \"scores\":[76, 45, 65]\n",
    "}\n",
    "data = pd.DataFrame(data_dict)\n",
    "data\n",
    "# data.to_csv(\"new_data.csv\")"
   ]
  },
  {
   "cell_type": "code",
   "execution_count": null,
   "id": "1329768e",
   "metadata": {},
   "outputs": [],
   "source": []
  }
 ],
 "metadata": {
  "kernelspec": {
   "display_name": "Python 3 (ipykernel)",
   "language": "python",
   "name": "python3"
  },
  "language_info": {
   "codemirror_mode": {
    "name": "ipython",
    "version": 3
   },
   "file_extension": ".py",
   "mimetype": "text/x-python",
   "name": "python",
   "nbconvert_exporter": "python",
   "pygments_lexer": "ipython3",
   "version": "3.9.12"
  }
 },
 "nbformat": 4,
 "nbformat_minor": 5
}
