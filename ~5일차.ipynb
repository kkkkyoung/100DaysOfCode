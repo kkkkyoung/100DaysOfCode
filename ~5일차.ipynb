{
 "cells": [
  {
   "cell_type": "markdown",
   "id": "c2bbcd8c",
   "metadata": {},
   "source": [
    "# 1일차"
   ]
  },
  {
   "cell_type": "code",
   "execution_count": 16,
   "id": "cd539fba",
   "metadata": {},
   "outputs": [
    {
     "name": "stdout",
     "output_type": "stream",
     "text": [
      "what's your name? 용\n",
      "hello 용\n"
     ]
    }
   ],
   "source": [
    "print('hello ' + input(\"what's your name? \"))"
   ]
  },
  {
   "cell_type": "code",
   "execution_count": 4,
   "id": "591e0ec8",
   "metadata": {},
   "outputs": [
    {
     "name": "stdout",
     "output_type": "stream",
     "text": [
      "what\n",
      "aa\n"
     ]
    },
    {
     "data": {
      "text/plain": [
       "'aa'"
      ]
     },
     "execution_count": 4,
     "metadata": {},
     "output_type": "execute_result"
    }
   ],
   "source": [
    "input(\"what\\n\")"
   ]
  },
  {
   "cell_type": "code",
   "execution_count": 6,
   "id": "2bbefb1c",
   "metadata": {},
   "outputs": [
    {
     "name": "stdout",
     "output_type": "stream",
     "text": [
      "what\n",
      "sdgsdg\n",
      "6\n"
     ]
    }
   ],
   "source": [
    "print(len(input(\"what\\n\")))"
   ]
  },
  {
   "cell_type": "code",
   "execution_count": 18,
   "id": "5fdf76b9",
   "metadata": {},
   "outputs": [
    {
     "name": "stdout",
     "output_type": "stream",
     "text": [
      "a\n",
      "\n",
      "b\n"
     ]
    }
   ],
   "source": [
    "print('a\\n')\n",
    "print('b')"
   ]
  },
  {
   "cell_type": "code",
   "execution_count": 18,
   "id": "43468f4d",
   "metadata": {},
   "outputs": [
    {
     "name": "stdout",
     "output_type": "stream",
     "text": [
      "밴드명 생성기 입니다\n",
      "어느 도시에서 자랐나요?\n",
      "서울\n",
      "키웠던 동물 이름은?\n",
      "하나\n",
      "당신의 밴드명은 서울 하나\n"
     ]
    }
   ],
   "source": [
    "# 밴드명 생성\n",
    "print(\"밴드명 생성기 입니다\")\n",
    "city = input(\"어느 도시에서 자랐나요?\\n\")\n",
    "pet = input(\"키웠던 동물 이름은?\\n\")\n",
    "print(\"당신의 밴드명은 \" + city + \" \" + pet)"
   ]
  },
  {
   "cell_type": "markdown",
   "id": "adad7326",
   "metadata": {},
   "source": [
    "# 2일차"
   ]
  },
  {
   "cell_type": "code",
   "execution_count": 2,
   "id": "ba26351b",
   "metadata": {
    "scrolled": true
   },
   "outputs": [
    {
     "name": "stdout",
     "output_type": "stream",
     "text": [
      "e\n"
     ]
    }
   ],
   "source": [
    "# data types\n",
    "print(\"hello\"[1])"
   ]
  },
  {
   "cell_type": "code",
   "execution_count": 3,
   "id": "4194e614",
   "metadata": {},
   "outputs": [
    {
     "name": "stdout",
     "output_type": "stream",
     "text": [
      "123456\n"
     ]
    }
   ],
   "source": [
    "print('123'+'456')"
   ]
  },
  {
   "cell_type": "code",
   "execution_count": 4,
   "id": "6fef77ca",
   "metadata": {},
   "outputs": [
    {
     "name": "stdout",
     "output_type": "stream",
     "text": [
      "579\n"
     ]
    }
   ],
   "source": [
    "print(123+456)"
   ]
  },
  {
   "cell_type": "code",
   "execution_count": 5,
   "id": "ceb5cb58",
   "metadata": {},
   "outputs": [
    {
     "data": {
      "text/plain": [
       "123456789"
      ]
     },
     "execution_count": 5,
     "metadata": {},
     "output_type": "execute_result"
    }
   ],
   "source": [
    "# _는 무시함 - 큰 숫자의 경우 3자리 수마다 넣어주면 읽기 편함\n",
    "123_456_789"
   ]
  },
  {
   "cell_type": "code",
   "execution_count": 6,
   "id": "928e6d70",
   "metadata": {
    "scrolled": true
   },
   "outputs": [
    {
     "ename": "TypeError",
     "evalue": "object of type 'int' has no len()",
     "output_type": "error",
     "traceback": [
      "\u001b[1;31m---------------------------------------------------------------------------\u001b[0m",
      "\u001b[1;31mTypeError\u001b[0m                                 Traceback (most recent call last)",
      "Input \u001b[1;32mIn [6]\u001b[0m, in \u001b[0;36m<cell line: 1>\u001b[1;34m()\u001b[0m\n\u001b[1;32m----> 1\u001b[0m \u001b[38;5;28;43mlen\u001b[39;49m\u001b[43m(\u001b[49m\u001b[38;5;241;43m123\u001b[39;49m\u001b[43m)\u001b[49m\n",
      "\u001b[1;31mTypeError\u001b[0m: object of type 'int' has no len()"
     ]
    }
   ],
   "source": [
    "# len은 문자열 길이를 구함\n",
    "len(123)"
   ]
  },
  {
   "cell_type": "code",
   "execution_count": 9,
   "id": "9fe5edad",
   "metadata": {},
   "outputs": [
    {
     "data": {
      "text/plain": [
       "3"
      ]
     },
     "execution_count": 9,
     "metadata": {},
     "output_type": "execute_result"
    }
   ],
   "source": [
    "len('123')"
   ]
  },
  {
   "cell_type": "code",
   "execution_count": 8,
   "id": "f8e54bbe",
   "metadata": {},
   "outputs": [
    {
     "name": "stdout",
     "output_type": "stream",
     "text": [
      "what's your name?ajso\n",
      "your name has 4 characters.\n"
     ]
    }
   ],
   "source": [
    "num_char = len(input(\"what's your name?\"))\n",
    "new_num_char = str(num_char)\n",
    "print(\"your name has \" + new_num_char + \" characters.\")"
   ]
  },
  {
   "cell_type": "code",
   "execution_count": 12,
   "id": "5dfd994e",
   "metadata": {},
   "outputs": [
    {
     "name": "stdout",
     "output_type": "stream",
     "text": [
      "2자리 숫자를 입력해라25\n",
      "<class 'str'>\n"
     ]
    }
   ],
   "source": [
    "two_digit_number = input(\"2자리 숫자를 입력해라\")\n",
    "print(type(two_digit_number))"
   ]
  },
  {
   "cell_type": "code",
   "execution_count": 13,
   "id": "a272b549",
   "metadata": {},
   "outputs": [
    {
     "name": "stdout",
     "output_type": "stream",
     "text": [
      "2\n",
      "5\n"
     ]
    }
   ],
   "source": [
    "first = two_digit_number[0]\n",
    "second = two_digit_number[1]\n",
    "print(first)\n",
    "print(second)"
   ]
  },
  {
   "cell_type": "code",
   "execution_count": 15,
   "id": "ffec9c11",
   "metadata": {},
   "outputs": [
    {
     "data": {
      "text/plain": [
       "'25'"
      ]
     },
     "execution_count": 15,
     "metadata": {},
     "output_type": "execute_result"
    }
   ],
   "source": [
    "first + second"
   ]
  },
  {
   "cell_type": "code",
   "execution_count": 14,
   "id": "8526e487",
   "metadata": {},
   "outputs": [
    {
     "data": {
      "text/plain": [
       "7"
      ]
     },
     "execution_count": 14,
     "metadata": {},
     "output_type": "execute_result"
    }
   ],
   "source": [
    "result = int(first) + int(second)\n",
    "result"
   ]
  },
  {
   "cell_type": "code",
   "execution_count": 22,
   "id": "f1083bba",
   "metadata": {},
   "outputs": [
    {
     "name": "stdout",
     "output_type": "stream",
     "text": [
      "2자리 숫자를 입력해라\n",
      "78\n",
      "각 자리의 합은 15\n"
     ]
    }
   ],
   "source": [
    "# 2자리 입력한 숫자의 각 자리 합\n",
    "two_digit_number = input(\"2자리 숫자를 입력해라\\n\")\n",
    "first = two_digit_number[0]\n",
    "second = two_digit_number[1]\n",
    "result = int(first) + int(second)\n",
    "print(\"각 자리의 합은 \" + str(result))"
   ]
  },
  {
   "cell_type": "code",
   "execution_count": 27,
   "id": "90d12c76",
   "metadata": {},
   "outputs": [
    {
     "name": "stdout",
     "output_type": "stream",
     "text": [
      "당신의 키는 m : 1.6\n",
      "당신의 몸무게는 kg : 56\n",
      "당신의 bim 지수는 21\n"
     ]
    }
   ],
   "source": [
    "# bmi 계산기\n",
    "# bmi =  몸무게(kg) / 키^2(m2)\n",
    "height = input(\"당신의 키는 m : \")\n",
    "weight = input(\"당신의 몸무게는 kg : \")\n",
    "bmi = int(weight) / float(height) **2\n",
    "print(\"당신의 bim 지수는 \" + str(int(bmi)))"
   ]
  },
  {
   "cell_type": "code",
   "execution_count": 28,
   "id": "36ecbe2f",
   "metadata": {},
   "outputs": [
    {
     "data": {
      "text/plain": [
       "2.6666666666666665"
      ]
     },
     "execution_count": 28,
     "metadata": {},
     "output_type": "execute_result"
    }
   ],
   "source": [
    "8/3"
   ]
  },
  {
   "cell_type": "code",
   "execution_count": 29,
   "id": "1d6c1b7e",
   "metadata": {},
   "outputs": [
    {
     "data": {
      "text/plain": [
       "2"
      ]
     },
     "execution_count": 29,
     "metadata": {},
     "output_type": "execute_result"
    }
   ],
   "source": [
    "int(8/3) # 소수점 밑 다 잘림"
   ]
  },
  {
   "cell_type": "code",
   "execution_count": 30,
   "id": "e44891eb",
   "metadata": {},
   "outputs": [
    {
     "data": {
      "text/plain": [
       "3"
      ]
     },
     "execution_count": 30,
     "metadata": {},
     "output_type": "execute_result"
    }
   ],
   "source": [
    "round(8/3) # 반올림"
   ]
  },
  {
   "cell_type": "code",
   "execution_count": 32,
   "id": "516d10e3",
   "metadata": {},
   "outputs": [
    {
     "data": {
      "text/plain": [
       "2.67"
      ]
     },
     "execution_count": 32,
     "metadata": {},
     "output_type": "execute_result"
    }
   ],
   "source": [
    "round(8/3, 2) # 소수점 밑 3번째에서 반올림"
   ]
  },
  {
   "cell_type": "code",
   "execution_count": 33,
   "id": "5ad60cb5",
   "metadata": {},
   "outputs": [
    {
     "data": {
      "text/plain": [
       "float"
      ]
     },
     "execution_count": 33,
     "metadata": {},
     "output_type": "execute_result"
    }
   ],
   "source": [
    "type(4/2)"
   ]
  },
  {
   "cell_type": "code",
   "execution_count": 34,
   "id": "36a69d7c",
   "metadata": {},
   "outputs": [
    {
     "data": {
      "text/plain": [
       "int"
      ]
     },
     "execution_count": 34,
     "metadata": {},
     "output_type": "execute_result"
    }
   ],
   "source": [
    "type(4//2)"
   ]
  },
  {
   "cell_type": "code",
   "execution_count": 35,
   "id": "bf49fc6d",
   "metadata": {},
   "outputs": [
    {
     "name": "stdout",
     "output_type": "stream",
     "text": [
      "1\n"
     ]
    }
   ],
   "source": [
    "score = 0\n",
    "score += 1\n",
    "print(score)"
   ]
  },
  {
   "cell_type": "code",
   "execution_count": 41,
   "id": "29cb4839",
   "metadata": {},
   "outputs": [
    {
     "name": "stdout",
     "output_type": "stream",
     "text": [
      "your score is 0, your height is 1.8, you are is True\n",
      "<class 'str'>\n"
     ]
    }
   ],
   "source": [
    "# f-String 서로 다른 데이터 유형을 문자열로 처리\n",
    "score = 0\n",
    "height = 1.8\n",
    "iswinning = True\n",
    "\n",
    "print(f\"your score is {score}, your height is {height}, you are is {iswinning}\")\n",
    "print(type(f\"your score is {score}, your height is {height}, you are is {iswinning}\"))"
   ]
  },
  {
   "cell_type": "code",
   "execution_count": 43,
   "id": "ea438da1",
   "metadata": {},
   "outputs": [
    {
     "name": "stdout",
     "output_type": "stream",
     "text": [
      "당신의 나이는? 28\n",
      "당신은 22630일, 3224주, 744달, 62년의 수명이 남았습니다\n"
     ]
    }
   ],
   "source": [
    "# 90세 까지 산다고 할 때, 남은 수명\n",
    "# 몇일, 몇주, 몇달\n",
    "\n",
    "age = int(input(\"당신의 나이는? \"))\n",
    "years_remaining = 90 - age\n",
    "days_remaining = years_remaining * 365\n",
    "weeks_remaining = years_remaining * 52\n",
    "months_remaining = years_remaining * 12\n",
    "\n",
    "#print(f\"당신은 {days_remaining}일, {weeks_remaining}주, {months_remaining}달, {years_remaining}년의 수명이 남았습니다\")\n",
    "message = f\"당신은 {days_remaining}일, {weeks_remaining}주, {months_remaining}달, {years_remaining}년의 수명이 남았습니다\"\n",
    "print(message)"
   ]
  },
  {
   "cell_type": "code",
   "execution_count": 46,
   "id": "a6cb1828",
   "metadata": {},
   "outputs": [
    {
     "name": "stdout",
     "output_type": "stream",
     "text": [
      "팁 계산기에 어서오세요\n",
      "총 지불할 금액은 얼마인가요? \\ 1000\n",
      "몇 퍼센트의 팁을 줄건가요? 숫자로만 입력하시오.10\n",
      "몇명과 함께했나요?5\n",
      "팁 포함 가격은 1100.0원 이고, 한명당 지불할 가격은220.0원 입니다\n"
     ]
    }
   ],
   "source": [
    "# 팁 계산기\n",
    "print(\"팁 계산기에 어서오세요\")\n",
    "bill_str = input(\"총 지불할 금액은 얼마인가요? \\ \")\n",
    "bill = float(bill_str)\n",
    "tip = int(input(\"몇 퍼센트의 팁을 줄건가요? 숫자로만 입력하시오.\"))\n",
    "people = int(input(\"몇명과 함께했나요?\"))\n",
    "bill_tip = tip / 100 * bill + bill\n",
    "bill_tip_per_person = bill_tip /people\n",
    "final_amount = round(bill_tip_per_person, 2)\n",
    "print(f\"팁 포함 가격은 {bill_tip}원 이고, 한명당 지불할 가격은{final_amount}원 입니다\")"
   ]
  },
  {
   "cell_type": "markdown",
   "id": "59421c02",
   "metadata": {},
   "source": [
    "# 3일차"
   ]
  },
  {
   "cell_type": "code",
   "execution_count": 13,
   "id": "207553b1",
   "metadata": {},
   "outputs": [
    {
     "name": "stdout",
     "output_type": "stream",
     "text": [
      "***놀이동산에 어서오세요***\n",
      "당신의 키는? 160\n",
      "나이는 어떻게 되나요? 28\n",
      "성인용 요금입니다\n"
     ]
    }
   ],
   "source": [
    "print(\"***놀이동산에 어서오세요***\")\n",
    "height = int(input(\"당신의 키는? \"))\n",
    "if height >= 150 :\n",
    "    age = int(input(\"나이는 어떻게 되나요? \"))\n",
    "    if age < 12:\n",
    "        print(\"어린이 요금입니다\")\n",
    "    elif age <= 18:\n",
    "        print(\"학생 요금입니다\")\n",
    "    elif age <= 80:\n",
    "        print(\"성인용 요금입니다\")\n",
    "    else :\n",
    "        print(\"안전상 입장 불가입니다\")\n",
    "else:\n",
    "    print(\"더 크면 오세요~\")"
   ]
  },
  {
   "cell_type": "code",
   "execution_count": 6,
   "id": "bf953c34",
   "metadata": {},
   "outputs": [
    {
     "name": "stdout",
     "output_type": "stream",
     "text": [
      "짝수홀수 알려드립니다. 숫자를 넣어보세요 28\n",
      "짝수입니다\n"
     ]
    }
   ],
   "source": [
    "num = int(input(\"짝수홀수 알려드립니다. 숫자를 넣어보세요 \"))\n",
    "if num %2 == 0:\n",
    "    print(\"짝수입니다\")\n",
    "else:\n",
    "    print(\"홀수입니다\")"
   ]
  },
  {
   "cell_type": "code",
   "execution_count": 16,
   "id": "51a07a7d",
   "metadata": {},
   "outputs": [
    {
     "name": "stdout",
     "output_type": "stream",
     "text": [
      "당신의 키는 몇m인가? 1.6\n",
      "당신의 몸무게는 몇kg인가? 56\n",
      "당신의 bmi는 22이고, 당신은 보통체중 입니다.\n"
     ]
    }
   ],
   "source": [
    "# 2일치 bmi 계산기 업그레이드\n",
    "# bmi =  몸무게(kg) / 키^2(m2)\n",
    "\n",
    "height = float(input(\"당신의 키는 몇m인가? \"))\n",
    "weight = float(input(\"당신의 몸무게는 몇kg인가? \"))\n",
    "bmi = round(weight / height**2)\n",
    "\n",
    "if bmi < 18.5:\n",
    "    print(f\"당신의 bmi는 {bmi}이고, 당신은 저체중 입니다.\")\n",
    "elif bmi < 25:\n",
    "    print(f\"당신의 bmi는 {bmi}이고, 당신은 보통체중 입니다.\")\n",
    "elif bmi < 30:\n",
    "    print(f\"당신의 bmi는 {bmi}이고, 당신은 과체중 입니다.\")\n",
    "else:\n",
    "    print(f\"당신의 bmi는 {bmi}이고, 당신은 반드시 살을 빼야합니다.\")"
   ]
  },
  {
   "cell_type": "code",
   "execution_count": 21,
   "id": "2cb6cc24",
   "metadata": {},
   "outputs": [
    {
     "name": "stdout",
     "output_type": "stream",
     "text": [
      "알고싶은 년도가 몇년도인가요?2024\n",
      "윤년 ㅇㅇ\n"
     ]
    }
   ],
   "source": [
    "# 그 해가 윤년인지 아닌지 알려드립니다\n",
    "\n",
    "year = int(input(\"알고싶은 년도가 몇년도인가요?\"))\n",
    "if year % 4 ==0:\n",
    "    if year % 100 ==0:\n",
    "        if year % 400 ==0:\n",
    "            print(\"윤년 ㅇㅇ\")\n",
    "        else:\n",
    "            print(\"윤년 ㄴㄴ\")\n",
    "    else:\n",
    "        print(\"윤년 ㅇㅇ\")\n",
    "else :\n",
    "    print(\"윤년 ㄴㄴ\")"
   ]
  },
  {
   "cell_type": "code",
   "execution_count": 23,
   "id": "94b5f522",
   "metadata": {},
   "outputs": [
    {
     "name": "stdout",
     "output_type": "stream",
     "text": [
      "***놀이동산에 어서오세요***\n",
      "당신의 키는? 160\n",
      "나이는 어떻게 되나요? 26\n",
      "성인용 요금입니다\n",
      "사진을 원하나요? yes or noyes\n",
      "계산하실 금액은 3500원 입니다\n"
     ]
    }
   ],
   "source": [
    "print(\"***놀이동산에 어서오세요***\")\n",
    "height = int(input(\"당신의 키는? \"))\n",
    "\n",
    "if height >= 150 :\n",
    "    age = int(input(\"나이는 어떻게 되나요? \"))\n",
    "    if age < 12:\n",
    "        bill = 1000\n",
    "        print(\"어린이 요금입니다\")\n",
    "    elif age <= 18:\n",
    "        bill = 2000\n",
    "        print(\"학생 요금입니다\")\n",
    "    elif age <= 80:\n",
    "        bill = 3000\n",
    "        print(\"성인용 요금입니다\")\n",
    "    else :\n",
    "        bill = 0\n",
    "        print(\"무료입니다\")\n",
    "    \n",
    "    photo = input(\"사진을 원하나요? yes or no\")\n",
    "    if photo == \"yes\":\n",
    "        bill += 500\n",
    "    print(f\"계산하실 금액은 {bill}원 입니다\")\n",
    "else:\n",
    "    print(\"더 크면 오세요~\")"
   ]
  },
  {
   "cell_type": "code",
   "execution_count": 30,
   "id": "1cbbbd7d",
   "metadata": {},
   "outputs": [
    {
     "name": "stdout",
     "output_type": "stream",
     "text": [
      "***피자가게에 어서오세요\n",
      "피자 사이즈는 어떤걸로 드릴까요? s, m, or L  m\n",
      "페페로니는 추가하세요? y or n  y\n",
      "치즈는 원하세요? y or n  y\n",
      "당신의 피자 가격은 34원 입니다.\n"
     ]
    }
   ],
   "source": [
    "# 피자가게\n",
    "\n",
    "print(\"***피자가게에 어서오세요\")\n",
    "size = input(\"피자 사이즈는 어떤걸로 드릴까요? s, m, or L  \")\n",
    "add_pep = input(\"페페로니는 추가하세요? y or n  \")\n",
    "add_cheese = input(\"치즈는 원하세요? y or n  \")\n",
    "bill = 0\n",
    "\n",
    "if size == \"s\":\n",
    "    bill += 10\n",
    "elif size == \"m\":\n",
    "    bill +=20\n",
    "else :\n",
    "    bill += 30\n",
    "\n",
    "if add_pep == \"y\":\n",
    "    if size == \"s\":\n",
    "        bill += 5\n",
    "    else:\n",
    "        bill += 7\n",
    "if add_cheese == \"y\":\n",
    "    bill += 7\n",
    "\n",
    "print(f\"당신의 피자 가격은 {bill}원 입니다.\")"
   ]
  },
  {
   "cell_type": "code",
   "execution_count": 31,
   "id": "53c2a228",
   "metadata": {},
   "outputs": [
    {
     "data": {
      "text/plain": [
       "'abcdef'"
      ]
     },
     "execution_count": 31,
     "metadata": {},
     "output_type": "execute_result"
    }
   ],
   "source": [
    "\"ABCdef\".lower()"
   ]
  },
  {
   "cell_type": "code",
   "execution_count": 35,
   "id": "44141a61",
   "metadata": {},
   "outputs": [
    {
     "data": {
      "text/plain": [
       "2"
      ]
     },
     "execution_count": 35,
     "metadata": {},
     "output_type": "execute_result"
    }
   ],
   "source": [
    "\"ABCaabc\".count(\"a\")"
   ]
  },
  {
   "cell_type": "code",
   "execution_count": 36,
   "id": "51d8d413",
   "metadata": {},
   "outputs": [
    {
     "data": {
      "text/plain": [
       "int"
      ]
     },
     "execution_count": 36,
     "metadata": {},
     "output_type": "execute_result"
    }
   ],
   "source": [
    "type(\"ABCaabc\".count(\"a\"))"
   ]
  },
  {
   "cell_type": "code",
   "execution_count": 20,
   "id": "13fcfde0",
   "metadata": {},
   "outputs": [
    {
     "name": "stdout",
     "output_type": "stream",
     "text": [
      "사랑 계산기에 어서오세요\n"
     ]
    },
    {
     "ename": "KeyboardInterrupt",
     "evalue": "Interrupted by user",
     "output_type": "error",
     "traceback": [
      "\u001b[1;31m---------------------------------------------------------------------------\u001b[0m",
      "\u001b[1;31mKeyboardInterrupt\u001b[0m                         Traceback (most recent call last)",
      "Input \u001b[1;32mIn [20]\u001b[0m, in \u001b[0;36m<cell line: 3>\u001b[1;34m()\u001b[0m\n\u001b[0;32m      1\u001b[0m \u001b[38;5;66;03m# 사랑 계산기\u001b[39;00m\n\u001b[0;32m      2\u001b[0m \u001b[38;5;28mprint\u001b[39m(\u001b[38;5;124m\"\u001b[39m\u001b[38;5;124m사랑 계산기에 어서오세요\u001b[39m\u001b[38;5;124m\"\u001b[39m)\n\u001b[1;32m----> 3\u001b[0m name1 \u001b[38;5;241m=\u001b[39m \u001b[38;5;28;43minput\u001b[39;49m\u001b[43m(\u001b[49m\u001b[38;5;124;43m\"\u001b[39;49m\u001b[38;5;124;43m당신의 이름은? \u001b[39;49m\u001b[38;5;130;43;01m\\n\u001b[39;49;00m\u001b[38;5;124;43m\"\u001b[39;49m\u001b[43m)\u001b[49m\n\u001b[0;32m      4\u001b[0m name2 \u001b[38;5;241m=\u001b[39m \u001b[38;5;28minput\u001b[39m(\u001b[38;5;124m\"\u001b[39m\u001b[38;5;124m상대의 이름은? \u001b[39m\u001b[38;5;130;01m\\n\u001b[39;00m\u001b[38;5;124m\"\u001b[39m)\n\u001b[0;32m      5\u001b[0m sum_name \u001b[38;5;241m=\u001b[39m (name1 \u001b[38;5;241m+\u001b[39m name2)\u001b[38;5;241m.\u001b[39mlower()\n",
      "File \u001b[1;32m~\\anaconda3\\lib\\site-packages\\ipykernel\\kernelbase.py:1075\u001b[0m, in \u001b[0;36mKernel.raw_input\u001b[1;34m(self, prompt)\u001b[0m\n\u001b[0;32m   1071\u001b[0m \u001b[38;5;28;01mif\u001b[39;00m \u001b[38;5;129;01mnot\u001b[39;00m \u001b[38;5;28mself\u001b[39m\u001b[38;5;241m.\u001b[39m_allow_stdin:\n\u001b[0;32m   1072\u001b[0m     \u001b[38;5;28;01mraise\u001b[39;00m StdinNotImplementedError(\n\u001b[0;32m   1073\u001b[0m         \u001b[38;5;124m\"\u001b[39m\u001b[38;5;124mraw_input was called, but this frontend does not support input requests.\u001b[39m\u001b[38;5;124m\"\u001b[39m\n\u001b[0;32m   1074\u001b[0m     )\n\u001b[1;32m-> 1075\u001b[0m \u001b[38;5;28;01mreturn\u001b[39;00m \u001b[38;5;28;43mself\u001b[39;49m\u001b[38;5;241;43m.\u001b[39;49m\u001b[43m_input_request\u001b[49m\u001b[43m(\u001b[49m\n\u001b[0;32m   1076\u001b[0m \u001b[43m    \u001b[49m\u001b[38;5;28;43mstr\u001b[39;49m\u001b[43m(\u001b[49m\u001b[43mprompt\u001b[49m\u001b[43m)\u001b[49m\u001b[43m,\u001b[49m\n\u001b[0;32m   1077\u001b[0m \u001b[43m    \u001b[49m\u001b[38;5;28;43mself\u001b[39;49m\u001b[38;5;241;43m.\u001b[39;49m\u001b[43m_parent_ident\u001b[49m\u001b[43m[\u001b[49m\u001b[38;5;124;43m\"\u001b[39;49m\u001b[38;5;124;43mshell\u001b[39;49m\u001b[38;5;124;43m\"\u001b[39;49m\u001b[43m]\u001b[49m\u001b[43m,\u001b[49m\n\u001b[0;32m   1078\u001b[0m \u001b[43m    \u001b[49m\u001b[38;5;28;43mself\u001b[39;49m\u001b[38;5;241;43m.\u001b[39;49m\u001b[43mget_parent\u001b[49m\u001b[43m(\u001b[49m\u001b[38;5;124;43m\"\u001b[39;49m\u001b[38;5;124;43mshell\u001b[39;49m\u001b[38;5;124;43m\"\u001b[39;49m\u001b[43m)\u001b[49m\u001b[43m,\u001b[49m\n\u001b[0;32m   1079\u001b[0m \u001b[43m    \u001b[49m\u001b[43mpassword\u001b[49m\u001b[38;5;241;43m=\u001b[39;49m\u001b[38;5;28;43;01mFalse\u001b[39;49;00m\u001b[43m,\u001b[49m\n\u001b[0;32m   1080\u001b[0m \u001b[43m\u001b[49m\u001b[43m)\u001b[49m\n",
      "File \u001b[1;32m~\\anaconda3\\lib\\site-packages\\ipykernel\\kernelbase.py:1120\u001b[0m, in \u001b[0;36mKernel._input_request\u001b[1;34m(self, prompt, ident, parent, password)\u001b[0m\n\u001b[0;32m   1117\u001b[0m             \u001b[38;5;28;01mbreak\u001b[39;00m\n\u001b[0;32m   1118\u001b[0m \u001b[38;5;28;01mexcept\u001b[39;00m \u001b[38;5;167;01mKeyboardInterrupt\u001b[39;00m:\n\u001b[0;32m   1119\u001b[0m     \u001b[38;5;66;03m# re-raise KeyboardInterrupt, to truncate traceback\u001b[39;00m\n\u001b[1;32m-> 1120\u001b[0m     \u001b[38;5;28;01mraise\u001b[39;00m \u001b[38;5;167;01mKeyboardInterrupt\u001b[39;00m(\u001b[38;5;124m\"\u001b[39m\u001b[38;5;124mInterrupted by user\u001b[39m\u001b[38;5;124m\"\u001b[39m) \u001b[38;5;28;01mfrom\u001b[39;00m \u001b[38;5;28mNone\u001b[39m\n\u001b[0;32m   1121\u001b[0m \u001b[38;5;28;01mexcept\u001b[39;00m \u001b[38;5;167;01mException\u001b[39;00m:\n\u001b[0;32m   1122\u001b[0m     \u001b[38;5;28mself\u001b[39m\u001b[38;5;241m.\u001b[39mlog\u001b[38;5;241m.\u001b[39mwarning(\u001b[38;5;124m\"\u001b[39m\u001b[38;5;124mInvalid Message:\u001b[39m\u001b[38;5;124m\"\u001b[39m, exc_info\u001b[38;5;241m=\u001b[39m\u001b[38;5;28;01mTrue\u001b[39;00m)\n",
      "\u001b[1;31mKeyboardInterrupt\u001b[0m: Interrupted by user"
     ]
    }
   ],
   "source": [
    "# 사랑 계산기\n",
    "print(\"사랑 계산기에 어서오세요\")\n",
    "name1 = input(\"당신의 이름은? \\n\")\n",
    "name2 = input(\"상대의 이름은? \\n\")\n",
    "sum_name = (name1 + name2).lower()\n",
    "\n",
    "t = sum_name.count(\"t\")\n",
    "r = sum_name.count(\"r\")\n",
    "u = sum_name.count(\"u\")\n",
    "e = sum_name.count(\"e\")\n",
    "\n",
    "true = t+r+u+e\n",
    "\n",
    "l = sum_name.count(\"l\")\n",
    "o = sum_name.count(\"o\")\n",
    "v = sum_name.count(\"v\")\n",
    "e = sum_name.count(\"e\")\n",
    "\n",
    "love = l+o+v+e\n",
    "\n",
    "score = int(str(true) + str(love))\n",
    "\n",
    "if (score < 10) or (score > 90):\n",
    "    print(f\"당신의 사랑 점수는 {score}이고, 찰떡궁합입니다.\")\n",
    "elif (score >= 40) and (score <= 50):\n",
    "    print(f\"당신의 사랑 점수는 {score}이고, 잘 어울리는 한쌍이네요.\")\n",
    "else:\n",
    "    print(f\"당신의 사랑 점수는 {score}입니다\")"
   ]
  },
  {
   "cell_type": "code",
   "execution_count": 19,
   "id": "a976da87",
   "metadata": {
    "scrolled": true
   },
   "outputs": [
    {
     "name": "stdout",
     "output_type": "stream",
     "text": [
      "\n",
      "\n",
      "                                 .=.\n",
      "                                \"|||\"\n",
      "                               _.===._                            _\n",
      "                            .-\".'   '.\"-.                        (_)\n",
      "                           .\" .\"     \". \".                    _   |   _\n",
      "                           |+-+-------+-+|                  _(_)\\ | /(_)_\n",
      "                     +    |---+-------+---|    +           (_)---| |---(_)\n",
      "                   _=\"=_  :|||:|_|_|_|:|||:  _=\"=_              |_|_|\n",
      "                   |:::|  |   |  \\|/  |   |  |:::|               | |\n",
      "                  | ... |_|...-=) + (=-...|_| ... |              | |\n",
      "        \\_._._._._| ||| | o . o . o . o . o | ||| |_._._._._/    | |\n",
      "        |  _   _  |  _  | _   _   _   _   _ |  _  |  _   _  |    | |\n",
      " ._._._.| |.| |.| | |.| ||.| |.| |.| |.| |.|| |.| | |.| |.| |_._.| |.\n",
      "     _  |    __   |  _  |-------------------|  _  |   __    |  _ | |\n",
      "    | | |   |  |  | | | | ::   .-\"\"-.   :: | | | |  |  |   | | || ||\n",
      "    |.| |   |..|  | |.| |     | .-\"-. |     | |.| |  |..|   | |.|| ||\n",
      "        :         |     | .-. | |   | | .-. |     |         '    | |\n",
      "                :     : |_|_|_|   |_|_|_| :     :              | |\n",
      "                          _/=============\\_                      | |\n",
      "\n",
      "      \n",
      "보물섬에 어서오세요~ 모험을 떠나볼까요!!\n",
      "\n",
      "\n",
      "앞에 갈림길이 있습니다. 오른쪽, 왼쪽 어디로 가실건가요?왼쪽\n",
      "호수가 있네요. 배를 기다릴거면 'wait'을, 수영해서 갈거면 'swim'을 입력해 주세요wait\n",
      "배를 타고 건너편에 도착하니 3개의 문이 있습니다. 빨, 주, 노랑색 문 중 어느 문을 열겠습니까? [빨, 주, 노] 로 입력해주세요.주\n",
      "각종 보물들로 문 안쪽이 주황색으로 반짝이고 있어요! 이번 모험은 성공적 입니다!!!\n"
     ]
    }
   ],
   "source": [
    "print(\"\"\"\n",
    "\n",
    "                                 .=.\n",
    "                                \"|||\"\n",
    "                               _.===._                            _\n",
    "                            .-\".'   '.\"-.                        (_)\n",
    "                           .\" .\"     \". \".                    _   |   _\n",
    "                           |+-+-------+-+|                  _(_)\\ | /(_)_\n",
    "                     +    |---+-------+---|    +           (_)---| |---(_)\n",
    "                   _=\"=_  :|||:|_|_|_|:|||:  _=\"=_              |_|_|\n",
    "                   |:::|  |   |  \\|/  |   |  |:::|               | |\n",
    "                  | ... |_|...-=) + (=-...|_| ... |              | |\n",
    "        \\_._._._._| ||| | o . o . o . o . o | ||| |_._._._._/    | |\n",
    "        |  _   _  |  _  | _   _   _   _   _ |  _  |  _   _  |    | |\n",
    " ._._._.| |.| |.| | |.| ||.| |.| |.| |.| |.|| |.| | |.| |.| |_._.| |.\n",
    "     _  |    __   |  _  |-------------------|  _  |   __    |  _ | |\n",
    "    | | |   |  |  | | | | ::   .-\"\"-.   :: | | | |  |  |   | | || ||\n",
    "    |.| |   |..|  | |.| |     | .-\"-. |     | |.| |  |..|   | |.|| ||\n",
    "        :         |     | .-. | |   | | .-. |     |         '    | |\n",
    "                :     : |_|_|_|   |_|_|_| :     :              | |\n",
    "                          _/=============\\_                      | |\n",
    "\n",
    "      \"\"\")\n",
    "print(\"보물섬에 어서오세요~ 모험을 떠나볼까요!!\\n\\n\")\n",
    "check1 = input(\"앞에 갈림길이 있습니다. 오른쪽, 왼쪽 어디로 가실건가요?\")\n",
    "\n",
    "if check1 == \"왼쪽\":\n",
    "    check2 = input(\"호수가 있네요. 배를 기다릴거면 'wait'을, 수영해서 갈거면 'swim'을 입력해 주세요\").lower()\n",
    "    if check2 == \"wait\":\n",
    "        check3 =input(\"배를 타고 건너편에 도착하니 3개의 문이 있습니다. 빨, 주, 노랑색 문 중 어느 문을 열겠습니까? [빨, 주, 노] 로 입력해주세요.\")\n",
    "        if check3 == \"빨\":\n",
    "            print(\"드래곤이 문여는 소리에 잠에서 깨버렸어요...불에 타죽는건 고통스럽죠...최대한 안아프게 죽으시길 빌게요..\")\n",
    "        elif check3 == \"주\":\n",
    "            print(\"각종 보물들로 문 안쪽이 주황색으로 반짝이고 있어요! 이번 모험은 성공적 입니다!!!\")\n",
    "        elif check3 == \"노\":\n",
    "            print(\"금의 노랑색을 생각하고 여셨겠지만 사실 이곳은 어린 마물들을 위한 어린이집 이였답니다... 아이들의 좋은 한끼가 되어주세요..\")\n",
    "        else:\n",
    "            print(\"청개구리 기질의 당신은 여기서 탈락입니다! 천벌받고 죽어주세요^^\")\n",
    "    else:\n",
    "        print(\"굶주린 상어한테 잡아먹혔습니다...\")\n",
    "\n",
    "else:\n",
    "    print(\"웁쓰... 구멍에 빠지셨네요...누군가 구하러 올때까지 부디 살아있어 주세요...\")\n"
   ]
  },
  {
   "cell_type": "markdown",
   "id": "24f11b34",
   "metadata": {},
   "source": [
    "# 4일차"
   ]
  },
  {
   "cell_type": "code",
   "execution_count": 2,
   "id": "79730796",
   "metadata": {},
   "outputs": [
    {
     "name": "stdout",
     "output_type": "stream",
     "text": [
      "1\n"
     ]
    }
   ],
   "source": [
    "# 1이상 10이하\n",
    "import random\n",
    "ran = random.randint(1,10)\n",
    "print(ran)"
   ]
  },
  {
   "cell_type": "code",
   "execution_count": 4,
   "id": "7670a0fb",
   "metadata": {},
   "outputs": [
    {
     "name": "stdout",
     "output_type": "stream",
     "text": [
      "0.6875263688751835\n"
     ]
    }
   ],
   "source": [
    "# 0~1 미만 실수\n",
    "import random\n",
    "ran = random.random()\n",
    "print(ran)"
   ]
  },
  {
   "cell_type": "code",
   "execution_count": 5,
   "id": "99e0f835",
   "metadata": {},
   "outputs": [
    {
     "name": "stdout",
     "output_type": "stream",
     "text": [
      "3.1657278808510037\n"
     ]
    }
   ],
   "source": [
    "# 0~5 미만 실수\n",
    "import random\n",
    "ran = random.random() * 5\n",
    "print(ran)"
   ]
  },
  {
   "cell_type": "code",
   "execution_count": 9,
   "id": "9e98f924",
   "metadata": {},
   "outputs": [
    {
     "name": "stdout",
     "output_type": "stream",
     "text": [
      "앞면\n"
     ]
    }
   ],
   "source": [
    "# 동전 앞, 뒷면\n",
    "import random\n",
    "ran = random.randint(0, 1)\n",
    "if ran == 0:\n",
    "    print(\"앞면\")\n",
    "else:\n",
    "    print(\"뒷면\")"
   ]
  },
  {
   "cell_type": "code",
   "execution_count": 11,
   "id": "4cce1075",
   "metadata": {},
   "outputs": [
    {
     "data": {
      "text/plain": [
       "'1'"
      ]
     },
     "execution_count": 11,
     "metadata": {},
     "output_type": "execute_result"
    }
   ],
   "source": [
    "\"169\"[0]"
   ]
  },
  {
   "cell_type": "code",
   "execution_count": 15,
   "id": "6821692f",
   "metadata": {},
   "outputs": [
    {
     "name": "stdout",
     "output_type": "stream",
     "text": [
      "참가자 이름을 콤마와 공백을 넣고 적어주세요a, b, c\n",
      "이번에 지불할 사람은 b입니다~~\n"
     ]
    }
   ],
   "source": [
    "# 명함으로 랜덤게임 (randint 사용)\n",
    "import random\n",
    "name = input(\"참가자 이름을 콤마와 공백을 넣고 적어주세요\")\n",
    "names = name.split(\", \")\n",
    "len_name = len(names)\n",
    "choice = random.randint(0, len_name -1 )\n",
    "result = names[choice]\n",
    "print(f\"이번에 지불할 사람은 {result}입니다~~\")"
   ]
  },
  {
   "cell_type": "code",
   "execution_count": 16,
   "id": "67df956b",
   "metadata": {},
   "outputs": [
    {
     "name": "stdout",
     "output_type": "stream",
     "text": [
      "참가자 이름을 콤마와 공백을 넣고 적어주세요a, b, c\n",
      "이번에 지불할 사람은 a입니다~~\n"
     ]
    }
   ],
   "source": [
    "# 명함으로 랜덤게임 2  (choice 사용)\n",
    "import random\n",
    "name = input(\"참가자 이름을 콤마와 공백을 넣고 적어주세요\")\n",
    "names = name.split(\", \")\n",
    "result = random.choice(names)\n",
    "print(f\"이번에 지불할 사람은 {result}입니다~~\")"
   ]
  },
  {
   "cell_type": "code",
   "execution_count": 24,
   "id": "80e60567",
   "metadata": {},
   "outputs": [
    {
     "name": "stdout",
     "output_type": "stream",
     "text": [
      "['⬜️', '⬜️', '⬜️']\n",
      "['⬜️', '⬜️', '⬜️']\n",
      "['⬜️', '⬜️', '⬜️']\n",
      "어디로 이동하겠습니까? \n",
      "23\n",
      "['⬜️', '⬜️', '⬜️']\n",
      "['⬜️', '⬜️', '⬜️']\n",
      "['⬜️', 'x', '⬜️']\n"
     ]
    }
   ],
   "source": [
    "# 위치 지정\n",
    "row1 = [\"⬜️\",\"⬜️\",\"⬜️\"]\n",
    "row2 = [\"⬜️\",\"⬜️\",\"⬜️\"]\n",
    "row3 = [\"⬜️\",\"⬜️\",\"⬜️\"]\n",
    "map = [row1, row2, row3]\n",
    "print(f\"{row1}\\n{row2}\\n{row3}\")\n",
    "position = input(\"어디로 이동하겠습니까?\\n\")\n",
    "\n",
    "horizional = int(position[0]) \n",
    "vertical = int(position[1])   \n",
    "\n",
    "select_row = map[vertical-1]\n",
    "select_row[horizional-1] = \"x\"\n",
    "# map[vertical-1][horizional-1] = \"x\"\n",
    "\n",
    "print(f\"{row1}\\n{row2}\\n{row3}\")"
   ]
  },
  {
   "cell_type": "code",
   "execution_count": 43,
   "id": "0761a939",
   "metadata": {
    "scrolled": true
   },
   "outputs": [
    {
     "name": "stdout",
     "output_type": "stream",
     "text": [
      "가위 0, 바위 1, 보 2 중 어느걸 내겠습니까? 숫자로 적어주세요2\n",
      "\n",
      "    _______\n",
      "---'   ____)____\n",
      "          ______)\n",
      "       __________)\n",
      "      (____)\n",
      "---.__(___)\n",
      "\n",
      "컴퓨터의 선택은 : \n",
      "\n",
      "    _______\n",
      "---'   ____)____\n",
      "          ______)\n",
      "          _______)\n",
      "         _______)\n",
      "---.__________)\n",
      "\n",
      "win\n"
     ]
    }
   ],
   "source": [
    "# 가위바위보\n",
    "rock = '''\n",
    "    _______\n",
    "---'   ____)\n",
    "      (_____)\n",
    "      (_____)\n",
    "      (____)\n",
    "---.__(___)\n",
    "'''\n",
    "\n",
    "paper = '''\n",
    "    _______\n",
    "---'   ____)____\n",
    "          ______)\n",
    "          _______)\n",
    "         _______)\n",
    "---.__________)\n",
    "'''\n",
    "\n",
    "scissors = '''\n",
    "    _______\n",
    "---'   ____)____\n",
    "          ______)\n",
    "       __________)\n",
    "      (____)\n",
    "---.__(___)\n",
    "'''\n",
    "import random\n",
    "images = [rock, paper, scissors]\n",
    "choice = int(input(\"가위 0, 바위 1, 보 2 중 어느걸 내겠습니까? 숫자로 적어주세요\"))\n",
    "if choice > 2 or choice < 0 :\n",
    "    print(\"잘못치셨으므로 lose\")\n",
    "else:\n",
    "    print(images[choice])\n",
    "\n",
    "    com_choice = random.randint(0, 2)\n",
    "    print(\"컴퓨터의 선택은 : \")\n",
    "    print(images[com_choice])\n",
    "\n",
    "    if choice == com_choice :\n",
    "        print(\"무승붑니다\")\n",
    "    elif choice == 2 and com_choice == 0:\n",
    "        print(\"lose\")\n",
    "    elif choice == 0 and com_choice == 2:\n",
    "        print(\"win\")\n",
    "    elif choice > com_choice:\n",
    "        print(\"win\")\n",
    "    elif choice < com_choice:\n",
    "        print(\"lose\")\n",
    "    "
   ]
  },
  {
   "cell_type": "markdown",
   "id": "c5c922e5",
   "metadata": {},
   "source": [
    "# 5일차"
   ]
  },
  {
   "cell_type": "code",
   "execution_count": 2,
   "id": "2146f0f6",
   "metadata": {},
   "outputs": [
    {
     "name": "stdout",
     "output_type": "stream",
     "text": [
      "apple\n",
      "['apple', 'peach', 'pear']\n",
      "peach\n",
      "['apple', 'peach', 'pear']\n",
      "pear\n",
      "['apple', 'peach', 'pear']\n"
     ]
    }
   ],
   "source": [
    "fruits = [\"apple\", \"peach\", \"pear\"]\n",
    "for fruit in fruits:\n",
    "    print(fruit)\n",
    "    print(fruits)"
   ]
  },
  {
   "cell_type": "code",
   "execution_count": 6,
   "id": "5e0c11ad",
   "metadata": {},
   "outputs": [
    {
     "name": "stdout",
     "output_type": "stream",
     "text": [
      "학생들의 키를 넣으세요 123 123 123\n",
      "[123, 123, 123]\n"
     ]
    }
   ],
   "source": [
    "# 평균 키 계산\n",
    "student_heights = input(\"학생들의 키를 넣으세요 \").split()\n",
    "for n in range(0, len(student_heights)):\n",
    "    student_heights[n] = int(student_heights[n])\n",
    "print(student_heights)"
   ]
  },
  {
   "cell_type": "code",
   "execution_count": 11,
   "id": "b47d70b8",
   "metadata": {},
   "outputs": [
    {
     "name": "stdout",
     "output_type": "stream",
     "text": [
      "학생들의 키를 넣으세요 123 123 123\n",
      "369\n",
      "3\n",
      "평균은 123.0 입니다\n"
     ]
    }
   ],
   "source": [
    "# 평균 키 계산\n",
    "# sum(), len() 사용 없이 for문 사용\n",
    "student_heights = input(\"학생들의 키를 넣으세요 \").split()\n",
    "for n in range(0, len(student_heights)):\n",
    "    student_heights[n] = int(student_heights[n])\n",
    "    \n",
    "total = 0\n",
    "for height in student_heights:\n",
    "    total += height\n",
    "print(total)\n",
    "\n",
    "number_students = 0\n",
    "for student in student_heights:\n",
    "    number_students += 1\n",
    "print(number_students)\n",
    "avg = total / number_students\n",
    "\n",
    "print(f\"평균은 {avg} 입니다\")"
   ]
  },
  {
   "cell_type": "code",
   "execution_count": 14,
   "id": "8375437e",
   "metadata": {},
   "outputs": [
    {
     "name": "stdout",
     "output_type": "stream",
     "text": [
      "학생들의 점수를 입력하세요 20 30 40\n",
      "[20, 30, 40]\n",
      "40\n"
     ]
    }
   ],
   "source": [
    "# 높은 점수\n",
    "# max(), min() 사용없이 for문 사용\n",
    "student_scores = input(\"학생들의 점수를 입력하세요 \").split()\n",
    "for n in range(0, len(student_scores)):\n",
    "      student_scores[n] = int(student_scores[n])\n",
    "print(student_scores)\n",
    "\n",
    "higher = 0\n",
    "for score in student_scores:\n",
    "    if score > higher:\n",
    "        higher = score\n",
    "print(higher)"
   ]
  },
  {
   "cell_type": "code",
   "execution_count": 16,
   "id": "aeb1a816",
   "metadata": {},
   "outputs": [
    {
     "name": "stdout",
     "output_type": "stream",
     "text": [
      "1\n",
      "3\n",
      "5\n",
      "7\n",
      "9\n"
     ]
    }
   ],
   "source": [
    "for number in range(1, 11, 2):\n",
    "    print(number)"
   ]
  },
  {
   "cell_type": "code",
   "execution_count": 17,
   "id": "9330f747",
   "metadata": {},
   "outputs": [
    {
     "name": "stdout",
     "output_type": "stream",
     "text": [
      "5050\n"
     ]
    }
   ],
   "source": [
    "# 1 ~ 100 전부 더하기\n",
    "total = 0\n",
    "for number in range(1, 101):\n",
    "    total += number\n",
    "print(total)"
   ]
  },
  {
   "cell_type": "code",
   "execution_count": 19,
   "id": "8dff5c6b",
   "metadata": {},
   "outputs": [
    {
     "name": "stdout",
     "output_type": "stream",
     "text": [
      "2550\n"
     ]
    }
   ],
   "source": [
    "# 1~100 사이 짝수만 더하기 (1)\n",
    "total = 0\n",
    "for number in range(2, 101, 2):\n",
    "        total += number\n",
    "print(total)    "
   ]
  },
  {
   "cell_type": "code",
   "execution_count": 20,
   "id": "75e5461e",
   "metadata": {},
   "outputs": [
    {
     "name": "stdout",
     "output_type": "stream",
     "text": [
      "2550\n"
     ]
    }
   ],
   "source": [
    "# 1~100 사이 짝수만 더하기 (2)\n",
    "total = 0\n",
    "for number in range(1, 101):\n",
    "        if number % 2 == 0:\n",
    "            total += number\n",
    "print(total)    "
   ]
  },
  {
   "cell_type": "code",
   "execution_count": 21,
   "id": "bb8bdf79",
   "metadata": {
    "scrolled": true
   },
   "outputs": [
    {
     "name": "stdout",
     "output_type": "stream",
     "text": [
      "1\n",
      "2\n",
      "Fizz\n",
      "4\n",
      "Buzz\n",
      "Fizz\n",
      "7\n",
      "8\n",
      "Fizz\n",
      "Buzz\n",
      "11\n",
      "Fizz\n",
      "13\n",
      "14\n",
      "FizzBuzz\n",
      "16\n",
      "17\n",
      "Fizz\n",
      "19\n",
      "Buzz\n",
      "Fizz\n",
      "22\n",
      "23\n",
      "Fizz\n",
      "Buzz\n",
      "26\n",
      "Fizz\n",
      "28\n",
      "29\n",
      "FizzBuzz\n",
      "31\n",
      "32\n",
      "Fizz\n",
      "34\n",
      "Buzz\n",
      "Fizz\n",
      "37\n",
      "38\n",
      "Fizz\n",
      "Buzz\n",
      "41\n",
      "Fizz\n",
      "43\n",
      "44\n",
      "FizzBuzz\n",
      "46\n",
      "47\n",
      "Fizz\n",
      "49\n",
      "Buzz\n",
      "Fizz\n",
      "52\n",
      "53\n",
      "Fizz\n",
      "Buzz\n",
      "56\n",
      "Fizz\n",
      "58\n",
      "59\n",
      "FizzBuzz\n",
      "61\n",
      "62\n",
      "Fizz\n",
      "64\n",
      "Buzz\n",
      "Fizz\n",
      "67\n",
      "68\n",
      "Fizz\n",
      "Buzz\n",
      "71\n",
      "Fizz\n",
      "73\n",
      "74\n",
      "FizzBuzz\n",
      "76\n",
      "77\n",
      "Fizz\n",
      "79\n",
      "Buzz\n",
      "Fizz\n",
      "82\n",
      "83\n",
      "Fizz\n",
      "Buzz\n",
      "86\n",
      "Fizz\n",
      "88\n",
      "89\n",
      "FizzBuzz\n",
      "91\n",
      "92\n",
      "Fizz\n",
      "94\n",
      "Buzz\n",
      "Fizz\n",
      "97\n",
      "98\n",
      "Fizz\n",
      "Buzz\n"
     ]
    }
   ],
   "source": [
    "# FizzBuzz 게임 3,5,15\n",
    "for number in range(1, 101):\n",
    "    if number % 3 == 0 and number % 5 ==0:\n",
    "        print(\"FizzBuzz\")\n",
    "    elif number % 3 == 0:\n",
    "        print(\"Fizz\")\n",
    "    elif number % 5 == 0:\n",
    "        print(\"Buzz\")\n",
    "    else:\n",
    "        print(number)"
   ]
  },
  {
   "cell_type": "code",
   "execution_count": 23,
   "id": "2421b999",
   "metadata": {},
   "outputs": [
    {
     "name": "stdout",
     "output_type": "stream",
     "text": [
      "비밀번호 생성기에 오신것을 환영합니다!\n",
      "문자는 몇 개 들어갈까요?\n",
      "2\n",
      "특수문자는 몇 개 들어갈까요?\n",
      "2\n",
      "숫자는 몇 개 들어갈까요?\n",
      "2\n",
      "sM(%54\n"
     ]
    }
   ],
   "source": [
    "# 비밀번호 생성기 만들기 (1) 차례대로 생성\n",
    "#Password Generator Project\n",
    "import random\n",
    "letters = ['a', 'b', 'c', 'd', 'e', 'f', 'g', 'h', 'i', 'j', 'k', 'l', 'm', 'n', 'o', 'p', 'q', 'r', 's', 't', 'u', 'v', 'w', 'x', 'y', 'z', 'A', 'B', 'C', 'D', 'E', 'F', 'G', 'H', 'I', 'J', 'K', 'L', 'M', 'N', 'O', 'P', 'Q', 'R', 'S', 'T', 'U', 'V', 'W', 'X', 'Y', 'Z']\n",
    "numbers = ['0', '1', '2', '3', '4', '5', '6', '7', '8', '9']\n",
    "symbols = ['!', '#', '$', '%', '&', '(', ')', '*', '+']\n",
    "\n",
    "print(\"비밀번호 생성기에 오신것을 환영합니다!\")\n",
    "nr_letters= int(input(\"문자는 몇 개 들어갈까요?\\n\")) \n",
    "nr_symbols = int(input(f\"특수문자는 몇 개 들어갈까요?\\n\"))\n",
    "nr_numbers = int(input(f\"숫자는 몇 개 들어갈까요?\\n\"))\n",
    "\n",
    "password = \"\"\n",
    "for char in range(1, nr_letters + 1):\n",
    "    random_char = random.choice(letters)\n",
    "    password += random_char\n",
    "for char in range(1, nr_symbols + 1):\n",
    "    password += random.choice(symbols)\n",
    "for char in range(1, nr_numbers + 1):\n",
    "    password += random.choice(numbers)\n",
    "    \n",
    "print(password)"
   ]
  },
  {
   "cell_type": "code",
   "execution_count": 29,
   "id": "50eb4e68",
   "metadata": {},
   "outputs": [
    {
     "name": "stdout",
     "output_type": "stream",
     "text": [
      "비밀번호 생성기에 오신것을 환영합니다!\n",
      "문자는 몇 개 들어갈까요?\n",
      "2\n",
      "특수문자는 몇 개 들어갈까요?\n",
      "3\n",
      "숫자는 몇 개 들어갈까요?\n",
      "4\n",
      "['U', 'G', '#', '&', '*', '9', '4', '5', '8']\n",
      "['&', 'U', '9', '8', '*', '5', '4', 'G', '#']\n",
      "\n",
      "당신의 비밀번호는 &U98*54G#입니다\n"
     ]
    }
   ],
   "source": [
    "# 비밀번호 생성기 만들기 (2) 무작위로 생성\n",
    "#Password Generator Project\n",
    "import random\n",
    "letters = ['a', 'b', 'c', 'd', 'e', 'f', 'g', 'h', 'i', 'j', 'k', 'l', 'm', 'n', 'o', 'p', 'q', 'r', 's', 't', 'u', 'v', 'w', 'x', 'y', 'z', 'A', 'B', 'C', 'D', 'E', 'F', 'G', 'H', 'I', 'J', 'K', 'L', 'M', 'N', 'O', 'P', 'Q', 'R', 'S', 'T', 'U', 'V', 'W', 'X', 'Y', 'Z']\n",
    "numbers = ['0', '1', '2', '3', '4', '5', '6', '7', '8', '9']\n",
    "symbols = ['!', '#', '$', '%', '&', '(', ')', '*', '+']\n",
    "\n",
    "print(\"비밀번호 생성기에 오신것을 환영합니다!\")\n",
    "nr_letters= int(input(\"문자는 몇 개 들어갈까요?\\n\")) \n",
    "nr_symbols = int(input(f\"특수문자는 몇 개 들어갈까요?\\n\"))\n",
    "nr_numbers = int(input(f\"숫자는 몇 개 들어갈까요?\\n\"))\n",
    "\n",
    "password = []\n",
    "for char in range(1, nr_letters + 1):\n",
    "    random_char = random.choice(letters)\n",
    "    password += random_char\n",
    "for char in range(1, nr_symbols + 1):\n",
    "    password += random.choice(symbols)\n",
    "for char in range(1, nr_numbers + 1):\n",
    "    password.append(random.choice(numbers))\n",
    "    \n",
    "print(password)\n",
    "random.shuffle(password)\n",
    "print(password)\n",
    "\n",
    "re_password = \"\"\n",
    "for char in password:\n",
    "    re_password += char\n",
    "    \n",
    "print(f\"\\n당신의 비밀번호는 {re_password}입니다\")"
   ]
  },
  {
   "cell_type": "code",
   "execution_count": null,
   "id": "88ee8826",
   "metadata": {},
   "outputs": [],
   "source": []
  },
  {
   "cell_type": "code",
   "execution_count": null,
   "id": "9d315b4f",
   "metadata": {},
   "outputs": [],
   "source": []
  },
  {
   "cell_type": "code",
   "execution_count": null,
   "id": "538de182",
   "metadata": {},
   "outputs": [],
   "source": []
  },
  {
   "cell_type": "code",
   "execution_count": null,
   "id": "856da7a7",
   "metadata": {},
   "outputs": [],
   "source": []
  },
  {
   "cell_type": "code",
   "execution_count": null,
   "id": "f1e6e497",
   "metadata": {},
   "outputs": [],
   "source": []
  },
  {
   "cell_type": "code",
   "execution_count": null,
   "id": "7a0a8249",
   "metadata": {},
   "outputs": [],
   "source": []
  },
  {
   "cell_type": "code",
   "execution_count": null,
   "id": "a1f384c6",
   "metadata": {},
   "outputs": [],
   "source": []
  },
  {
   "cell_type": "code",
   "execution_count": null,
   "id": "e1ae08eb",
   "metadata": {},
   "outputs": [],
   "source": []
  },
  {
   "cell_type": "code",
   "execution_count": null,
   "id": "f4f2ce93",
   "metadata": {},
   "outputs": [],
   "source": []
  },
  {
   "cell_type": "code",
   "execution_count": null,
   "id": "bc20d484",
   "metadata": {},
   "outputs": [],
   "source": []
  },
  {
   "cell_type": "code",
   "execution_count": null,
   "id": "68e91175",
   "metadata": {},
   "outputs": [],
   "source": []
  }
 ],
 "metadata": {
  "kernelspec": {
   "display_name": "Python 3 (ipykernel)",
   "language": "python",
   "name": "python3"
  },
  "language_info": {
   "codemirror_mode": {
    "name": "ipython",
    "version": 3
   },
   "file_extension": ".py",
   "mimetype": "text/x-python",
   "name": "python",
   "nbconvert_exporter": "python",
   "pygments_lexer": "ipython3",
   "version": "3.9.12"
  }
 },
 "nbformat": 4,
 "nbformat_minor": 5
}
