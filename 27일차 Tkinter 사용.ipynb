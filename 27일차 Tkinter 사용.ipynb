{
 "cells": [
  {
   "cell_type": "code",
   "execution_count": 4,
   "id": "b73547e1",
   "metadata": {},
   "outputs": [],
   "source": [
    "import tkinter\n",
    "\n",
    "window = tkinter.Tk()\n",
    "window.title(\"My First GUI Program\")\n",
    "window.minsize(width=500, height=300)\n",
    "\n",
    "my_label = tkinter.Label(text=\"I'm a Label\")\n",
    "my_label.pack()\n",
    "\n",
    "window.mainloop()"
   ]
  },
  {
   "cell_type": "code",
   "execution_count": 6,
   "id": "e513007c",
   "metadata": {},
   "outputs": [],
   "source": [
    "import tkinter\n",
    "\n",
    "window = tkinter.Tk()\n",
    "window.title(\"My First GUI Program\")\n",
    "window.minsize(width=500, height=300)\n",
    "\n",
    "my_label = tkinter.Label(text=\"I'm a Label\", font=('Arial',24,'bold'))\n",
    "my_label.pack(side='left' )\n",
    "\n",
    "window.mainloop()"
   ]
  },
  {
   "cell_type": "markdown",
   "id": "d6edc3f0",
   "metadata": {},
   "source": [
    "# 여러 인수를 갖는 함수 만들기 ( '*' 사용! )\n",
    "\n",
    "def add(*args): \n",
    "    \n",
    "-> *args : 몇개의 인수라도 허용!"
   ]
  },
  {
   "cell_type": "code",
   "execution_count": 8,
   "id": "a3df18b3",
   "metadata": {},
   "outputs": [
    {
     "name": "stdout",
     "output_type": "stream",
     "text": [
      "(3, 5, 6)\n",
      "<class 'tuple'>\n"
     ]
    }
   ],
   "source": [
    "def add(*args):\n",
    "    print(args)\n",
    "    print(type(args))\n",
    "add(3,5,6)"
   ]
  },
  {
   "cell_type": "code",
   "execution_count": 9,
   "id": "aa0bef70",
   "metadata": {},
   "outputs": [
    {
     "name": "stdout",
     "output_type": "stream",
     "text": [
      "3\n",
      "5\n",
      "6\n"
     ]
    }
   ],
   "source": [
    "def add(*args):\n",
    "    for n in args:\n",
    "        print(n)\n",
    "add(3,5,6)"
   ]
  },
  {
   "cell_type": "code",
   "execution_count": 13,
   "id": "789066ad",
   "metadata": {},
   "outputs": [
    {
     "data": {
      "text/plain": [
       "14"
      ]
     },
     "execution_count": 13,
     "metadata": {},
     "output_type": "execute_result"
    }
   ],
   "source": [
    "def add(*args):\n",
    "    sum = 0\n",
    "    for n in args:\n",
    "        sum += n\n",
    "    return sum\n",
    "add(3,5,6)"
   ]
  },
  {
   "cell_type": "markdown",
   "id": "9b4e955d",
   "metadata": {},
   "source": [
    "# 임의의 숫자 키워드 인수 다루기 ( '**' 사용!)"
   ]
  },
  {
   "cell_type": "code",
   "execution_count": 15,
   "id": "8e8f4c01",
   "metadata": {},
   "outputs": [
    {
     "name": "stdout",
     "output_type": "stream",
     "text": [
      "{'add': 3, 'multiply': 5}\n",
      "<class 'dict'>\n"
     ]
    }
   ],
   "source": [
    "def calculate(**kwargs):\n",
    "    print(kwargs)\n",
    "    print(type(kwargs))\n",
    "    \n",
    "calculate(add=3, multiply=5)"
   ]
  },
  {
   "cell_type": "code",
   "execution_count": 16,
   "id": "6896c939",
   "metadata": {},
   "outputs": [
    {
     "name": "stdout",
     "output_type": "stream",
     "text": [
      "{'add': 3, 'multiply': 5}\n",
      "add\n",
      "3\n",
      "multiply\n",
      "5\n"
     ]
    }
   ],
   "source": [
    "def calculate(**kwargs):\n",
    "    print(kwargs)\n",
    "    for key, value in kwargs.items():\n",
    "        print(key)\n",
    "        print(value)\n",
    "    \n",
    "calculate(add=3, multiply=5)"
   ]
  },
  {
   "cell_type": "code",
   "execution_count": 17,
   "id": "915f27fa",
   "metadata": {},
   "outputs": [
    {
     "name": "stdout",
     "output_type": "stream",
     "text": [
      "{'add': 3, 'multiply': 5}\n",
      "3\n"
     ]
    }
   ],
   "source": [
    "def calculate(**kwargs):\n",
    "    print(kwargs)\n",
    "    print(kwargs['add'])\n",
    "    \n",
    "calculate(add=3, multiply=5)"
   ]
  },
  {
   "cell_type": "code",
   "execution_count": 20,
   "id": "248b8e79",
   "metadata": {},
   "outputs": [
    {
     "name": "stdout",
     "output_type": "stream",
     "text": [
      "{'add': 3, 'multiply': 5}\n",
      "25\n"
     ]
    }
   ],
   "source": [
    "def calculate(n, **kwargs):\n",
    "    print(kwargs)\n",
    "    n += kwargs['add'] # 2 + 3 =5\n",
    "    n *= kwargs['multiply'] # 5 * 5 = 25\n",
    "    print(n)\n",
    "    \n",
    "calculate(2, add=3, multiply=5)"
   ]
  },
  {
   "cell_type": "code",
   "execution_count": 24,
   "id": "669d2cf5",
   "metadata": {},
   "outputs": [
    {
     "name": "stdout",
     "output_type": "stream",
     "text": [
      "GT-R\n"
     ]
    }
   ],
   "source": [
    "class Car:  \n",
    "    def __init__(self, **kw):\n",
    "        self.make = kw[\"make\"]\n",
    "        self.model = kw['model']\n",
    "my_car = Car(make=\"nissan\", model=\"GT-R\")\n",
    "print(my_car.model)"
   ]
  },
  {
   "cell_type": "code",
   "execution_count": 25,
   "id": "ff65a59c",
   "metadata": {},
   "outputs": [
    {
     "ename": "KeyError",
     "evalue": "'model'",
     "output_type": "error",
     "traceback": [
      "\u001b[1;31m---------------------------------------------------------------------------\u001b[0m",
      "\u001b[1;31mKeyError\u001b[0m                                  Traceback (most recent call last)",
      "Cell \u001b[1;32mIn [25], line 5\u001b[0m\n\u001b[0;32m      3\u001b[0m         \u001b[38;5;28mself\u001b[39m\u001b[38;5;241m.\u001b[39mmake \u001b[38;5;241m=\u001b[39m kw[\u001b[38;5;124m\"\u001b[39m\u001b[38;5;124mmake\u001b[39m\u001b[38;5;124m\"\u001b[39m]\n\u001b[0;32m      4\u001b[0m         \u001b[38;5;28mself\u001b[39m\u001b[38;5;241m.\u001b[39mmodel \u001b[38;5;241m=\u001b[39m kw[\u001b[38;5;124m'\u001b[39m\u001b[38;5;124mmodel\u001b[39m\u001b[38;5;124m'\u001b[39m]\n\u001b[1;32m----> 5\u001b[0m my_car \u001b[38;5;241m=\u001b[39m \u001b[43mCar\u001b[49m\u001b[43m(\u001b[49m\u001b[43mmake\u001b[49m\u001b[38;5;241;43m=\u001b[39;49m\u001b[38;5;124;43m\"\u001b[39;49m\u001b[38;5;124;43mnissan\u001b[39;49m\u001b[38;5;124;43m\"\u001b[39;49m\u001b[43m)\u001b[49m\n\u001b[0;32m      6\u001b[0m \u001b[38;5;28mprint\u001b[39m(my_car\u001b[38;5;241m.\u001b[39mmodel)\n",
      "Cell \u001b[1;32mIn [25], line 4\u001b[0m, in \u001b[0;36mCar.__init__\u001b[1;34m(self, **kw)\u001b[0m\n\u001b[0;32m      2\u001b[0m \u001b[38;5;28;01mdef\u001b[39;00m \u001b[38;5;21m__init__\u001b[39m(\u001b[38;5;28mself\u001b[39m, \u001b[38;5;241m*\u001b[39m\u001b[38;5;241m*\u001b[39mkw):\n\u001b[0;32m      3\u001b[0m     \u001b[38;5;28mself\u001b[39m\u001b[38;5;241m.\u001b[39mmake \u001b[38;5;241m=\u001b[39m kw[\u001b[38;5;124m\"\u001b[39m\u001b[38;5;124mmake\u001b[39m\u001b[38;5;124m\"\u001b[39m]\n\u001b[1;32m----> 4\u001b[0m     \u001b[38;5;28mself\u001b[39m\u001b[38;5;241m.\u001b[39mmodel \u001b[38;5;241m=\u001b[39m \u001b[43mkw\u001b[49m\u001b[43m[\u001b[49m\u001b[38;5;124;43m'\u001b[39;49m\u001b[38;5;124;43mmodel\u001b[39;49m\u001b[38;5;124;43m'\u001b[39;49m\u001b[43m]\u001b[49m\n",
      "\u001b[1;31mKeyError\u001b[0m: 'model'"
     ]
    }
   ],
   "source": [
    "class Car:  \n",
    "    def __init__(self, **kw):\n",
    "        self.make = kw[\"make\"]\n",
    "        self.model = kw['model']\n",
    "my_car = Car(make=\"nissan\")  # model을 정의하지 않았으므로 에러\n",
    "print(my_car.model)"
   ]
  },
  {
   "cell_type": "code",
   "execution_count": 26,
   "id": "cd7c4720",
   "metadata": {},
   "outputs": [
    {
     "name": "stdout",
     "output_type": "stream",
     "text": [
      "None\n"
     ]
    }
   ],
   "source": [
    "class Car:  \n",
    "    def __init__(self, **kw):\n",
    "        self.make = kw.get('make')\n",
    "        self.model = kw.get('model') \n",
    "my_car = Car(make=\"nissan\") # 위와 같이 정의하지 않아도 에러가 나지 않음\n",
    "print(my_car.model)"
   ]
  },
  {
   "cell_type": "code",
   "execution_count": null,
   "id": "8ac2dbf9",
   "metadata": {},
   "outputs": [],
   "source": []
  },
  {
   "cell_type": "code",
   "execution_count": 27,
   "id": "86896ea9",
   "metadata": {},
   "outputs": [],
   "source": [
    "import tkinter\n",
    "\n",
    "window = tkinter.Tk()\n",
    "window.title(\"My First GUI Program\")\n",
    "window.minsize(width=500, height=300)\n",
    "\n",
    "my_label = tkinter.Label(text=\"I'm a Label\", font=('Arial',24,'bold'))\n",
    "my_label.pack(side='left' )\n",
    "\n",
    "# my_label 변경\n",
    "# 혹은 my_label['text'] = \"New Text\"\n",
    "my_label.config(text = 'New Text 2')\n",
    "\n",
    "window.mainloop()"
   ]
  },
  {
   "cell_type": "code",
   "execution_count": 30,
   "id": "72c8f602",
   "metadata": {},
   "outputs": [],
   "source": [
    "from tkinter import *\n",
    "\n",
    "window = Tk()\n",
    "window.title(\"My First GUI Program\")\n",
    "window.minsize(width=500, height=300)\n",
    "\n",
    "my_label = Label(text=\"I'm a Label\", font=('Arial',24,'bold'))\n",
    "my_label.pack()\n",
    "my_label.config(text = 'New Text 2')\n",
    "\n",
    "# 버튼 생성\n",
    "\n",
    "button = Button(text='[ 클릭 ]')\n",
    "button.pack()\n",
    "\n",
    "window.mainloop()"
   ]
  },
  {
   "cell_type": "markdown",
   "id": "9e43bfe3",
   "metadata": {},
   "source": [
    "# 버튼"
   ]
  },
  {
   "cell_type": "code",
   "execution_count": 34,
   "id": "ad7e15f7",
   "metadata": {},
   "outputs": [
    {
     "name": "stdout",
     "output_type": "stream",
     "text": [
      "I got clicked\n",
      "I got clicked\n"
     ]
    }
   ],
   "source": [
    "# 버튼 기능\n",
    "from tkinter import *\n",
    "\n",
    "window = Tk()\n",
    "window.title(\"My First GUI Program\")\n",
    "window.minsize(width=500, height=300)\n",
    "\n",
    "my_label = Label(text=\"I'm a Label\", font=('Arial',24,'bold'))\n",
    "my_label.pack()\n",
    "my_label.config(text = 'New Text 2')\n",
    "\n",
    "def button_clicked():\n",
    "    print('I got clicked')\n",
    "\n",
    "button = Button(text='[ 클릭 ]', command = button_clicked)\n",
    "button.pack()\n",
    "\n",
    "window.mainloop()"
   ]
  },
  {
   "cell_type": "code",
   "execution_count": 35,
   "id": "3efc731e",
   "metadata": {},
   "outputs": [
    {
     "name": "stdout",
     "output_type": "stream",
     "text": [
      "I got clicked\n"
     ]
    }
   ],
   "source": [
    "# 버튼 기능\n",
    "from tkinter import *\n",
    "\n",
    "window = Tk()\n",
    "window.title(\"My First GUI Program\")\n",
    "window.minsize(width=500, height=300)\n",
    "\n",
    "my_label = Label(text=\"I'm a Label\", font=('Arial',24,'bold'))\n",
    "my_label.pack()\n",
    "my_label.config(text = 'New Text 2')\n",
    "\n",
    "def button_clicked():\n",
    "    print('I got clicked')\n",
    "    my_label.config(text = '버튼이 눌렸습니다')\n",
    "\n",
    "button = Button(text='[ 클릭 ]', command = button_clicked)\n",
    "button.pack()\n",
    "\n",
    "window.mainloop()"
   ]
  },
  {
   "cell_type": "markdown",
   "id": "cab85d38",
   "metadata": {},
   "source": [
    "# entry "
   ]
  },
  {
   "cell_type": "code",
   "execution_count": 38,
   "id": "9dad0153",
   "metadata": {},
   "outputs": [
    {
     "name": "stdout",
     "output_type": "stream",
     "text": [
      "\n",
      "I got clicked\n",
      "I got clicked\n"
     ]
    }
   ],
   "source": [
    "from tkinter import *\n",
    "\n",
    "window = Tk()\n",
    "window.title(\"My First GUI Program\")\n",
    "window.minsize(width=500, height=300)\n",
    "\n",
    "my_label = Label(text=\"I'm a Label\", font=('Arial',24,'bold'))\n",
    "my_label.pack()\n",
    "my_label.config(text = 'New Text 2')\n",
    "\n",
    "def button_clicked():\n",
    "    print('I got clicked')\n",
    "    new_text = input.get()\n",
    "    my_label.config(text = new_text)\n",
    "\n",
    "button = Button(text='[ 클릭 ]', command = button_clicked)\n",
    "button.pack()\n",
    "\n",
    "input = Entry(width= 19)\n",
    "input.pack()\n",
    "\n",
    "window.mainloop()"
   ]
  },
  {
   "cell_type": "markdown",
   "id": "d372f180",
   "metadata": {},
   "source": [
    "# 그 외 기능들"
   ]
  },
  {
   "cell_type": "code",
   "execution_count": 40,
   "id": "43a46935",
   "metadata": {},
   "outputs": [
    {
     "name": "stdout",
     "output_type": "stream",
     "text": [
      "Email 주소\n",
      "텍스트상자 내용\n",
      "\n"
     ]
    }
   ],
   "source": [
    "from tkinter import *\n",
    "\n",
    "#Creating a new window and configurations\n",
    "window = Tk()\n",
    "window.title(\"Widget Examples\")\n",
    "window.minsize(width=500, height=500)\n",
    "\n",
    "#Labels\n",
    "label = Label(text=\"This is old text\")\n",
    "label.config(text=\"This is new text\")\n",
    "label.pack()\n",
    "\n",
    "#Buttons\n",
    "def action():\n",
    "    print(\"Do something\")\n",
    "\n",
    "#calls action() when pressed\n",
    "button = Button(text=\"Click Me\", command=action)\n",
    "button.pack()\n",
    "\n",
    "#Entries\n",
    "entry = Entry(width=30)\n",
    "#Add some text to begin with\n",
    "entry.insert(END, string=\"Email 주소\")\n",
    "#Gets text in entry\n",
    "print(entry.get())\n",
    "entry.pack()\n",
    "\n",
    "#Text\n",
    "text = Text(height=5, width=30)\n",
    "#Puts cursor in textbox.\n",
    "text.focus()\n",
    "#Adds some text to begin with.\n",
    "text.insert(END, \"텍스트상자 내용\")\n",
    "#Get's current value in textbox at line 1, character 0\n",
    "print(text.get(\"1.0\", END))\n",
    "text.pack()\n",
    "\n",
    "#Spinbox\n",
    "def spinbox_used():\n",
    "    #gets the current value in spinbox.\n",
    "    print(spinbox.get())\n",
    "spinbox = Spinbox(from_=0, to=10, width=5, command=spinbox_used)\n",
    "spinbox.pack()\n",
    "\n",
    "#Scale\n",
    "#Called with current scale value.\n",
    "def scale_used(value):\n",
    "    print(value)\n",
    "scale = Scale(from_=0, to=100, command=scale_used)\n",
    "scale.pack()\n",
    "\n",
    "#Checkbutton\n",
    "def checkbutton_used():\n",
    "    #Prints 1 if On button checked, otherwise 0.\n",
    "    print(checked_state.get())\n",
    "#variable to hold on to checked state, 0 is off, 1 is on.\n",
    "checked_state = IntVar()\n",
    "checkbutton = Checkbutton(text=\"Is On?\", variable=checked_state, command=checkbutton_used)\n",
    "checked_state.get()\n",
    "checkbutton.pack()\n",
    "\n",
    "#Radiobutton\n",
    "def radio_used():\n",
    "    print(radio_state.get())\n",
    "#Variable to hold on to which radio button value is checked.\n",
    "radio_state = IntVar()\n",
    "radiobutton1 = Radiobutton(text=\"Option1\", value=1, variable=radio_state, command=radio_used)\n",
    "radiobutton2 = Radiobutton(text=\"Option2\", value=2, variable=radio_state, command=radio_used)\n",
    "radiobutton1.pack()\n",
    "radiobutton2.pack()\n",
    "\n",
    "\n",
    "#Listbox\n",
    "def listbox_used(event):\n",
    "    # Gets current selection from listbox\n",
    "    print(listbox.get(listbox.curselection()))\n",
    "\n",
    "listbox = Listbox(height=4)\n",
    "fruits = [\"Apple\", \"Pear\", \"Orange\", \"Banana\"]\n",
    "for item in fruits:\n",
    "    listbox.insert(fruits.index(item), item)\n",
    "listbox.bind(\"<<ListboxSelect>>\", listbox_used)\n",
    "listbox.pack()\n",
    "window.mainloop()\n"
   ]
  },
  {
   "cell_type": "markdown",
   "id": "8b16a6f8",
   "metadata": {},
   "source": [
    "# 레이아웃 관리자 - pack, place, grid\n",
    "- pack 과 grid는 같은 프로그램에선 사용할 수 없다"
   ]
  },
  {
   "cell_type": "code",
   "execution_count": 46,
   "id": "783bba2b",
   "metadata": {},
   "outputs": [
    {
     "name": "stdout",
     "output_type": "stream",
     "text": [
      "\n"
     ]
    }
   ],
   "source": [
    "# 버튼 기능\n",
    "from tkinter import *\n",
    "\n",
    "def button_clicked():\n",
    "    print('I got clicked')\n",
    "    my_label.config(text = '버튼이 눌렸습니다')\n",
    "\n",
    "window = Tk()\n",
    "window.title(\"My First GUI Program\")\n",
    "window.minsize(width=500, height=300)\n",
    "\n",
    "\n",
    "# 라벨\n",
    "my_label = Label(text=\"I'm a Label\", font=('Arial',24,'bold'))\n",
    "my_label.config(text = 'New Text 2')\n",
    "my_label.grid(column=0, row=0)\n",
    "\n",
    "# 버튼\n",
    "button = Button(text='[ 클릭 ]', command = button_clicked)\n",
    "button.grid(column=1, row=1)\n",
    "\n",
    "# entry\n",
    "input = Entry(width= 19)\n",
    "print(input.get())\n",
    "input.grid(column=2, row=2)\n",
    "\n",
    "window.mainloop()"
   ]
  },
  {
   "cell_type": "markdown",
   "id": "c605b23d",
   "metadata": {},
   "source": [
    "# 여백"
   ]
  },
  {
   "cell_type": "code",
   "execution_count": 49,
   "id": "5d2c00c0",
   "metadata": {},
   "outputs": [
    {
     "name": "stdout",
     "output_type": "stream",
     "text": [
      "\n"
     ]
    }
   ],
   "source": [
    "# 버튼 기능\n",
    "from tkinter import *\n",
    "\n",
    "def button_clicked():\n",
    "    print('I got clicked')\n",
    "    my_label.config(text = '버튼이 눌렸습니다')\n",
    "\n",
    "window = Tk()\n",
    "window.title(\"My First GUI Program\")\n",
    "window.minsize(width=500, height=300)\n",
    "\n",
    "#여백\n",
    "window.config(padx=100, pady=20)\n",
    "\n",
    "# 라벨\n",
    "my_label = Label(text=\"I'm a Label\", font=('Arial',24,'bold'))\n",
    "my_label.config(text = 'New Text 2')\n",
    "my_label.grid(column=0, row=0)\n",
    "my_label.config(padx=20, pady=20) #여백\n",
    "\n",
    "# 버튼\n",
    "button = Button(text='[ 클릭 ]', command = button_clicked)\n",
    "button.grid(column=1, row=1)\n",
    "\n",
    "new_button = Button(text='[ 클릭2 ]', command = button_clicked)\n",
    "new_button.grid(column=2, row=0)\n",
    "\n",
    "# entry\n",
    "input = Entry(width= 19)\n",
    "print(input.get())\n",
    "input.grid(column=3, row=2)\n",
    "\n",
    "window.mainloop()"
   ]
  },
  {
   "cell_type": "markdown",
   "id": "d55c791a",
   "metadata": {},
   "source": [
    "# 마일을 킬로미터로 바꾸기"
   ]
  },
  {
   "cell_type": "code",
   "execution_count": 62,
   "id": "bdf1acce",
   "metadata": {},
   "outputs": [],
   "source": [
    "from tkinter import *\n",
    "\n",
    "def miles_to_km():\n",
    "    miles = float(miles_input.get())\n",
    "    km = round(miles * 1.609)\n",
    "    kilometer_result.config(text=f\"약 {km}\")\n",
    "\n",
    "\n",
    "\n",
    "window = Tk()\n",
    "window.title(\"마일 -> 킬로미터\")\n",
    "window.config(padx=20, pady=20)\n",
    "\n",
    "miles_input = Entry(width=8)\n",
    "miles_input.grid(column=1, row=0)\n",
    "\n",
    "miles_label = Label(text=\"Miles\")\n",
    "miles_label.grid(column=2, row=0)\n",
    "\n",
    "equal_label = Label(text=\"is equal to\")\n",
    "equal_label.grid(column=0, row=1)\n",
    "\n",
    "kilometer_result = Label(text=\"0\")\n",
    "kilometer_result.grid(column=1, row=1)\n",
    "\n",
    "kilometer_label = Label(text=\"km\")\n",
    "kilometer_label.grid(column=2, row=1)\n",
    " \n",
    "caculate_button = Button(text=\"Calculate\", command=miles_to_km)\n",
    "caculate_button.grid(column=1, row=2)\n",
    "\n",
    "\n",
    "window.mainloop()"
   ]
  }
 ],
 "metadata": {
  "kernelspec": {
   "display_name": "Python 3 (ipykernel)",
   "language": "python",
   "name": "python3"
  },
  "language_info": {
   "codemirror_mode": {
    "name": "ipython",
    "version": 3
   },
   "file_extension": ".py",
   "mimetype": "text/x-python",
   "name": "python",
   "nbconvert_exporter": "python",
   "pygments_lexer": "ipython3",
   "version": "3.9.12"
  }
 },
 "nbformat": 4,
 "nbformat_minor": 5
}
