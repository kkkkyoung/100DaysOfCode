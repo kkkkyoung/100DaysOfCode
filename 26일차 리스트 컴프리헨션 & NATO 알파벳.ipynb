{
 "cells": [
  {
   "cell_type": "markdown",
   "id": "ceb939ef",
   "metadata": {},
   "source": [
    "# 리스트 comprehension "
   ]
  },
  {
   "cell_type": "code",
   "execution_count": 1,
   "id": "6de01364",
   "metadata": {},
   "outputs": [],
   "source": [
    "num = [1,2,3]\n",
    "new_num = [n+1 for n in num] "
   ]
  },
  {
   "cell_type": "code",
   "execution_count": 3,
   "id": "c9560616",
   "metadata": {},
   "outputs": [
    {
     "data": {
      "text/plain": [
       "[2, 3, 4]"
      ]
     },
     "execution_count": 3,
     "metadata": {},
     "output_type": "execute_result"
    }
   ],
   "source": [
    "new_num"
   ]
  },
  {
   "cell_type": "code",
   "execution_count": 6,
   "id": "c412aead",
   "metadata": {},
   "outputs": [
    {
     "data": {
      "text/plain": [
       "['efg', 'lmn']"
      ]
     },
     "execution_count": 6,
     "metadata": {},
     "output_type": "execute_result"
    }
   ],
   "source": [
    "names = ['abcd', 'efg', 'higk', 'lmn']\n",
    "short_names = [name for name in names if len(name)< 4]\n",
    "short_names"
   ]
  },
  {
   "cell_type": "code",
   "execution_count": 7,
   "id": "2303110b",
   "metadata": {},
   "outputs": [
    {
     "data": {
      "text/plain": [
       "['EFG', 'LMN']"
      ]
     },
     "execution_count": 7,
     "metadata": {},
     "output_type": "execute_result"
    }
   ],
   "source": [
    "names = ['abcd', 'efg', 'higk', 'lmn']\n",
    "short_names = [name.upper() for name in names if len(name)< 4]\n",
    "short_names"
   ]
  },
  {
   "cell_type": "markdown",
   "id": "0cda5930",
   "metadata": {},
   "source": [
    "# 딕셔너리 comprehension "
   ]
  },
  {
   "cell_type": "code",
   "execution_count": 13,
   "id": "2ee44ecd",
   "metadata": {},
   "outputs": [
    {
     "data": {
      "text/plain": [
       "{'abcd': 30, 'efg': 61, 'higk': 62, 'lmn': 50}"
      ]
     },
     "execution_count": 13,
     "metadata": {},
     "output_type": "execute_result"
    }
   ],
   "source": [
    "import random\n",
    "names = ['abcd', 'efg', 'higk', 'lmn']\n",
    "scores = {student:random.randint(1,100) for student in names}\n",
    "scores"
   ]
  },
  {
   "cell_type": "code",
   "execution_count": 14,
   "id": "70f62b36",
   "metadata": {},
   "outputs": [
    {
     "data": {
      "text/plain": [
       "{'efg': 61, 'higk': 62}"
      ]
     },
     "execution_count": 14,
     "metadata": {},
     "output_type": "execute_result"
    }
   ],
   "source": [
    "new_scores = {student:score for (student, score) in scores.items() if score >= 60}\n",
    "new_scores"
   ]
  },
  {
   "cell_type": "code",
   "execution_count": 20,
   "id": "c9129182",
   "metadata": {},
   "outputs": [
    {
     "data": {
      "text/plain": [
       "{'what': 4,\n",
       " 'is': 2,\n",
       " 'airspeed': 8,\n",
       " 'velocity': 8,\n",
       " 'of': 2,\n",
       " 'an': 2,\n",
       " 'Unladen': 7,\n",
       " 'Swallow?': 8}"
      ]
     },
     "execution_count": 20,
     "metadata": {},
     "output_type": "execute_result"
    }
   ],
   "source": [
    "sentence = \"what is airspeed velocity of an Unladen Swallow?\"\n",
    "result = {word:len(word) for word in sentence.split()}\n",
    "result"
   ]
  },
  {
   "cell_type": "code",
   "execution_count": 19,
   "id": "f25fa22c",
   "metadata": {},
   "outputs": [
    {
     "data": {
      "text/plain": [
       "{'Monday': 140,\n",
       " 'Tuesday': 158,\n",
       " 'Wednesday': 167,\n",
       " 'Thursday': 158,\n",
       " 'Friday': 221,\n",
       " 'Saturday': 230,\n",
       " 'Sunday': 248}"
      ]
     },
     "execution_count": 19,
     "metadata": {},
     "output_type": "execute_result"
    }
   ],
   "source": [
    "weather_c = {\n",
    "    \"Monday\": 12,\n",
    "    \"Tuesday\": 14,\n",
    "    \"Wednesday\": 15,\n",
    "    \"Thursday\": 14,\n",
    "    \"Friday\": 21,\n",
    "    \"Saturday\": 22,\n",
    "    \"Sunday\": 24,\n",
    "}\n",
    "\n",
    "weather_f = {day:(temp_c *9)+32 for (day, temp_c) in weather_c.items()}\n",
    "weather_f"
   ]
  },
  {
   "cell_type": "code",
   "execution_count": 26,
   "id": "68e772d5",
   "metadata": {},
   "outputs": [
    {
     "name": "stdout",
     "output_type": "stream",
     "text": [
      "['abcd', 'efg', 'lmn']\n",
      "[56, 76, 89]\n"
     ]
    }
   ],
   "source": [
    "student_dict = {\n",
    "    \"student\" : ['abcd', 'efg', 'lmn'],\n",
    "    \"score\" : [56, 76, 89]\n",
    "}\n",
    "for (key, value) in student_dict.items():\n",
    "    print(value)\n",
    "   # print(key)"
   ]
  },
  {
   "cell_type": "markdown",
   "id": "19674b3d",
   "metadata": {},
   "source": [
    "# 데이터프레임에서 반복하는 방법"
   ]
  },
  {
   "cell_type": "code",
   "execution_count": 27,
   "id": "e43ab87c",
   "metadata": {},
   "outputs": [
    {
     "data": {
      "text/html": [
       "<div>\n",
       "<style scoped>\n",
       "    .dataframe tbody tr th:only-of-type {\n",
       "        vertical-align: middle;\n",
       "    }\n",
       "\n",
       "    .dataframe tbody tr th {\n",
       "        vertical-align: top;\n",
       "    }\n",
       "\n",
       "    .dataframe thead th {\n",
       "        text-align: right;\n",
       "    }\n",
       "</style>\n",
       "<table border=\"1\" class=\"dataframe\">\n",
       "  <thead>\n",
       "    <tr style=\"text-align: right;\">\n",
       "      <th></th>\n",
       "      <th>student</th>\n",
       "      <th>score</th>\n",
       "    </tr>\n",
       "  </thead>\n",
       "  <tbody>\n",
       "    <tr>\n",
       "      <th>0</th>\n",
       "      <td>abcd</td>\n",
       "      <td>56</td>\n",
       "    </tr>\n",
       "    <tr>\n",
       "      <th>1</th>\n",
       "      <td>efg</td>\n",
       "      <td>76</td>\n",
       "    </tr>\n",
       "    <tr>\n",
       "      <th>2</th>\n",
       "      <td>lmn</td>\n",
       "      <td>89</td>\n",
       "    </tr>\n",
       "  </tbody>\n",
       "</table>\n",
       "</div>"
      ],
      "text/plain": [
       "  student  score\n",
       "0    abcd     56\n",
       "1     efg     76\n",
       "2     lmn     89"
      ]
     },
     "execution_count": 27,
     "metadata": {},
     "output_type": "execute_result"
    }
   ],
   "source": [
    "import pandas as pd\n",
    "\n",
    "student_dict = {\n",
    "    \"student\" : ['abcd', 'efg', 'lmn'],\n",
    "    \"score\" : [56, 76, 89]\n",
    "}\n",
    "df = pd.DataFrame(student_dict)\n",
    "df"
   ]
  },
  {
   "cell_type": "code",
   "execution_count": 30,
   "id": "08f6eea4",
   "metadata": {},
   "outputs": [
    {
     "name": "stdout",
     "output_type": "stream",
     "text": [
      "0\n",
      "1\n",
      "2\n"
     ]
    }
   ],
   "source": [
    "for (index, row) in df.iterrows():\n",
    "    print(index)"
   ]
  },
  {
   "cell_type": "code",
   "execution_count": 28,
   "id": "082ed9bf",
   "metadata": {
    "scrolled": true
   },
   "outputs": [
    {
     "name": "stdout",
     "output_type": "stream",
     "text": [
      "student    abcd\n",
      "score        56\n",
      "Name: 0, dtype: object\n",
      "student    efg\n",
      "score       76\n",
      "Name: 1, dtype: object\n",
      "student    lmn\n",
      "score       89\n",
      "Name: 2, dtype: object\n"
     ]
    }
   ],
   "source": [
    "for (index, row) in df.iterrows():\n",
    "    print(row)"
   ]
  },
  {
   "cell_type": "code",
   "execution_count": 31,
   "id": "1b17fe04",
   "metadata": {},
   "outputs": [
    {
     "name": "stdout",
     "output_type": "stream",
     "text": [
      "abcd\n",
      "efg\n",
      "lmn\n"
     ]
    }
   ],
   "source": [
    "for (index, row) in df.iterrows():\n",
    "    print(row.student)"
   ]
  },
  {
   "cell_type": "code",
   "execution_count": 33,
   "id": "107c7eef",
   "metadata": {},
   "outputs": [
    {
     "name": "stdout",
     "output_type": "stream",
     "text": [
      "56\n"
     ]
    }
   ],
   "source": [
    "for (index, row) in df.iterrows():\n",
    "    if row.student == \"abcd\":\n",
    "        print(row.score)"
   ]
  },
  {
   "cell_type": "code",
   "execution_count": 32,
   "id": "758a19b3",
   "metadata": {},
   "outputs": [
    {
     "name": "stdout",
     "output_type": "stream",
     "text": [
      "56\n",
      "76\n",
      "89\n"
     ]
    }
   ],
   "source": [
    "for (index, row) in df.iterrows():\n",
    "    print(row.score)"
   ]
  },
  {
   "cell_type": "markdown",
   "id": "1cbb1881",
   "metadata": {},
   "source": [
    "# NATO 알파벳"
   ]
  },
  {
   "cell_type": "code",
   "execution_count": 39,
   "id": "bc4a1771",
   "metadata": {
    "scrolled": true
   },
   "outputs": [
    {
     "data": {
      "text/html": [
       "<div>\n",
       "<style scoped>\n",
       "    .dataframe tbody tr th:only-of-type {\n",
       "        vertical-align: middle;\n",
       "    }\n",
       "\n",
       "    .dataframe tbody tr th {\n",
       "        vertical-align: top;\n",
       "    }\n",
       "\n",
       "    .dataframe thead th {\n",
       "        text-align: right;\n",
       "    }\n",
       "</style>\n",
       "<table border=\"1\" class=\"dataframe\">\n",
       "  <thead>\n",
       "    <tr style=\"text-align: right;\">\n",
       "      <th></th>\n",
       "      <th>letter</th>\n",
       "      <th>code</th>\n",
       "    </tr>\n",
       "  </thead>\n",
       "  <tbody>\n",
       "    <tr>\n",
       "      <th>0</th>\n",
       "      <td>A</td>\n",
       "      <td>Alfa</td>\n",
       "    </tr>\n",
       "    <tr>\n",
       "      <th>1</th>\n",
       "      <td>B</td>\n",
       "      <td>Bravo</td>\n",
       "    </tr>\n",
       "    <tr>\n",
       "      <th>2</th>\n",
       "      <td>C</td>\n",
       "      <td>Charlie</td>\n",
       "    </tr>\n",
       "    <tr>\n",
       "      <th>3</th>\n",
       "      <td>D</td>\n",
       "      <td>Delta</td>\n",
       "    </tr>\n",
       "    <tr>\n",
       "      <th>4</th>\n",
       "      <td>E</td>\n",
       "      <td>Echo</td>\n",
       "    </tr>\n",
       "    <tr>\n",
       "      <th>5</th>\n",
       "      <td>F</td>\n",
       "      <td>Foxtrot</td>\n",
       "    </tr>\n",
       "    <tr>\n",
       "      <th>6</th>\n",
       "      <td>G</td>\n",
       "      <td>Golf</td>\n",
       "    </tr>\n",
       "    <tr>\n",
       "      <th>7</th>\n",
       "      <td>H</td>\n",
       "      <td>Hotel</td>\n",
       "    </tr>\n",
       "    <tr>\n",
       "      <th>8</th>\n",
       "      <td>I</td>\n",
       "      <td>India</td>\n",
       "    </tr>\n",
       "    <tr>\n",
       "      <th>9</th>\n",
       "      <td>J</td>\n",
       "      <td>Juliet</td>\n",
       "    </tr>\n",
       "    <tr>\n",
       "      <th>10</th>\n",
       "      <td>K</td>\n",
       "      <td>Kilo</td>\n",
       "    </tr>\n",
       "    <tr>\n",
       "      <th>11</th>\n",
       "      <td>L</td>\n",
       "      <td>Lima</td>\n",
       "    </tr>\n",
       "    <tr>\n",
       "      <th>12</th>\n",
       "      <td>M</td>\n",
       "      <td>Mike</td>\n",
       "    </tr>\n",
       "    <tr>\n",
       "      <th>13</th>\n",
       "      <td>N</td>\n",
       "      <td>November</td>\n",
       "    </tr>\n",
       "    <tr>\n",
       "      <th>14</th>\n",
       "      <td>O</td>\n",
       "      <td>Oscar</td>\n",
       "    </tr>\n",
       "    <tr>\n",
       "      <th>15</th>\n",
       "      <td>P</td>\n",
       "      <td>Papa</td>\n",
       "    </tr>\n",
       "    <tr>\n",
       "      <th>16</th>\n",
       "      <td>Q</td>\n",
       "      <td>Quebec</td>\n",
       "    </tr>\n",
       "    <tr>\n",
       "      <th>17</th>\n",
       "      <td>R</td>\n",
       "      <td>Romeo</td>\n",
       "    </tr>\n",
       "    <tr>\n",
       "      <th>18</th>\n",
       "      <td>S</td>\n",
       "      <td>Sierra</td>\n",
       "    </tr>\n",
       "    <tr>\n",
       "      <th>19</th>\n",
       "      <td>T</td>\n",
       "      <td>Tango</td>\n",
       "    </tr>\n",
       "    <tr>\n",
       "      <th>20</th>\n",
       "      <td>U</td>\n",
       "      <td>Uniform</td>\n",
       "    </tr>\n",
       "    <tr>\n",
       "      <th>21</th>\n",
       "      <td>V</td>\n",
       "      <td>Victor</td>\n",
       "    </tr>\n",
       "    <tr>\n",
       "      <th>22</th>\n",
       "      <td>W</td>\n",
       "      <td>Whiskey</td>\n",
       "    </tr>\n",
       "    <tr>\n",
       "      <th>23</th>\n",
       "      <td>X</td>\n",
       "      <td>X-ray</td>\n",
       "    </tr>\n",
       "    <tr>\n",
       "      <th>24</th>\n",
       "      <td>Y</td>\n",
       "      <td>Yankee</td>\n",
       "    </tr>\n",
       "    <tr>\n",
       "      <th>25</th>\n",
       "      <td>Z</td>\n",
       "      <td>Zulu</td>\n",
       "    </tr>\n",
       "  </tbody>\n",
       "</table>\n",
       "</div>"
      ],
      "text/plain": [
       "   letter      code\n",
       "0       A      Alfa\n",
       "1       B     Bravo\n",
       "2       C   Charlie\n",
       "3       D     Delta\n",
       "4       E      Echo\n",
       "5       F   Foxtrot\n",
       "6       G      Golf\n",
       "7       H     Hotel\n",
       "8       I     India\n",
       "9       J    Juliet\n",
       "10      K      Kilo\n",
       "11      L      Lima\n",
       "12      M      Mike\n",
       "13      N  November\n",
       "14      O     Oscar\n",
       "15      P      Papa\n",
       "16      Q    Quebec\n",
       "17      R     Romeo\n",
       "18      S    Sierra\n",
       "19      T     Tango\n",
       "20      U   Uniform\n",
       "21      V    Victor\n",
       "22      W   Whiskey\n",
       "23      X     X-ray\n",
       "24      Y    Yankee\n",
       "25      Z      Zulu"
      ]
     },
     "execution_count": 39,
     "metadata": {},
     "output_type": "execute_result"
    }
   ],
   "source": [
    "import pandas as pd\n",
    "data = pd.read_csv(\"nato_phonetic_alphabet_26.csv\")\n",
    "# data.to_dict()\n",
    "df = pd.DataFrame(data)\n",
    "df"
   ]
  },
  {
   "cell_type": "code",
   "execution_count": 41,
   "id": "299ad883",
   "metadata": {
    "scrolled": true
   },
   "outputs": [
    {
     "data": {
      "text/plain": [
       "{'A': 'Alfa',\n",
       " 'B': 'Bravo',\n",
       " 'C': 'Charlie',\n",
       " 'D': 'Delta',\n",
       " 'E': 'Echo',\n",
       " 'F': 'Foxtrot',\n",
       " 'G': 'Golf',\n",
       " 'H': 'Hotel',\n",
       " 'I': 'India',\n",
       " 'J': 'Juliet',\n",
       " 'K': 'Kilo',\n",
       " 'L': 'Lima',\n",
       " 'M': 'Mike',\n",
       " 'N': 'November',\n",
       " 'O': 'Oscar',\n",
       " 'P': 'Papa',\n",
       " 'Q': 'Quebec',\n",
       " 'R': 'Romeo',\n",
       " 'S': 'Sierra',\n",
       " 'T': 'Tango',\n",
       " 'U': 'Uniform',\n",
       " 'V': 'Victor',\n",
       " 'W': 'Whiskey',\n",
       " 'X': 'X-ray',\n",
       " 'Y': 'Yankee',\n",
       " 'Z': 'Zulu'}"
      ]
     },
     "execution_count": 41,
     "metadata": {},
     "output_type": "execute_result"
    }
   ],
   "source": [
    "phonetic_dict= {row.letter : row.code for (index, row) in data.iterrows()}\n",
    "phonetic_dict"
   ]
  },
  {
   "cell_type": "code",
   "execution_count": 43,
   "id": "fccb7d32",
   "metadata": {},
   "outputs": [
    {
     "name": "stdout",
     "output_type": "stream",
     "text": [
      "Enter a word: cat\n"
     ]
    },
    {
     "data": {
      "text/plain": [
       "['Charlie', 'Alfa', 'Tango']"
      ]
     },
     "execution_count": 43,
     "metadata": {},
     "output_type": "execute_result"
    }
   ],
   "source": [
    "word= input(\"Enter a word: \").upper()\n",
    "output_list = [phonetic_dict[letter] for letter in word]\n",
    "output_list"
   ]
  },
  {
   "cell_type": "code",
   "execution_count": null,
   "id": "724899a0",
   "metadata": {},
   "outputs": [],
   "source": []
  },
  {
   "cell_type": "code",
   "execution_count": null,
   "id": "4cee8678",
   "metadata": {},
   "outputs": [],
   "source": []
  }
 ],
 "metadata": {
  "kernelspec": {
   "display_name": "Python 3 (ipykernel)",
   "language": "python",
   "name": "python3"
  },
  "language_info": {
   "codemirror_mode": {
    "name": "ipython",
    "version": 3
   },
   "file_extension": ".py",
   "mimetype": "text/x-python",
   "name": "python",
   "nbconvert_exporter": "python",
   "pygments_lexer": "ipython3",
   "version": "3.9.12"
  }
 },
 "nbformat": 4,
 "nbformat_minor": 5
}
