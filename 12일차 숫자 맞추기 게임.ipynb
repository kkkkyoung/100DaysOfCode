{
 "cells": [
  {
   "cell_type": "markdown",
   "id": "dceed766",
   "metadata": {},
   "source": [
    "# #12일차"
   ]
  },
  {
   "cell_type": "code",
   "execution_count": 12,
   "id": "fc8360e3",
   "metadata": {},
   "outputs": [
    {
     "name": "stdout",
     "output_type": "stream",
     "text": [
      "\n",
      "   SSSSSSSSSSSSSSS TTTTTTTTTTTTTTTTTTTTTTT         AAA               RRRRRRRRRRRRRRRRR   TTTTTTTTTTTTTTTTTTTTTTT\n",
      " SS:::::::::::::::ST:::::::::::::::::::::T        A:::A              R::::::::::::::::R  T:::::::::::::::::::::T\n",
      "S:::::SSSSSS::::::ST:::::::::::::::::::::T       A:::::A             R::::::RRRRRR:::::R T:::::::::::::::::::::T\n",
      "S:::::S     SSSSSSST:::::TT:::::::TT:::::T      A:::::::A            RR:::::R     R:::::RT:::::TT:::::::TT:::::T\n",
      "S:::::S            TTTTTT  T:::::T  TTTTTT     A:::::::::A             R::::R     R:::::RTTTTTT  T:::::T  TTTTTT\n",
      "S:::::S                    T:::::T            A:::::A:::::A            R::::R     R:::::R        T:::::T        \n",
      " S::::SSSS                 T:::::T           A:::::A A:::::A           R::::RRRRRR:::::R         T:::::T        \n",
      "  SS::::::SSSSS            T:::::T          A:::::A   A:::::A          R:::::::::::::RR          T:::::T        \n",
      "    SSS::::::::SS          T:::::T         A:::::A     A:::::A         R::::RRRRRR:::::R         T:::::T        \n",
      "       SSSSSS::::S         T:::::T        A:::::AAAAAAAAA:::::A        R::::R     R:::::R        T:::::T        \n",
      "            S:::::S        T:::::T       A:::::::::::::::::::::A       R::::R     R:::::R        T:::::T        \n",
      "            S:::::S        T:::::T      A:::::AAAAAAAAAAAAA:::::A      R::::R     R:::::R        T:::::T        \n",
      "SSSSSSS     S:::::S      TT:::::::TT   A:::::A             A:::::A   RR:::::R     R:::::R      TT:::::::TT      \n",
      "S::::::SSSSSS:::::S      T:::::::::T  A:::::A               A:::::A  R::::::R     R:::::R      T:::::::::T      \n",
      "S:::::::::::::::SS       T:::::::::T A:::::A                 A:::::A R::::::R     R:::::R      T:::::::::T      \n",
      " SSSSSSSSSSSSSSS         TTTTTTTTTTTAAAAAAA                   AAAAAAARRRRRRRR     RRRRRRR      TTTTTTTTTTT      \n",
      "                                                                                                            \n",
      "숫자 맞추기 게임에 어서오세요~\n",
      "1 ~ 100 사이의 숫자를 맞춰보세요!\n",
      "난이도를 선택하세요. 'easy' or 'hard'hard\n",
      "남은 기회는 5번 입니다.\n",
      "숫자는 몇일까요? 50\n",
      "Too high!\n",
      "다시 추측해 보세요~\n",
      "남은 기회는 4번 입니다.\n",
      "숫자는 몇일까요? 30\n",
      "Too high!\n",
      "다시 추측해 보세요~\n",
      "남은 기회는 3번 입니다.\n",
      "숫자는 몇일까요? 15\n",
      "Too low!\n",
      "다시 추측해 보세요~\n",
      "남은 기회는 2번 입니다.\n",
      "숫자는 몇일까요? 20\n",
      "해냈군요! 정답은 20 입니다!!!\n"
     ]
    }
   ],
   "source": [
    "from random import randint\n",
    "from start_logo import logo\n",
    "\n",
    "answer = randint(1,100)\n",
    "\n",
    "def check_answer(guess, answer, turns):\n",
    "    \"\"\"정답을 확인하고 남은 정답 횟수를 반환\"\"\"\n",
    "    if guess > answer:\n",
    "        print(\"Too high!\")\n",
    "        return turns-1\n",
    "    elif guess < answer:\n",
    "        print(\"Too low!\")\n",
    "        return turns-1\n",
    "    else:\n",
    "        print(f\"해냈군요! 정답은 {answer} 입니다!!!\")\n",
    "        \n",
    "Easy_level_turns = 10\n",
    "Hard_level_turns = 5\n",
    "\n",
    "def set_difficulty():\n",
    "    level = input(\"난이도를 선택하세요. 'easy' or 'hard'\")\n",
    "    if level == \"easy\":\n",
    "        return Easy_level_turns\n",
    "    else :\n",
    "        return Hard_level_turns\n",
    "        \n",
    "def game():\n",
    "    print(logo)\n",
    "    print(\"숫자 맞추기 게임에 어서오세요~\")\n",
    "    print(\"1 ~ 100 사이의 숫자를 맞춰보세요!\")\n",
    "    turns = set_difficulty()\n",
    "   \n",
    "    guess = 0\n",
    "    while guess != answer:\n",
    "        print(f\"남은 기회는 {turns}번 입니다.\")\n",
    "        guess = int(input(\"숫자는 몇일까요? \"))\n",
    "        turns = check_answer(guess, answer, turns)\n",
    "        if turns == 0:\n",
    "            print(\"남은 횟수가 없으므로 you loss!!\")\n",
    "            return\n",
    "        elif guess != answer:\n",
    "            print(\"다시 추측해 보세요~\")\n",
    "\n",
    "game()"
   ]
  }
 ],
 "metadata": {
  "kernelspec": {
   "display_name": "Python 3 (ipykernel)",
   "language": "python",
   "name": "python3"
  },
  "language_info": {
   "codemirror_mode": {
    "name": "ipython",
    "version": 3
   },
   "file_extension": ".py",
   "mimetype": "text/x-python",
   "name": "python",
   "nbconvert_exporter": "python",
   "pygments_lexer": "ipython3",
   "version": "3.9.12"
  }
 },
 "nbformat": 4,
 "nbformat_minor": 5
}
