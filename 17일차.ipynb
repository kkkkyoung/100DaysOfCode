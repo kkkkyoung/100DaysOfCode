{
 "cells": [
  {
   "cell_type": "markdown",
   "id": "30118cf1",
   "metadata": {},
   "source": [
    "### class 공부"
   ]
  },
  {
   "cell_type": "code",
   "execution_count": 18,
   "id": "bb4761c1",
   "metadata": {},
   "outputs": [
    {
     "name": "stdout",
     "output_type": "stream",
     "text": [
      "angela\n"
     ]
    }
   ],
   "source": [
    "class User:\n",
    "    pass\n",
    "\n",
    "user1 = User()\n",
    "\n",
    "# 속성추가\n",
    "user1.id = \"001\"\n",
    "user1.username = \"angela\"\n",
    "\n",
    "print(user1.username)"
   ]
  },
  {
   "cell_type": "code",
   "execution_count": 19,
   "id": "107f087d",
   "metadata": {},
   "outputs": [
    {
     "name": "stdout",
     "output_type": "stream",
     "text": [
      "__init__이 있으면 객체를 생성할 때마다 실행\n",
      "angela\n",
      "__init__이 있으면 객체를 생성할 때마다 실행\n"
     ]
    },
    {
     "data": {
      "text/plain": [
       "'jack'"
      ]
     },
     "execution_count": 19,
     "metadata": {},
     "output_type": "execute_result"
    }
   ],
   "source": [
    "class User:\n",
    "    def __init__(self):\n",
    "        print(\"__init__이 있으면 객체를 생성할 때마다 실행\")\n",
    "\n",
    "user1 = User()\n",
    "user1.id = \"001\"\n",
    "user1.username = \"angela\"\n",
    " \n",
    "print(user1.username) # User1번 실행\n",
    "\n",
    "user2 = User()\n",
    "user2.id = \"002\"\n",
    "user2.username = \"jack\"\n",
    "\n",
    "user2.username # User 2번 실행"
   ]
  },
  {
   "cell_type": "code",
   "execution_count": 20,
   "id": "429b15c6",
   "metadata": {},
   "outputs": [
    {
     "name": "stdout",
     "output_type": "stream",
     "text": [
      "001\n",
      "002\n",
      "0\n"
     ]
    }
   ],
   "source": [
    "class User:\n",
    "    def __init__(self, user_id, username):\n",
    "        self.id = user_id\n",
    "        self.username = username\n",
    "        self.followers = 0  # 기본값 설정 (매개변수x)\n",
    "\n",
    "user1 = User(\"001\", \"angela\")\n",
    "print(user1.id)\n",
    "\n",
    "user2 = User(\"002\",\"jack\")\n",
    "print(user2.id)\n",
    "\n",
    "print(user2.followers)"
   ]
  },
  {
   "cell_type": "code",
   "execution_count": 21,
   "id": "6725df8c",
   "metadata": {},
   "outputs": [
    {
     "name": "stdout",
     "output_type": "stream",
     "text": [
      "0\n",
      "1\n",
      "1\n",
      "0\n"
     ]
    }
   ],
   "source": [
    "class User:\n",
    "    def __init__(self, user_id, username):\n",
    "        self.id = user_id\n",
    "        self.username = username\n",
    "        self.followers = 0 \n",
    "        self.following = 0\n",
    "    \n",
    "    def follow(self, user): # 메소드는 함수와 달리 첫 매개변수로 self가 있어야 함\n",
    "        user.followers += 1\n",
    "        self.following += 1\n",
    "        \n",
    "\n",
    "user1 = User(\"001\", \"angela\")\n",
    "user2 = User(\"002\",\"jack\")\n",
    "\n",
    "user1.follow(user2)  # user1이 user2 팔로잉\n",
    "print(user1.followers) # 팔로워수는 0\n",
    "print(user1.following) # 팔로잉수는 1\n",
    "\n",
    "print(user2.followers) # user1이 팔로잉 했으므로 1\n",
    "print(user2.following) # 팔로잉 한 사람이 없으므로 0"
   ]
  },
  {
   "cell_type": "markdown",
   "id": "c7c3fe51",
   "metadata": {},
   "source": [
    "# 1. 퀴즈게임 만들기"
   ]
  },
  {
   "cell_type": "code",
   "execution_count": 9,
   "id": "6d3bceeb",
   "metadata": {},
   "outputs": [],
   "source": [
    "from question_model_17 import Qusetion\n",
    "from data_17 import question_data\n",
    "from quiz_brain_17 import QuizBrain"
   ]
  },
  {
   "cell_type": "code",
   "execution_count": 10,
   "id": "8c380657",
   "metadata": {},
   "outputs": [
    {
     "name": "stdout",
     "output_type": "stream",
     "text": [
      "Q.1 : A slug's blood is green. (True / False) : false\n",
      "틀렸습니다...\n",
      "정답 :True\n",
      "당신의 점수 : 0/1\n",
      "Q.2 : The loudest animal is the African Elephant. (True / False) : true\n",
      "틀렸습니다...\n",
      "정답 :False\n",
      "당신의 점수 : 0/2\n",
      "Q.3 : Approximately one quarter of human bones are in the feet. (True / False) : true\n",
      "정답입니다!\n",
      "Q.4 : The total surface area of a human lungs is the size of a football pitch. (True / False) : true\n",
      "정답입니다!\n",
      "Q.5 : In West Virginia, USA, if you accidentally hit an animal with your car, you are free to take it home to eat. (True / False) : true\n",
      "정답입니다!\n",
      "Q.6 : In London, UK, if you happen to die in the House of Parliament, you are entitled to a state funeral. (True / False) : true\n",
      "틀렸습니다...\n",
      "정답 :False\n",
      "당신의 점수 : 3/6\n",
      "Q.7 : It is illegal to pee in the Ocean in Portugal. (True / False) : true\n",
      "정답입니다!\n",
      "Q.8 : You can lead a cow down stairs but not up stairs. (True / False) : true\n",
      "틀렸습니다...\n",
      "정답 :False\n",
      "당신의 점수 : 4/8\n",
      "Q.9 : Google was originally called 'Backrub'. (True / False) : true\n",
      "정답입니다!\n",
      "Q.10 : Buzz Aldrin's mother's maiden name was 'Moon'. (True / False) : true\n",
      "정답입니다!\n",
      "Q.11 : No piece of square dry paper can be folded in half more than 7 times. (True / False) : true\n",
      "틀렸습니다...\n",
      "정답 :False\n",
      "당신의 점수 : 6/11\n",
      "Q.12 : A few ounces of chocolate can to kill a small dog. (True / False) : true\n",
      "정답입니다!\n",
      "퀴즈를 모두 끝냈습니다!\n",
      "당신의 점수 : 7/12\n"
     ]
    }
   ],
   "source": [
    "question_bank = []\n",
    "\n",
    "for question in question_data:\n",
    "    question_text = question[\"text\"]\n",
    "    question_answer = question[\"answer\"]\n",
    "    new_question = Qusetion(question_text, question_answer)\n",
    "    question_bank.append(new_question)\n",
    "\n",
    "quiz = QuizBrain(question_bank)\n",
    "\n",
    "while quiz.still_has_question():\n",
    "    quiz.next_question()\n",
    "\n",
    "print(\"퀴즈를 모두 끝냈습니다!\")\n",
    "print(f\"당신의 점수 : {quiz.score}/{quiz.question_number}\")"
   ]
  },
  {
   "cell_type": "markdown",
   "id": "4c540a57",
   "metadata": {},
   "source": [
    "# 2. https://opentdb.com/ 를 이용한 퀴즈게임 만들기"
   ]
  },
  {
   "attachments": {
    "image.png": {
     "image/png": "[encoded data removed]"
    }
   },
   "cell_type": "markdown",
   "id": "e19070a5",
   "metadata": {},
   "source": [
    "#### api : https://opentdb.com/api.php?amount=10&difficulty=easy&type=boolean\n",
    "![image.png](attachment:image.png)"
   ]
  },
  {
   "cell_type": "code",
   "execution_count": 15,
   "id": "9d6516d0",
   "metadata": {},
   "outputs": [],
   "source": [
    "from question_model_17 import Qusetion\n",
    "from data2_17 import question_data\n",
    "from quiz_brain2_17 import QuizBrain"
   ]
  },
  {
   "cell_type": "code",
   "execution_count": 17,
   "id": "bfc79a2f",
   "metadata": {},
   "outputs": [
    {
     "name": "stdout",
     "output_type": "stream",
     "text": [
      "Q.1 : The &#039;Squaring the Circle&#039; problem is solvable. (True / False) : true\n",
      "틀렸습니다...\n",
      "정답 :False\n",
      "당신의 점수 : 0/1\n",
      "\n",
      "\n",
      "Q.2 : You can legally drink alcohol while driving in Mississippi. (True / False) : true\n",
      "정답입니다!\n",
      "당신의 점수 : 1/2\n",
      "\n",
      "\n",
      "Q.3 : No Game No Life first aired in 2014. (True / False) : true\n",
      "정답입니다!\n",
      "당신의 점수 : 2/3\n",
      "\n",
      "\n",
      "Q.4 : In the &quot;Toaru Kagaku no Railgun&quot; anime,  espers can only reach a maximum of level 6 in their abilities. (True / False) : false\n",
      "정답입니다!\n",
      "당신의 점수 : 3/4\n",
      "\n",
      "\n",
      "Q.5 : In the movie The Revenant, DiCaprio&#039;s character hunts down the killer of his son. (True / False) : false\n",
      "틀렸습니다...\n",
      "정답 :True\n",
      "당신의 점수 : 3/5\n",
      "\n",
      "\n",
      "Q.6 : Adolf Hitler was tried at the Nuremberg trials. (True / False) : true\n",
      "틀렸습니다...\n",
      "정답 :False\n",
      "당신의 점수 : 3/6\n",
      "\n",
      "\n",
      "Q.7 : In Rugby League, performing a &quot;40-20&quot; is punished by a free kick for the opposing team. (True / False) : true\n",
      "틀렸습니다...\n",
      "정답 :False\n",
      "당신의 점수 : 3/7\n",
      "\n",
      "\n",
      "Q.8 : Thomas Crapper was a plumber who invented the flushing toilet. (True / False) : true\n",
      "틀렸습니다...\n",
      "정답 :False\n",
      "당신의 점수 : 3/8\n",
      "\n",
      "\n",
      "Q.9 : BMW M GmbH is a subsidiary of BMW AG that focuses on car performance. (True / False) : true\n",
      "정답입니다!\n",
      "당신의 점수 : 4/9\n",
      "\n",
      "\n",
      "Q.10 : An equilateral triangle always has every angle measuring 60&deg;. (True / False) : true\n",
      "정답입니다!\n",
      "당신의 점수 : 5/10\n",
      "\n",
      "\n",
      "퀴즈를 모두 끝냈습니다!\n",
      "당신의 점수 : 5/10\n"
     ]
    }
   ],
   "source": [
    "question_bank = []\n",
    "\n",
    "for question in question_data:\n",
    "    question_text = question[\"question\"]\n",
    "    question_answer = question[\"correct_answer\"]\n",
    "    new_question = Qusetion(question_text, question_answer)\n",
    "    question_bank.append(new_question)\n",
    "\n",
    "quiz = QuizBrain(question_bank)\n",
    "\n",
    "while quiz.still_has_question():\n",
    "    quiz.next_question()\n",
    "\n",
    "print(\"퀴즈를 모두 끝냈습니다!\")\n",
    "print(f\"당신의 점수 : {quiz.score}/{quiz.question_number}\")"
   ]
  }
 ],
 "metadata": {
  "kernelspec": {
   "display_name": "Python 3 (ipykernel)",
   "language": "python",
   "name": "python3"
  },
  "language_info": {
   "codemirror_mode": {
    "name": "ipython",
    "version": 3
   },
   "file_extension": ".py",
   "mimetype": "text/x-python",
   "name": "python",
   "nbconvert_exporter": "python",
   "pygments_lexer": "ipython3",
   "version": "3.9.12"
  }
 },
 "nbformat": 4,
 "nbformat_minor": 5
}
