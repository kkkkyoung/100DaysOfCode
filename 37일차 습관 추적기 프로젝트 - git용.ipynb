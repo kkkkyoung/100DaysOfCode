{
 "cells": [
  {
   "cell_type": "markdown",
   "id": "4ac4ef53",
   "metadata": {},
   "source": [
    "# HTTP Requests\n",
    "- get() : 특정 데이터를 받는것\n",
    "- post() : 데이터를 보내서 저장\n",
    "- put() : 기존데이터 업데이트\n",
    "- delete() : 데이터 삭제"
   ]
  },
  {
   "cell_type": "markdown",
   "id": "2a3796ff",
   "metadata": {},
   "source": [
    "- https://pixe.la/\n",
    "- https://docs.pixe.la/\n",
    "    "
   ]
  },
  {
   "cell_type": "markdown",
   "id": "d84b1446",
   "metadata": {},
   "source": [
    "# 1. 계정만들기"
   ]
  },
  {
   "cell_type": "code",
   "execution_count": 6,
   "id": "d30a7ffb",
   "metadata": {},
   "outputs": [
    {
     "name": "stdout",
     "output_type": "stream",
     "text": [
      "{\"message\":\"Success. Let's visit https://pixe.la/@ko , it is your profile page!\",\"isSuccess\":true}\n"
     ]
    }
   ],
   "source": [
    "import requests\n",
    "\n",
    "pixela_endpoint = \"https://pixe.la/v1/users\"\n",
    "user_parms = {\n",
    "    \"token\":\"my_token\",\n",
    "    \"username\":\"ko\",\n",
    "    \"agreeTermsOfService\":\"yes\",\n",
    "    \"notMinor\":\"yes\"\n",
    "}\n",
    "\n",
    "response = requests.post(url=pixela_endpoint, json=user_parms) \n",
    "print(response.text)"
   ]
  },
  {
   "cell_type": "markdown",
   "id": "eab4b2eb",
   "metadata": {},
   "source": [
    "# 2. 새 그래프 생성"
   ]
  },
  {
   "cell_type": "code",
   "execution_count": 10,
   "id": "0add84f3",
   "metadata": {},
   "outputs": [
    {
     "name": "stdout",
     "output_type": "stream",
     "text": [
      "{\"message\":\"Success.\",\"isSuccess\":true}\n"
     ]
    }
   ],
   "source": [
    "import requests\n",
    "\n",
    "USERNAME = \"ko\"\n",
    "TOKEN = \"my_token\"\n",
    "\n",
    "pixela_endpoint = \"https://pixe.la/v1/users\"\n",
    "user_parms = {\n",
    "    \"token\":TOKEN,\n",
    "    \"username\":USERNAME,\n",
    "    \"agreeTermsOfService\":\"yes\",\n",
    "    \"notMinor\":\"yes\"\n",
    "}\n",
    "\n",
    "graph_endpoint = f\"{pixela_endpoint}/{USERNAME}/graphs\"\n",
    "graph_config = {\n",
    "    \"id\":\"my_id\",\n",
    "    \"name\":\"Studying Graph\",\n",
    "    \"unit\":\"hours\",\n",
    "    \"type\":\"float\",\n",
    "    \"color\":\"ajisai\"\n",
    "}\n",
    "headers = {\n",
    "    \"X-USER-TOKEN\":TOKEN\n",
    "}\n",
    "response = requests.post(url=graph_endpoint, json=graph_config, headers=headers)\n",
    "print(response.text)"
   ]
  },
  {
   "cell_type": "markdown",
   "id": "b43dcb10",
   "metadata": {},
   "source": [
    "# 3. 픽셀 추가하기"
   ]
  },
  {
   "cell_type": "code",
   "execution_count": 11,
   "id": "39076085",
   "metadata": {},
   "outputs": [
    {
     "name": "stdout",
     "output_type": "stream",
     "text": [
      "{\"message\":\"Success.\",\"isSuccess\":true}\n"
     ]
    }
   ],
   "source": [
    "# (1)\n",
    "import requests\n",
    "\n",
    "USERNAME = \"ko\"\n",
    "TOKEN = \"my_token\"\n",
    "GRAPH_ID = \"my_id\"\n",
    "\n",
    "pixela_endpoint = \"https://pixe.la/v1/users\"\n",
    "user_parms = {\n",
    "    \"token\":TOKEN,\n",
    "    \"username\":USERNAME,\n",
    "    \"agreeTermsOfService\":\"yes\",\n",
    "    \"notMinor\":\"yes\"\n",
    "}\n",
    "\n",
    "graph_endpoint = f\"{pixela_endpoint}/{USERNAME}/graphs\"\n",
    "graph_config = {\n",
    "    \"id\":GRAPH_ID,\n",
    "    \"name\":\"Studying Graph\",\n",
    "    \"unit\":\"hours\",\n",
    "    \"type\":\"float\",\n",
    "    \"color\":\"ajisai\"\n",
    "}\n",
    "\n",
    "headers = {\n",
    "    \"X-USER-TOKEN\":TOKEN\n",
    "}\n",
    "\n",
    "pixel_creation_endpoint = f\"{pixela_endpoint}/{USERNAME}/graphs/{GRAPH_ID}\"\n",
    "pixel_data = {\n",
    "    \"date\": \"20221217\",\n",
    "    \"quantity\":\"4.4\",\n",
    "}\n",
    "response = requests.post(url=pixel_creation_endpoint, json=pixel_data, headers=headers)\n",
    "print(response.text)"
   ]
  },
  {
   "cell_type": "code",
   "execution_count": null,
   "id": "326cc2a5",
   "metadata": {},
   "outputs": [],
   "source": [
    "# (2)\n",
    "# datetime 쓰기\n",
    "import requests\n",
    "from datetime import datetime\n",
    "\n",
    "USERNAME = \"ko\"\n",
    "TOKEN = \"my_token\"\n",
    "GRAPH_ID = \"my_id\"\n",
    "\n",
    "pixela_endpoint = \"https://pixe.la/v1/users\"\n",
    "user_parms = {\n",
    "    \"token\":TOKEN,\n",
    "    \"username\":USERNAME,\n",
    "    \"agreeTermsOfService\":\"yes\",\n",
    "    \"notMinor\":\"yes\"\n",
    "}\n",
    "\n",
    "graph_endpoint = f\"{pixela_endpoint}/{USERNAME}/graphs\"\n",
    "graph_config = {\n",
    "    \"id\":GRAPH_ID,\n",
    "    \"name\":\"Studying Graph\",\n",
    "    \"unit\":\"hours\",\n",
    "    \"type\":\"float\",\n",
    "    \"color\":\"ajisai\"\n",
    "}\n",
    "\n",
    "headers = {\n",
    "    \"X-USER-TOKEN\":TOKEN\n",
    "}\n",
    "\n",
    "pixel_creation_endpoint = f\"{pixela_endpoint}/{USERNAME}/graphs/{GRAPH_ID}\"\n",
    "today = datetime.now()\n",
    "pixel_data = {\n",
    "    \"date\": today.strftime(\"%Y%m%d\"), # strftime 날짜형식 변경\n",
    "    \"quantity\":\"4.4\",\n",
    "}\n",
    "response = requests.post(url=pixel_creation_endpoint, json=pixel_data, headers=headers)\n",
    "print(response.text)"
   ]
  },
  {
   "cell_type": "code",
   "execution_count": 13,
   "id": "803c5d13",
   "metadata": {},
   "outputs": [
    {
     "name": "stdout",
     "output_type": "stream",
     "text": [
      "{\"message\":\"Please retry this request. Your request for some APIs will be rejected 25% of the time because you are not a Pixela supporter. If you are interested in being a Pixela supporter, please see: https://github.com/a-know/Pixela/wiki/How-to-support-Pixela-by-Patreon-%EF%BC%8F-Use-Limited-Features\",\"isSuccess\":false,\"isRejected\":true}\n"
     ]
    }
   ],
   "source": [
    "# (3)\n",
    "# 어제 날짜로 입력할때\n",
    "import requests\n",
    "from datetime import datetime\n",
    "\n",
    "USERNAME = \"ko\"\n",
    "TOKEN = \"my_token\"\n",
    "GRAPH_ID = \"my_id\"\n",
    "\n",
    "pixela_endpoint = \"https://pixe.la/v1/users\"\n",
    "user_parms = {\n",
    "    \"token\":TOKEN,\n",
    "    \"username\":USERNAME,\n",
    "    \"agreeTermsOfService\":\"yes\",\n",
    "    \"notMinor\":\"yes\"\n",
    "}\n",
    "\n",
    "graph_endpoint = f\"{pixela_endpoint}/{USERNAME}/graphs\"\n",
    "graph_config = {\n",
    "    \"id\":GRAPH_ID,\n",
    "    \"name\":\"Studying Graph\",\n",
    "    \"unit\":\"hours\",\n",
    "    \"type\":\"float\",\n",
    "    \"color\":\"ajisai\"\n",
    "}\n",
    "\n",
    "headers = {\n",
    "    \"X-USER-TOKEN\":TOKEN\n",
    "}\n",
    "\n",
    "pixel_creation_endpoint = f\"{pixela_endpoint}/{USERNAME}/graphs/{GRAPH_ID}\"\n",
    "\n",
    "today = datetime(year=2022, month=12, day=16)   # 날짜지정은 유료 회원만 가능\n",
    "pixel_data = {\n",
    "    \"date\": today.strftime(\"%Y%m%d\"), # strftime 날짜형식 변경\n",
    "    \"quantity\":\"8\",\n",
    "}\n",
    "response = requests.post(url=pixel_creation_endpoint, json=pixel_data, headers=headers)\n",
    "print(response.text)"
   ]
  },
  {
   "cell_type": "markdown",
   "id": "3b949344",
   "metadata": {},
   "source": [
    "# 4. 픽셀 업데이트(put)"
   ]
  },
  {
   "cell_type": "code",
   "execution_count": 14,
   "id": "381fcaf7",
   "metadata": {},
   "outputs": [
    {
     "name": "stdout",
     "output_type": "stream",
     "text": [
      "{\"message\":\"Success.\",\"isSuccess\":true}\n"
     ]
    }
   ],
   "source": [
    "import requests\n",
    "from datetime import datetime\n",
    "\n",
    "USERNAME = \"ko\"\n",
    "TOKEN = \"my_token\"\n",
    "GRAPH_ID = \"my_id\"\n",
    "\n",
    "pixela_endpoint = \"https://pixe.la/v1/users\"\n",
    "user_parms = {\n",
    "    \"token\":TOKEN,\n",
    "    \"username\":USERNAME,\n",
    "    \"agreeTermsOfService\":\"yes\",\n",
    "    \"notMinor\":\"yes\"\n",
    "}\n",
    "\n",
    "graph_endpoint = f\"{pixela_endpoint}/{USERNAME}/graphs\"\n",
    "graph_config = {\n",
    "    \"id\":GRAPH_ID,\n",
    "    \"name\":\"Studying Graph\",\n",
    "    \"unit\":\"hours\",\n",
    "    \"type\":\"float\",\n",
    "    \"color\":\"ajisai\"\n",
    "}\n",
    "\n",
    "headers = {\n",
    "    \"X-USER-TOKEN\":TOKEN\n",
    "}\n",
    "\n",
    "pixel_creation_endpoint = f\"{pixela_endpoint}/{USERNAME}/graphs/{GRAPH_ID}\"\n",
    "\n",
    "today = datetime.now()\n",
    "pixel_data = {\n",
    "    \"date\": today.strftime(\"%Y%m%d\"), # strftime 날짜형식 변경\n",
    "    \"quantity\":\"4.4\",\n",
    "}\n",
    "\n",
    "update_endpoint = f\"{pixel_creation_endpoint}/{today.strftime('%Y%m%d')}\"\n",
    "new_pixel_data = {\n",
    "    \"quantity\":\"8\"\n",
    "}\n",
    "response = requests.put(url=update_endpoint, json=new_pixel_data, headers=headers)\n",
    "print(response.text)"
   ]
  },
  {
   "cell_type": "markdown",
   "id": "d9427eaf",
   "metadata": {},
   "source": [
    "# 5. 픽셀 삭제(delete)"
   ]
  },
  {
   "cell_type": "code",
   "execution_count": 15,
   "id": "06edc2bc",
   "metadata": {},
   "outputs": [
    {
     "name": "stdout",
     "output_type": "stream",
     "text": [
      "{\"message\":\"Success.\",\"isSuccess\":true}\n"
     ]
    }
   ],
   "source": [
    "import requests\n",
    "from datetime import datetime\n",
    "\n",
    "USERNAME = \"ko\"\n",
    "TOKEN = \"my_token\"\n",
    "GRAPH_ID = \"my_id\"\n",
    "\n",
    "pixela_endpoint = \"https://pixe.la/v1/users\"\n",
    "user_parms = {\n",
    "    \"token\":TOKEN,\n",
    "    \"username\":USERNAME,\n",
    "    \"agreeTermsOfService\":\"yes\",\n",
    "    \"notMinor\":\"yes\"\n",
    "}\n",
    "\n",
    "graph_endpoint = f\"{pixela_endpoint}/{USERNAME}/graphs\"\n",
    "graph_config = {\n",
    "    \"id\":GRAPH_ID,\n",
    "    \"name\":\"Studying Graph\",\n",
    "    \"unit\":\"hours\",\n",
    "    \"type\":\"float\",\n",
    "    \"color\":\"ajisai\"\n",
    "}\n",
    "\n",
    "headers = {\n",
    "    \"X-USER-TOKEN\":TOKEN\n",
    "}\n",
    "\n",
    "pixel_creation_endpoint = f\"{pixela_endpoint}/{USERNAME}/graphs/{GRAPH_ID}\"\n",
    "\n",
    "today = datetime.now()\n",
    "pixel_data = {\n",
    "    \"date\": today.strftime(\"%Y%m%d\"), # strftime 날짜형식 변경\n",
    "    \"quantity\":\"4.4\",\n",
    "}\n",
    "\n",
    "update_endpoint = f\"{pixel_creation_endpoint}/{today.strftime('%Y%m%d')}\"\n",
    "new_pixel_data = {\n",
    "    \"quantity\":\"8\"\n",
    "}\n",
    "\n",
    "delete_endpoint = f\"{pixel_creation_endpoint}/{today.strftime('%Y%m%d')}\"\n",
    "\n",
    "response = requests.delete(url=update_endpoint, headers=headers)\n",
    "print(response.text)"
   ]
  },
  {
   "cell_type": "markdown",
   "id": "9f20d93b",
   "metadata": {},
   "source": [
    "# 6. pixel_data 사용자 지정 입력"
   ]
  },
  {
   "cell_type": "code",
   "execution_count": 16,
   "id": "2e43dff0",
   "metadata": {},
   "outputs": [
    {
     "name": "stdout",
     "output_type": "stream",
     "text": [
      "오늘 얼마나 공부했나요?10\n",
      "{\"message\":\"Success.\",\"isSuccess\":true}\n"
     ]
    }
   ],
   "source": [
    "import requests\n",
    "from datetime import datetime\n",
    "\n",
    "USERNAME = \"ko\"\n",
    "TOKEN = \"my_token\"\n",
    "GRAPH_ID = \"my_id\"\n",
    "\n",
    "pixela_endpoint = \"https://pixe.la/v1/users\"\n",
    "user_parms = {\n",
    "    \"token\":TOKEN,\n",
    "    \"username\":USERNAME,\n",
    "    \"agreeTermsOfService\":\"yes\",\n",
    "    \"notMinor\":\"yes\"\n",
    "}\n",
    "\n",
    "graph_endpoint = f\"{pixela_endpoint}/{USERNAME}/graphs\"\n",
    "graph_config = {\n",
    "    \"id\":GRAPH_ID,\n",
    "    \"name\":\"Studying Graph\",\n",
    "    \"unit\":\"hours\",\n",
    "    \"type\":\"float\",\n",
    "    \"color\":\"ajisai\"\n",
    "}\n",
    "\n",
    "headers = {\n",
    "    \"X-USER-TOKEN\":TOKEN\n",
    "}\n",
    "\n",
    "pixel_creation_endpoint = f\"{pixela_endpoint}/{USERNAME}/graphs/{GRAPH_ID}\"\n",
    "today = datetime.now()\n",
    "pixel_data = {\n",
    "    \"date\": today.strftime(\"%Y%m%d\"), # strftime 날짜형식 변경\n",
    "    \"quantity\":input(\"오늘 얼마나 공부했나요?\"),\n",
    "}\n",
    "response = requests.post(url=pixel_creation_endpoint, json=pixel_data, headers=headers)\n",
    "print(response.text)"
   ]
  },
  {
   "cell_type": "code",
   "execution_count": null,
   "id": "3114730b",
   "metadata": {},
   "outputs": [],
   "source": []
  }
 ],
 "metadata": {
  "kernelspec": {
   "display_name": "Python 3 (ipykernel)",
   "language": "python",
   "name": "python3"
  },
  "language_info": {
   "codemirror_mode": {
    "name": "ipython",
    "version": 3
   },
   "file_extension": ".py",
   "mimetype": "text/x-python",
   "name": "python",
   "nbconvert_exporter": "python",
   "pygments_lexer": "ipython3",
   "version": "3.9.12"
  }
 },
 "nbformat": 4,
 "nbformat_minor": 5
}
